{
 "cells": [
  {
   "cell_type": "markdown",
   "metadata": {
    "application/vnd.databricks.v1+cell": {
     "cellMetadata": {},
     "inputWidgets": {},
     "nuid": "436b568b-a472-4328-b8c9-212d20d56fb9",
     "showTitle": false,
     "tableResultSettingsMap": {},
     "title": ""
    },
    "id": "imQS4g52zsHM"
   },
   "source": [
    "### Installing required packages"
   ]
  },
  {
   "cell_type": "code",
   "execution_count": 1,
   "metadata": {
    "application/vnd.databricks.v1+cell": {
     "cellMetadata": {
      "byteLimit": 2048000,
      "rowLimit": 10000
     },
     "inputWidgets": {},
     "nuid": "4ca852a4-34c0-4256-83be-00324d713290",
     "showTitle": false,
     "tableResultSettingsMap": {},
     "title": ""
    },
    "colab": {
     "base_uri": "https://localhost:8080/"
    },
    "id": "jrWsiNN_zsHO",
    "outputId": "0db010aa-2617-4170-bb15-25769de76f65"
   },
   "outputs": [
    {
     "name": "stdout",
     "output_type": "stream",
     "text": [
      "Requirement already satisfied: uv in /Users/lanchu/mambaforge/envs/genAI/lib/python3.11/site-packages (0.8.15)\n",
      "\u001b[2mUsing Python 3.11.0 environment at: /Users/lanchu/mambaforge/envs/genAI\u001b[0m\n",
      "\u001b[2mAudited \u001b[1m1 package\u001b[0m \u001b[2min 27ms\u001b[0m\u001b[0m\n",
      "\u001b[2mUsing Python 3.11.0 environment at: /Users/lanchu/mambaforge/envs/genAI\u001b[0m\n",
      "\u001b[2mAudited \u001b[1m8 packages\u001b[0m \u001b[2min 30ms\u001b[0m\u001b[0m\n"
     ]
    }
   ],
   "source": [
    "!pip install uv\n",
    "!uv pip install \"numpy<2.0\"\n",
    "!uv pip install openai pandas sentence-transformers transformers altair beautifulsoup4 lxml superlinked==19.21.1"
   ]
  },
  {
   "cell_type": "markdown",
   "metadata": {
    "application/vnd.databricks.v1+cell": {
     "cellMetadata": {},
     "inputWidgets": {},
     "nuid": "6f02d21d-68be-4e0b-abf2-22a6903c1ae5",
     "showTitle": false,
     "tableResultSettingsMap": {},
     "title": ""
    },
    "id": "qWYevol5zsHO"
   },
   "source": [
    "### Setting up the Imports and setting up the intial library checks"
   ]
  },
  {
   "cell_type": "code",
   "execution_count": null,
   "metadata": {
    "application/vnd.databricks.v1+cell": {
     "cellMetadata": {
      "byteLimit": 2048000,
      "rowLimit": 10000
     },
     "inputWidgets": {},
     "nuid": "64b007c6-b187-4642-8a8a-0bb4d3a58913",
     "showTitle": false,
     "tableResultSettingsMap": {},
     "title": ""
    },
    "colab": {
     "base_uri": "https://localhost:8080/",
     "height": 438
    },
    "id": "idNHQDiGzsHP",
    "outputId": "f81c18ea-55e7-4bfb-fa64-c36727548cad"
   },
   "outputs": [],
   "source": [
    "import pandas as pd\n",
    "import superlinked.framework as sl\n",
    "from datetime import timedelta\n",
    "from sentence_transformers import SentenceTransformer\n",
    "from openai import OpenAI\n",
    "import os\n",
    "from abc import ABC, abstractmethod\n",
    "from typing import Any, Optional, Dict\n",
    "from tqdm import tqdm\n",
    "\n",
    "\n",
    "# Abstract Tool Class\n",
    "class Tool(ABC):\n",
    "    @abstractmethod\n",
    "    def name(self) -> str:\n",
    "        pass\n",
    "\n",
    "    @abstractmethod\n",
    "    def description(self) -> str:\n",
    "        pass\n",
    "\n",
    "    @abstractmethod\n",
    "    def use(self, *args, **kwargs) -> Any:\n",
    "        pass\n",
    "\n",
    "\n",
    "from dotenv import load_dotenv\n",
    "\n",
    "load_dotenv()\n",
    "\n",
    "# Initialize OpenAI Client\n",
    "api_key = os.getenv(\"OPENAI_API_KEY\")\n",
    "if not api_key:\n",
    "    raise ValueError(\"Please set the OPENAI_API_KEY environment variable.\")\n",
    "\n",
    "client = OpenAI(api_key=api_key)\n",
    "model = \"gpt-4o\""
   ]
  },
  {
   "cell_type": "markdown",
   "metadata": {
    "application/vnd.databricks.v1+cell": {
     "cellMetadata": {},
     "inputWidgets": {},
     "nuid": "6b43e502-81c1-414a-aafb-c97c84ea0dc4",
     "showTitle": false,
     "tableResultSettingsMap": {},
     "title": ""
    },
    "id": "b5jxe_IAzsHQ"
   },
   "source": [
    "### Downloading the relevant data"
   ]
  },
  {
   "cell_type": "markdown",
   "metadata": {
    "application/vnd.databricks.v1+cell": {
     "cellMetadata": {},
     "inputWidgets": {},
     "nuid": "ab9f67ac-81c7-4489-81a5-4bfcb17967db",
     "showTitle": false,
     "tableResultSettingsMap": {},
     "title": ""
    },
    "id": "vSEKGNESfakX"
   },
   "source": [
    "### Data Loading and Truncation\n",
    "\n",
    "To improve loading times, especially for users on the free Colab tier, the dataset is truncated to 100 rows by default. This means that only the first 100 entries from the original CSV file are loaded initially. You can change it to use the full dataset if you want!"
   ]
  },
  {
   "cell_type": "code",
   "execution_count": 3,
   "metadata": {
    "application/vnd.databricks.v1+cell": {
     "cellMetadata": {
      "byteLimit": 2048000,
      "rowLimit": 10000
     },
     "inputWidgets": {},
     "nuid": "3678d6ae-9968-4876-8997-0018ebfd1c13",
     "showTitle": false,
     "tableResultSettingsMap": {},
     "title": ""
    }
   },
   "outputs": [],
   "source": [
    "import requests\n",
    "from bs4 import BeautifulSoup\n",
    "from urllib.parse import urlencode\n",
    "import pandas as pd\n",
    "\n",
    "\n",
    "def query_arxiv(\n",
    "    query=\"%22large%20language%20models%22\",\n",
    "    max_results=2000,\n",
    "    order_by=\"lastUpdatedDate\",\n",
    "    order=\"descending\",\n",
    "):\n",
    "    \"\"\"\n",
    "    Basic function for querying the API that lets us specify the most important parameters.\n",
    "    query: URL encoded string to search for in paper titles and abstracts\n",
    "    max_results: maximum amount of results returned by the API\n",
    "    order_by: variable to order the results by\n",
    "    order: descending or ascending based on the order_by parameter\n",
    "    \"\"\"\n",
    "    params = {\n",
    "        \"search_query\": f\"all:{query}\",\n",
    "        \"start\": 0,\n",
    "        \"max_results\": max_results,\n",
    "        \"sortBy\": order_by,\n",
    "        \"sortOrder\": order,\n",
    "    }\n",
    "    url = f\"http://export.arxiv.org/api/query?{urlencode(params)}\"\n",
    "\n",
    "    try:\n",
    "        response = requests.get(url)\n",
    "        response.raise_for_status()\n",
    "        logging.info(f\"Length of response text: {len(response.text)}\")\n",
    "        soup = BeautifulSoup(response.text, \"xml\")\n",
    "        data = []\n",
    "        for entry in soup.find_all(\"entry\"):\n",
    "            data_entry = {tag.name: tag.text.strip() for tag in entry.find_all()}\n",
    "            if \"id\" in data_entry:  # Ensure there is an 'id' field\n",
    "                data.append(data_entry)\n",
    "        logging.info(f\"{len(data)} entries found\")\n",
    "        return pd.DataFrame(data)\n",
    "    except requests.exceptions.RequestException as e:\n",
    "        logging.error(f\"Error during request: {e}\")\n",
    "    except Exception as e:\n",
    "        logging.error(f\"Unexpected error: {e}\")\n",
    "    return pd.DataFrame()  # Return an empty DataFrame if there was an error"
   ]
  },
  {
   "cell_type": "code",
   "execution_count": 4,
   "metadata": {
    "application/vnd.databricks.v1+cell": {
     "cellMetadata": {
      "byteLimit": 2048000,
      "rowLimit": 10000
     },
     "inputWidgets": {},
     "nuid": "70b3c168-9da4-4caf-b394-59ddb34eb532",
     "showTitle": false,
     "tableResultSettingsMap": {},
     "title": ""
    }
   },
   "outputs": [],
   "source": [
    "import logging\n",
    "\n",
    "df = query_arxiv(query=\"%22artificial%20intelligence%22\")\n"
   ]
  },
  {
   "cell_type": "code",
   "execution_count": 5,
   "metadata": {
    "application/vnd.databricks.v1+cell": {
     "cellMetadata": {
      "byteLimit": 2048000,
      "rowLimit": 10000
     },
     "inputWidgets": {},
     "nuid": "29b8ef2c-c9d8-4061-a682-86f2210b8ae5",
     "showTitle": false,
     "tableResultSettingsMap": {},
     "title": ""
    }
   },
   "outputs": [],
   "source": [
    "from dateutil import parser\n",
    "from datetime import datetime, timedelta, timezone\n",
    "\n",
    "# The API returns the datetimes as a string, which we first parse\n",
    "# in the datetime format and then convert them to timestamps\n",
    "df[\"published\"] = [\n",
    "    parser.parse(date).replace(tzinfo=timezone.utc).timestamp() for date in df.published\n",
    "]"
   ]
  },
  {
   "cell_type": "markdown",
   "metadata": {
    "application/vnd.databricks.v1+cell": {
     "cellMetadata": {},
     "inputWidgets": {},
     "nuid": "e5ebd559-b24f-4190-baef-66ae1055369b",
     "showTitle": false,
     "tableResultSettingsMap": {},
     "title": ""
    },
    "id": "4E41H7swzsHT"
   },
   "source": [
    "## Understanding Time-Aware Paper Discovery with RecencySpace\n",
    "\n",
    "When searching through research papers, finding relevant content is only half the story - knowing when it was published can be just as important. That's why we've implemented a smart time-aware search system using RecencySpace. Imagine you're organizing your digital library: you want to find papers not just by what they're about, but also by when they were written. Our system does exactly that, but automatically and intelligently.\n",
    "\n",
    "We've set up our search to look at both what a paper contains and when it was published. Using different time windows (like papers from the last few months, the last year, or even older), our system can prioritize papers based on their publication dates while still keeping track of their relevance to your search. It's like having a research assistant who knows exactly how to balance the importance of time and content in your search results.\n",
    "\n",
    "For our collection of AI research papers this time-aware approach helps us understand how ideas evolved during these foundational years. When you search for topics like \"quantum computing\" or \"neural networks,\" the system doesn't just find papers containing these terms - it also considers their place in the timeline of AI development. This makes it easier to trace how concepts developed and changed over time, giving us a clearer picture of AI's historical progression."
   ]
  },
  {
   "cell_type": "code",
   "execution_count": 6,
   "metadata": {
    "application/vnd.databricks.v1+cell": {
     "cellMetadata": {
      "byteLimit": 2048000,
      "rowLimit": 10000
     },
     "inputWidgets": {},
     "nuid": "cbf4f99c-98b7-4bb0-8d38-07069d813e2d",
     "showTitle": false,
     "tableResultSettingsMap": {},
     "title": ""
    },
    "id": "YUW_nhL2zsHT"
   },
   "outputs": [],
   "source": [
    "class PaperSchema(sl.Schema):\n",
    "    text: sl.String\n",
    "    publication_date: sl.Timestamp  # This will handle datetime objects properly\n",
    "    vector_id: sl.IdField\n",
    "    pdf_name: sl.String\n",
    "    # summary: sl.String\n",
    "\n",
    "\n",
    "paper = PaperSchema()\n",
    "\n",
    "# Define spaces\n",
    "# text_space = sl.TextSimilaritySpace(\n",
    "#     text=sl.chunk(paper.text, chunk_size=200, chunk_overlap=50),\n",
    "#     model=\"sentence-transformers/all-mpnet-base-v2\",\n",
    "# )\n",
    "\n",
    "text_space = sl.TextSimilaritySpace(\n",
    "    text=paper.text,  # No chunking - keep documents as-is\n",
    "    model=\"sentence-transformers/all-mpnet-base-v2\",\n",
    ")\n",
    "recency_space = sl.RecencySpace(\n",
    "    timestamp=paper.publication_date,\n",
    "    period_time_list=[\n",
    "        sl.PeriodTime(timedelta(days=365)),  # papers within 1 year\n",
    "        sl.PeriodTime(timedelta(days=2 * 365)),  # papers within 2 years\n",
    "        sl.PeriodTime(timedelta(days=3 * 365)),  # papers within 3 years\n",
    "    ],\n",
    "    negative_filter=-0.25,\n",
    ")"
   ]
  },
  {
   "cell_type": "code",
   "execution_count": 7,
   "metadata": {
    "application/vnd.databricks.v1+cell": {
     "cellMetadata": {
      "byteLimit": 2048000,
      "rowLimit": 10000
     },
     "inputWidgets": {},
     "nuid": "4a557751-ed1a-48a1-a0d3-5e4b76a958f4",
     "showTitle": false,
     "tableResultSettingsMap": {},
     "title": ""
    }
   },
   "outputs": [
    {
     "data": {
      "text/html": [
       "<div>\n",
       "<style scoped>\n",
       "    .dataframe tbody tr th:only-of-type {\n",
       "        vertical-align: middle;\n",
       "    }\n",
       "\n",
       "    .dataframe tbody tr th {\n",
       "        vertical-align: top;\n",
       "    }\n",
       "\n",
       "    .dataframe thead th {\n",
       "        text-align: right;\n",
       "    }\n",
       "</style>\n",
       "<table border=\"1\" class=\"dataframe\">\n",
       "  <thead>\n",
       "    <tr style=\"text-align: right;\">\n",
       "      <th></th>\n",
       "      <th>vector_id</th>\n",
       "      <th>updated</th>\n",
       "      <th>publication_date</th>\n",
       "      <th>pdf_name</th>\n",
       "      <th>text</th>\n",
       "      <th>author</th>\n",
       "      <th>name</th>\n",
       "      <th>comment</th>\n",
       "      <th>link</th>\n",
       "      <th>primary_category</th>\n",
       "      <th>category</th>\n",
       "      <th>affiliation</th>\n",
       "      <th>doi</th>\n",
       "      <th>journal_ref</th>\n",
       "    </tr>\n",
       "  </thead>\n",
       "  <tbody>\n",
       "    <tr>\n",
       "      <th>0</th>\n",
       "      <td>http://arxiv.org/abs/2509.09679v1</td>\n",
       "      <td>2025-09-11T17:59:51Z</td>\n",
       "      <td>1.757614e+09</td>\n",
       "      <td>ButterflyQuant: Ultra-low-bit LLM Quantization...</td>\n",
       "      <td>Large language models require massive memory f...</td>\n",
       "      <td>Yuzhang Shang</td>\n",
       "      <td>Yuzhang Shang</td>\n",
       "      <td>Replace discrete Hadamard transforms with cont...</td>\n",
       "      <td></td>\n",
       "      <td></td>\n",
       "      <td></td>\n",
       "      <td>NaN</td>\n",
       "      <td>NaN</td>\n",
       "      <td>NaN</td>\n",
       "    </tr>\n",
       "    <tr>\n",
       "      <th>1</th>\n",
       "      <td>http://arxiv.org/abs/2509.09677v1</td>\n",
       "      <td>2025-09-11T17:59:34Z</td>\n",
       "      <td>1.757614e+09</td>\n",
       "      <td>The Illusion of Diminishing Returns: Measuring...</td>\n",
       "      <td>Does continued scaling of large language model...</td>\n",
       "      <td>Jonas Geiping</td>\n",
       "      <td>Jonas Geiping</td>\n",
       "      <td>NaN</td>\n",
       "      <td></td>\n",
       "      <td></td>\n",
       "      <td></td>\n",
       "      <td>NaN</td>\n",
       "      <td>NaN</td>\n",
       "      <td>NaN</td>\n",
       "    </tr>\n",
       "    <tr>\n",
       "      <th>2</th>\n",
       "      <td>http://arxiv.org/abs/2509.09674v1</td>\n",
       "      <td>2025-09-11T17:59:17Z</td>\n",
       "      <td>1.757614e+09</td>\n",
       "      <td>SimpleVLA-RL: Scaling VLA Training via Reinfor...</td>\n",
       "      <td>Vision-Language-Action (VLA) models have recen...</td>\n",
       "      <td>Ning Ding</td>\n",
       "      <td>Ning Ding</td>\n",
       "      <td>NaN</td>\n",
       "      <td></td>\n",
       "      <td></td>\n",
       "      <td></td>\n",
       "      <td>NaN</td>\n",
       "      <td>NaN</td>\n",
       "      <td>NaN</td>\n",
       "    </tr>\n",
       "    <tr>\n",
       "      <th>3</th>\n",
       "      <td>http://arxiv.org/abs/2509.09675v1</td>\n",
       "      <td>2025-09-11T17:59:17Z</td>\n",
       "      <td>1.757614e+09</td>\n",
       "      <td>CDE: Curiosity-Driven Exploration for Efficien...</td>\n",
       "      <td>Reinforcement Learning with Verifiable Rewards...</td>\n",
       "      <td>Dong Yu</td>\n",
       "      <td>Dong Yu</td>\n",
       "      <td>21 pages</td>\n",
       "      <td></td>\n",
       "      <td></td>\n",
       "      <td></td>\n",
       "      <td>NaN</td>\n",
       "      <td>NaN</td>\n",
       "      <td>NaN</td>\n",
       "    </tr>\n",
       "    <tr>\n",
       "      <th>4</th>\n",
       "      <td>http://arxiv.org/abs/2509.06602v2</td>\n",
       "      <td>2025-09-11T17:52:20Z</td>\n",
       "      <td>1.757334e+09</td>\n",
       "      <td>Demo: Healthcare Agent Orchestrator (HAO) for ...</td>\n",
       "      <td>Molecular Tumor Boards (MTBs) are multidiscipl...</td>\n",
       "      <td>Thomas Osborne</td>\n",
       "      <td>Thomas Osborne</td>\n",
       "      <td>9 pages, 1 figure; Added missing co-authors an...</td>\n",
       "      <td></td>\n",
       "      <td></td>\n",
       "      <td></td>\n",
       "      <td>NaN</td>\n",
       "      <td>NaN</td>\n",
       "      <td>NaN</td>\n",
       "    </tr>\n",
       "    <tr>\n",
       "      <th>...</th>\n",
       "      <td>...</td>\n",
       "      <td>...</td>\n",
       "      <td>...</td>\n",
       "      <td>...</td>\n",
       "      <td>...</td>\n",
       "      <td>...</td>\n",
       "      <td>...</td>\n",
       "      <td>...</td>\n",
       "      <td>...</td>\n",
       "      <td>...</td>\n",
       "      <td>...</td>\n",
       "      <td>...</td>\n",
       "      <td>...</td>\n",
       "      <td>...</td>\n",
       "    </tr>\n",
       "    <tr>\n",
       "      <th>1995</th>\n",
       "      <td>http://arxiv.org/abs/2507.21407v2</td>\n",
       "      <td>2025-08-30T06:01:56Z</td>\n",
       "      <td>1.753749e+09</td>\n",
       "      <td>Graph-Augmented Large Language Model Agents: C...</td>\n",
       "      <td>Autonomous agents based on large language mode...</td>\n",
       "      <td>Shirui Pan</td>\n",
       "      <td>Shirui Pan</td>\n",
       "      <td>15 pages, 7 figures</td>\n",
       "      <td></td>\n",
       "      <td></td>\n",
       "      <td></td>\n",
       "      <td>NaN</td>\n",
       "      <td>NaN</td>\n",
       "      <td>NaN</td>\n",
       "    </tr>\n",
       "    <tr>\n",
       "      <th>1996</th>\n",
       "      <td>http://arxiv.org/abs/2509.00373v1</td>\n",
       "      <td>2025-08-30T06:00:53Z</td>\n",
       "      <td>1.756534e+09</td>\n",
       "      <td>Activation Steering Meets Preference Optimizat...</td>\n",
       "      <td>Vision Language Models (VLMs) have demonstrate...</td>\n",
       "      <td>Xiaowei Huang</td>\n",
       "      <td>Xiaowei Huang</td>\n",
       "      <td>NaN</td>\n",
       "      <td></td>\n",
       "      <td></td>\n",
       "      <td></td>\n",
       "      <td>NaN</td>\n",
       "      <td>NaN</td>\n",
       "      <td>NaN</td>\n",
       "    </tr>\n",
       "    <tr>\n",
       "      <th>1997</th>\n",
       "      <td>http://arxiv.org/abs/2507.00445v2</td>\n",
       "      <td>2025-08-30T05:54:19Z</td>\n",
       "      <td>1.751349e+09</td>\n",
       "      <td>Iterative Distillation for Reward-Guided Fine-...</td>\n",
       "      <td>We address the problem of fine-tuning diffusio...</td>\n",
       "      <td>Shuiwang Ji</td>\n",
       "      <td>Shuiwang Ji</td>\n",
       "      <td>NaN</td>\n",
       "      <td></td>\n",
       "      <td></td>\n",
       "      <td></td>\n",
       "      <td>NaN</td>\n",
       "      <td>NaN</td>\n",
       "      <td>NaN</td>\n",
       "    </tr>\n",
       "    <tr>\n",
       "      <th>1998</th>\n",
       "      <td>http://arxiv.org/abs/2508.20547v2</td>\n",
       "      <td>2025-08-30T05:51:05Z</td>\n",
       "      <td>1.756370e+09</td>\n",
       "      <td>SPGrasp: Spatiotemporal Prompt-driven Grasp Sy...</td>\n",
       "      <td>Real-time interactive grasp synthesis for dyna...</td>\n",
       "      <td>Jie Chen</td>\n",
       "      <td>Jie Chen</td>\n",
       "      <td>NaN</td>\n",
       "      <td></td>\n",
       "      <td></td>\n",
       "      <td></td>\n",
       "      <td>NaN</td>\n",
       "      <td>NaN</td>\n",
       "      <td>NaN</td>\n",
       "    </tr>\n",
       "    <tr>\n",
       "      <th>1999</th>\n",
       "      <td>http://arxiv.org/abs/2506.12299v2</td>\n",
       "      <td>2025-08-30T05:37:09Z</td>\n",
       "      <td>1.749864e+09</td>\n",
       "      <td>QGuard:Question-based Zero-shot Guard for Mult...</td>\n",
       "      <td>The recent advancements in Large Language Mode...</td>\n",
       "      <td>Yunho Maeng</td>\n",
       "      <td>Yunho Maeng</td>\n",
       "      <td>Accept to ACLW 2025 (WOAH)</td>\n",
       "      <td></td>\n",
       "      <td></td>\n",
       "      <td></td>\n",
       "      <td>NaN</td>\n",
       "      <td>NaN</td>\n",
       "      <td>ACL Workshop 2025</td>\n",
       "    </tr>\n",
       "  </tbody>\n",
       "</table>\n",
       "<p>2000 rows × 14 columns</p>\n",
       "</div>"
      ],
      "text/plain": [
       "                              vector_id               updated  \\\n",
       "0     http://arxiv.org/abs/2509.09679v1  2025-09-11T17:59:51Z   \n",
       "1     http://arxiv.org/abs/2509.09677v1  2025-09-11T17:59:34Z   \n",
       "2     http://arxiv.org/abs/2509.09674v1  2025-09-11T17:59:17Z   \n",
       "3     http://arxiv.org/abs/2509.09675v1  2025-09-11T17:59:17Z   \n",
       "4     http://arxiv.org/abs/2509.06602v2  2025-09-11T17:52:20Z   \n",
       "...                                 ...                   ...   \n",
       "1995  http://arxiv.org/abs/2507.21407v2  2025-08-30T06:01:56Z   \n",
       "1996  http://arxiv.org/abs/2509.00373v1  2025-08-30T06:00:53Z   \n",
       "1997  http://arxiv.org/abs/2507.00445v2  2025-08-30T05:54:19Z   \n",
       "1998  http://arxiv.org/abs/2508.20547v2  2025-08-30T05:51:05Z   \n",
       "1999  http://arxiv.org/abs/2506.12299v2  2025-08-30T05:37:09Z   \n",
       "\n",
       "      publication_date                                           pdf_name  \\\n",
       "0         1.757614e+09  ButterflyQuant: Ultra-low-bit LLM Quantization...   \n",
       "1         1.757614e+09  The Illusion of Diminishing Returns: Measuring...   \n",
       "2         1.757614e+09  SimpleVLA-RL: Scaling VLA Training via Reinfor...   \n",
       "3         1.757614e+09  CDE: Curiosity-Driven Exploration for Efficien...   \n",
       "4         1.757334e+09  Demo: Healthcare Agent Orchestrator (HAO) for ...   \n",
       "...                ...                                                ...   \n",
       "1995      1.753749e+09  Graph-Augmented Large Language Model Agents: C...   \n",
       "1996      1.756534e+09  Activation Steering Meets Preference Optimizat...   \n",
       "1997      1.751349e+09  Iterative Distillation for Reward-Guided Fine-...   \n",
       "1998      1.756370e+09  SPGrasp: Spatiotemporal Prompt-driven Grasp Sy...   \n",
       "1999      1.749864e+09  QGuard:Question-based Zero-shot Guard for Mult...   \n",
       "\n",
       "                                                   text          author  \\\n",
       "0     Large language models require massive memory f...   Yuzhang Shang   \n",
       "1     Does continued scaling of large language model...   Jonas Geiping   \n",
       "2     Vision-Language-Action (VLA) models have recen...       Ning Ding   \n",
       "3     Reinforcement Learning with Verifiable Rewards...         Dong Yu   \n",
       "4     Molecular Tumor Boards (MTBs) are multidiscipl...  Thomas Osborne   \n",
       "...                                                 ...             ...   \n",
       "1995  Autonomous agents based on large language mode...      Shirui Pan   \n",
       "1996  Vision Language Models (VLMs) have demonstrate...   Xiaowei Huang   \n",
       "1997  We address the problem of fine-tuning diffusio...     Shuiwang Ji   \n",
       "1998  Real-time interactive grasp synthesis for dyna...        Jie Chen   \n",
       "1999  The recent advancements in Large Language Mode...     Yunho Maeng   \n",
       "\n",
       "                name                                            comment link  \\\n",
       "0      Yuzhang Shang  Replace discrete Hadamard transforms with cont...        \n",
       "1      Jonas Geiping                                                NaN        \n",
       "2          Ning Ding                                                NaN        \n",
       "3            Dong Yu                                           21 pages        \n",
       "4     Thomas Osborne  9 pages, 1 figure; Added missing co-authors an...        \n",
       "...              ...                                                ...  ...   \n",
       "1995      Shirui Pan                                15 pages, 7 figures        \n",
       "1996   Xiaowei Huang                                                NaN        \n",
       "1997     Shuiwang Ji                                                NaN        \n",
       "1998        Jie Chen                                                NaN        \n",
       "1999     Yunho Maeng                         Accept to ACLW 2025 (WOAH)        \n",
       "\n",
       "     primary_category category affiliation  doi        journal_ref  \n",
       "0                                      NaN  NaN                NaN  \n",
       "1                                      NaN  NaN                NaN  \n",
       "2                                      NaN  NaN                NaN  \n",
       "3                                      NaN  NaN                NaN  \n",
       "4                                      NaN  NaN                NaN  \n",
       "...               ...      ...         ...  ...                ...  \n",
       "1995                                   NaN  NaN                NaN  \n",
       "1996                                   NaN  NaN                NaN  \n",
       "1997                                   NaN  NaN                NaN  \n",
       "1998                                   NaN  NaN                NaN  \n",
       "1999                                   NaN  NaN  ACL Workshop 2025  \n",
       "\n",
       "[2000 rows x 14 columns]"
      ]
     },
     "execution_count": 7,
     "metadata": {},
     "output_type": "execute_result"
    }
   ],
   "source": [
    "df = df.rename(\n",
    "    {\n",
    "        \"published\": \"publication_date\",\n",
    "        \"title\": \"pdf_name\",\n",
    "        \"summary\": \"text\",\n",
    "        \"id\": \"vector_id\",\n",
    "    },\n",
    "    axis=1,\n",
    ")\n",
    "df"
   ]
  },
  {
   "cell_type": "code",
   "execution_count": 8,
   "metadata": {
    "application/vnd.databricks.v1+cell": {
     "cellMetadata": {
      "byteLimit": 2048000,
      "rowLimit": 10000
     },
     "inputWidgets": {},
     "nuid": "7dfd8ce8-1fd5-485e-87b2-76e3b7fb30d5",
     "showTitle": false,
     "tableResultSettingsMap": {},
     "title": ""
    }
   },
   "outputs": [],
   "source": [
    "class PaperSchema(sl.Schema):\n",
    "    text: sl.String\n",
    "    publication_date: sl.Timestamp  # This will handle datetime objects properly\n",
    "    vector_id: sl.IdField\n",
    "    pdf_name: sl.String\n",
    "    # summary: sl.String\n",
    "\n",
    "\n",
    "paper = PaperSchema()\n",
    "\n",
    "# Define spaces\n",
    "# text_space = sl.TextSimilaritySpace(\n",
    "#     text=sl.chunk(paper.text, chunk_size=200, chunk_overlap=50),\n",
    "#     model=\"sentence-transformers/all-mpnet-base-v2\",\n",
    "# )\n",
    "\n",
    "text_space = sl.TextSimilaritySpace(\n",
    "    text=paper.text,  # No chunking - keep documents as-is\n",
    "    model=\"sentence-transformers/all-mpnet-base-v2\",\n",
    ")\n",
    "recency_space = sl.RecencySpace(\n",
    "    timestamp=paper.publication_date,\n",
    "    period_time_list=[\n",
    "        sl.PeriodTime(timedelta(days=365)),  # papers within 1 year\n",
    "        sl.PeriodTime(timedelta(days=2 * 365)),  # papers within 2 years\n",
    "        sl.PeriodTime(timedelta(days=3 * 365)),  # papers within 3 years\n",
    "    ],\n",
    "    negative_filter=-0.25,\n",
    ")"
   ]
  },
  {
   "cell_type": "markdown",
   "metadata": {
    "application/vnd.databricks.v1+cell": {
     "cellMetadata": {},
     "inputWidgets": {},
     "nuid": "8f5e0931-2a05-47f6-94f2-633d192326e1",
     "showTitle": false,
     "tableResultSettingsMap": {},
     "title": ""
    },
    "id": "05uWM0XizsHU"
   },
   "source": [
    "### Creating the index and ingesting the relevant data. we are using the in-memory superlinked executor to ingest the data\n"
   ]
  },
  {
   "cell_type": "code",
   "execution_count": 9,
   "metadata": {
    "application/vnd.databricks.v1+cell": {
     "cellMetadata": {
      "byteLimit": 2048000,
      "rowLimit": 10000
     },
     "inputWidgets": {},
     "nuid": "4658dfc1-513d-4edb-855c-0a75a5f3ee6b",
     "showTitle": false,
     "tableResultSettingsMap": {},
     "title": ""
    }
   },
   "outputs": [
    {
     "name": "stderr",
     "output_type": "stream",
     "text": [
      "Loading Data into Source: 100%|██████████| 20/20 [08:05<00:00, 24.26s/it]\n"
     ]
    }
   ],
   "source": [
    "# Create the index\n",
    "paper_index = sl.Index([text_space, recency_space])\n",
    "# df[\"publication_date\"] = df[\"publication_date\"] / 1e9  # Convert from nanoseconds to seconds\n",
    "\n",
    "\n",
    "# Parser to map DataFrame columns to schema fields\n",
    "parser = sl.DataFrameParser(\n",
    "    paper,\n",
    "    mapping={\n",
    "        paper.vector_id: \"vector_id\",\n",
    "        paper.publication_date: \"publication_date\",\n",
    "        paper.text: \"text\",\n",
    "        paper.pdf_name: \"pdf_name\",\n",
    "        # paper.summary: \"summary\",\n",
    "    },\n",
    ")\n",
    "\n",
    "# Set up in-memory source and executor\n",
    "source = sl.InMemorySource(paper, parser=parser)\n",
    "executor = sl.InMemoryExecutor(sources=[source], indices=[paper_index])\n",
    "app = executor.run()\n",
    "\n",
    "# Load the DataFrame with a progress bar using batches\n",
    "batch_size = 100\n",
    "data_batches = [df[i : i + batch_size] for i in range(0, len(df), batch_size)]\n",
    "for batch in tqdm(\n",
    "    data_batches, total=len(data_batches), desc=\"Loading Data into Source\"\n",
    "):\n",
    "    source.put(batch)"
   ]
  },
  {
   "cell_type": "markdown",
   "metadata": {
    "application/vnd.databricks.v1+cell": {
     "cellMetadata": {},
     "inputWidgets": {},
     "nuid": "5c4c2a79-f233-4e72-a715-d9ad3350953f",
     "showTitle": false,
     "tableResultSettingsMap": {},
     "title": ""
    },
    "id": "UvRq6cWdzsHU"
   },
   "source": [
    "### Query definition"
   ]
  },
  {
   "cell_type": "code",
   "execution_count": 16,
   "metadata": {
    "application/vnd.databricks.v1+cell": {
     "cellMetadata": {
      "byteLimit": 2048000,
      "rowLimit": 10000
     },
     "inputWidgets": {},
     "nuid": "5a263924-664e-40d1-bf7d-0e2ed15b09ca",
     "showTitle": false,
     "tableResultSettingsMap": {},
     "title": ""
    },
    "id": "MNsIF98ezsHV"
   },
   "outputs": [],
   "source": [
    "# Define the query\n",
    "knowledgebase_query = (\n",
    "    sl.Query(\n",
    "        paper_index,\n",
    "        weights={\n",
    "            text_space: sl.Param(\"relevance_weight\"),\n",
    "            recency_space: sl.Param(\"recency_weight\"),\n",
    "        },\n",
    "    )\n",
    "    .find(paper)\n",
    "    .similar(text_space, sl.Param(\"search_query\"))\n",
    "    .select(paper.vector_id, paper.publication_date, paper.text, paper.pdf_name)\n",
    "    .limit(sl.Param(\"limit\"))\n",
    ")"
   ]
  },
  {
   "cell_type": "markdown",
   "metadata": {
    "application/vnd.databricks.v1+cell": {
     "cellMetadata": {},
     "inputWidgets": {},
     "nuid": "04c54d5c-fc36-45b2-bf37-dfa42b13359d",
     "showTitle": false,
     "tableResultSettingsMap": {},
     "title": ""
    },
    "id": "rgBJz6avzsHV"
   },
   "source": [
    "### Defining the tools for the kernel agent"
   ]
  },
  {
   "cell_type": "markdown",
   "metadata": {
    "application/vnd.databricks.v1+cell": {
     "cellMetadata": {},
     "inputWidgets": {},
     "nuid": "39e1459b-0e47-4733-943f-5274f7c537f0",
     "showTitle": false,
     "tableResultSettingsMap": {},
     "title": ""
    },
    "id": "vIBL9FuCzsHV"
   },
   "source": [
    "### Retrieval Tool"
   ]
  },
  {
   "cell_type": "code",
   "execution_count": 17,
   "metadata": {
    "application/vnd.databricks.v1+cell": {
     "cellMetadata": {
      "byteLimit": 2048000,
      "rowLimit": 10000
     },
     "inputWidgets": {},
     "nuid": "a59fb2a2-33f1-4804-8342-a26b5ef66393",
     "showTitle": false,
     "tableResultSettingsMap": {},
     "title": ""
    },
    "id": "qHjKsMjDzsHV"
   },
   "outputs": [],
   "source": [
    "class RetrievalTool(Tool):\n",
    "    def __init__(self, df, app, knowledgebase_query, client, model):\n",
    "        self.df = df\n",
    "        self.app = app\n",
    "        self.knowledgebase_query = knowledgebase_query\n",
    "        self.client = client\n",
    "        self.model = model\n",
    "\n",
    "    def name(self) -> str:\n",
    "        return \"RetrievalTool\"\n",
    "\n",
    "    def description(self) -> str:\n",
    "        return \"Retrieves a list of relevant papers based on a query using Superlinked.\"\n",
    "\n",
    "    def use(self, query: str) -> pd.DataFrame:\n",
    "        result = self.app.query(\n",
    "            self.knowledgebase_query,\n",
    "            relevance_weight=1.0,\n",
    "            # recency_weight=0.5,\n",
    "            search_query=query,\n",
    "            limit=5,\n",
    "        )\n",
    "        df_result = sl.PandasConverter.to_pandas(result)\n",
    "        # Ensure summary is a string\n",
    "        if \"summary\" in df_result.columns:\n",
    "            df_result[\"summary\"] = df_result[\"summary\"].astype(str)\n",
    "        else:\n",
    "            print(\"Warning: 'summary' column not found in retrieved DataFrame.\")\n",
    "        return df_result"
   ]
  },
  {
   "cell_type": "markdown",
   "metadata": {
    "application/vnd.databricks.v1+cell": {
     "cellMetadata": {},
     "inputWidgets": {},
     "nuid": "1ff0323a-1f8d-4950-938d-59c112344e97",
     "showTitle": false,
     "tableResultSettingsMap": {},
     "title": ""
    },
    "id": "krt1ZDbqzsHW"
   },
   "source": [
    "### Summarization Tool"
   ]
  },
  {
   "cell_type": "code",
   "execution_count": 18,
   "metadata": {
    "application/vnd.databricks.v1+cell": {
     "cellMetadata": {
      "byteLimit": 2048000,
      "rowLimit": 10000
     },
     "inputWidgets": {},
     "nuid": "27e49b65-7a88-4a02-b049-0aaeebf1ecd1",
     "showTitle": false,
     "tableResultSettingsMap": {},
     "title": ""
    },
    "id": "91GnOxVazsHW"
   },
   "outputs": [],
   "source": [
    "class SummarizationTool(Tool):\n",
    "    def __init__(self, df, client, model):\n",
    "        self.df = df\n",
    "        self.client = client\n",
    "        self.model = model\n",
    "\n",
    "    def name(self) -> str:\n",
    "        return \"SummarizationTool\"\n",
    "\n",
    "    def description(self) -> str:\n",
    "        return \"Generates a concise summary of specified papers using an LLM.\"\n",
    "\n",
    "    def use(self, query: str, paper_ids: list) -> str:\n",
    "        papers = self.df[self.df[\"entry_id\"].isin(paper_ids)]\n",
    "        if papers.empty:\n",
    "            return \"No papers found with the given IDs.\"\n",
    "        summaries = papers[\"summary\"].tolist()\n",
    "        summary_str = \"\\n\\n\".join(summaries)\n",
    "        prompt = f\"\"\"\n",
    "        Summarize the following paper summaries:\\n\\n{summary_str}\\n\\nProvide a concise summary.\n",
    "        \"\"\"\n",
    "        response = self.client.chat.completions.create(\n",
    "            model=self.model,\n",
    "            messages=[{\"role\": \"user\", \"content\": prompt}],\n",
    "            temperature=0,\n",
    "            max_tokens=500,\n",
    "        )\n",
    "        return response.choices[0].message.content.strip()"
   ]
  },
  {
   "cell_type": "markdown",
   "metadata": {
    "application/vnd.databricks.v1+cell": {
     "cellMetadata": {},
     "inputWidgets": {},
     "nuid": "6e78183e-f06a-4b09-b048-d80582dd131c",
     "showTitle": false,
     "tableResultSettingsMap": {},
     "title": ""
    },
    "id": "jtFVy9LAzsHW"
   },
   "source": [
    "### Question Answer Tool"
   ]
  },
  {
   "cell_type": "code",
   "execution_count": 19,
   "metadata": {
    "application/vnd.databricks.v1+cell": {
     "cellMetadata": {
      "byteLimit": 2048000,
      "rowLimit": 10000
     },
     "inputWidgets": {},
     "nuid": "166b06fd-aef5-4478-9bfe-3978650ce312",
     "showTitle": false,
     "tableResultSettingsMap": {},
     "title": ""
    },
    "id": "yOOH3LYkzsHW"
   },
   "outputs": [],
   "source": [
    "class QuestionAnsweringTool(Tool):\n",
    "    def __init__(self, retrieval_tool, client, model):\n",
    "        self.retrieval_tool = retrieval_tool\n",
    "        self.client = client\n",
    "        self.model = model\n",
    "\n",
    "    def name(self) -> str:\n",
    "        return \"QuestionAnsweringTool\"\n",
    "\n",
    "    def description(self) -> str:\n",
    "        return \"Answers questions about research topics using retrieved paper summaries or general knowledge if no specific context is available.\"\n",
    "\n",
    "    def use(self, query: str) -> str:\n",
    "        df_result = self.retrieval_tool.use(query)\n",
    "        # if \"text\" not in df_result.columns:\n",
    "        #     # Tag as a general question if summary is missing\n",
    "        #     prompt = f\"\"\"\n",
    "        #     You are a knowledgeable research assistant.\n",
    "        #     This is a general question tagged as [GENERAL].\n",
    "        #     Answer based on the paper provided to you. If you don't know the answer, provide a brief explanation of why.\n",
    "\n",
    "        #     User's question: {query}\n",
    "        #     \"\"\"\n",
    "        # else:\n",
    "        # Use paper summaries for specific context\n",
    "        print(df_result.head(1))\n",
    "        contexts = df_result[\"text\"].tolist()\n",
    "        context_str = \"\\n\\n\".join(contexts)\n",
    "        prompt = f\"\"\"\n",
    "        You are a research assistant. Use the following paper to answer the user's question. There is definitely information in the paper.\n",
    "        Paper summaries:\n",
    "        {context_str}\n",
    "\n",
    "        User's question: {query}\n",
    "        \"\"\"\n",
    "        response = self.client.chat.completions.create(\n",
    "            model=self.model,\n",
    "            messages=[{\"role\": \"user\", \"content\": prompt}],\n",
    "            temperature=0,\n",
    "            max_tokens=500,\n",
    "        )\n",
    "        return response.choices[0].message.content.strip()"
   ]
  },
  {
   "cell_type": "markdown",
   "metadata": {
    "application/vnd.databricks.v1+cell": {
     "cellMetadata": {},
     "inputWidgets": {},
     "nuid": "b7bd96bd-8a5b-4b54-bf87-a99c7ee6dcc8",
     "showTitle": false,
     "tableResultSettingsMap": {},
     "title": ""
    },
    "id": "ivbNnN7HzsHW"
   },
   "source": [
    "### Setting up the kernel agent"
   ]
  },
  {
   "cell_type": "code",
   "execution_count": 20,
   "metadata": {
    "application/vnd.databricks.v1+cell": {
     "cellMetadata": {
      "byteLimit": 2048000,
      "rowLimit": 10000
     },
     "inputWidgets": {},
     "nuid": "4fc7c597-c7f5-4402-8251-a287639bae9a",
     "showTitle": false,
     "tableResultSettingsMap": {},
     "title": ""
    },
    "id": "_044s1W_zsHX"
   },
   "outputs": [],
   "source": [
    "class KernelAgent:\n",
    "    def __init__(\n",
    "        self,\n",
    "        retrieval_tool: RetrievalTool,\n",
    "        summarization_tool: SummarizationTool,\n",
    "        question_answering_tool: QuestionAnsweringTool,\n",
    "        client,\n",
    "        model,\n",
    "    ):\n",
    "        self.retrieval_tool = retrieval_tool\n",
    "        self.summarization_tool = summarization_tool\n",
    "        self.question_answering_tool = question_answering_tool\n",
    "        self.client = client\n",
    "        self.model = model\n",
    "\n",
    "    def classify_query(self, query: str) -> str:\n",
    "        prompt = f\"\"\"\n",
    "        Classify the following user prompt into one of the three categories:\n",
    "        - retrieval: The user wants to find a list of papers based on some criteria (e.g., 'Find papers on AI ethics from 2020').\n",
    "        - summarization: The user wants to summarize a list of papers (e.g., 'Summarize papers with entry_id 123, 456, 789').\n",
    "        - question_answering: The user wants to ask a question about research topics and get an answer (e.g., 'What is the current ecb rates?').\n",
    "\n",
    "        User prompt: {query}\n",
    "\n",
    "        Respond with only the category name (retrieval, summarization, question_answering).\n",
    "        If unsure, respond with 'unknown'.\n",
    "        \"\"\"\n",
    "        response = self.client.chat.completions.create(\n",
    "            model=self.model,\n",
    "            messages=[{\"role\": \"user\", \"content\": prompt}],\n",
    "            temperature=0,\n",
    "            # max_tokens=10,\n",
    "        )\n",
    "        classification = response.choices[0].message.content.strip().lower()\n",
    "        print(f\"Query type: {classification}\")\n",
    "        return classification\n",
    "\n",
    "    def process_query(self, query: str, params: Optional[Dict] = None) -> str:\n",
    "        query_type = self.classify_query(query)\n",
    "        if query_type == \"retrieval\":\n",
    "            df_result = self.retrieval_tool.use(query)\n",
    "            response = \"Here are the top papers:\\n\"\n",
    "            for i, row in df_result.iterrows():\n",
    "                # Ensure summary is a string and handle empty cases\n",
    "                summary = str(row[\"text\"]) if pd.notna(row[\"text\"]) else \"\"\n",
    "                response += f\"{i+1}. {row['pdf_name']} \\nSummary: {summary}...\\n\\n\"\n",
    "            return response\n",
    "        elif query_type == \"summarization\":\n",
    "            if not params or \"paper_ids\" not in params:\n",
    "                return \"Error: Summarization query requires a 'paper_ids' parameter with a list of entry_ids.\"\n",
    "            return self.summarization_tool.use(query, params[\"paper_ids\"])\n",
    "        elif query_type == \"question_answering\":\n",
    "            return self.question_answering_tool.use(query)\n",
    "        else:\n",
    "            return \"Error: Unable to classify query as 'retrieval', 'summarization', or 'question_answering'.\""
   ]
  },
  {
   "cell_type": "code",
   "execution_count": 21,
   "metadata": {
    "application/vnd.databricks.v1+cell": {
     "cellMetadata": {
      "byteLimit": 2048000,
      "rowLimit": 10000
     },
     "inputWidgets": {},
     "nuid": "f157724d-9063-45e5-b6bd-dc7e71b5b25a",
     "showTitle": false,
     "tableResultSettingsMap": {},
     "title": ""
    },
    "id": "kMAd4Gl9zsHX"
   },
   "outputs": [],
   "source": [
    "retrieval_tool = RetrievalTool(df, app, knowledgebase_query, client, model)\n",
    "summarization_tool = SummarizationTool(df, client, model)\n",
    "question_answering_tool = QuestionAnsweringTool(retrieval_tool, client, model)\n",
    "\n",
    "# Initialize KernelAgent\n",
    "kernel_agent = KernelAgent(\n",
    "    retrieval_tool, summarization_tool, question_answering_tool, client, model\n",
    ")"
   ]
  },
  {
   "cell_type": "code",
   "execution_count": 0,
   "metadata": {
    "application/vnd.databricks.v1+cell": {
     "cellMetadata": {
      "byteLimit": 2048000,
      "rowLimit": 10000
     },
     "inputWidgets": {},
     "nuid": "a4cde944-128c-4e07-ac30-4dfda56c93c8",
     "showTitle": false,
     "tableResultSettingsMap": {},
     "title": ""
    }
   },
   "outputs": [],
   "source": [
    "from superlinked.framework.common.parser.dataframe_parser import DataFrameParser\n",
    "\n",
    "dataframe_parser = DataFrameParser(\n",
    "    schema=paper,\n",
    "    mapping={paper.publication_date: \"publication_date\", paper.text: \"text\"},\n",
    ")"
   ]
  },
  {
   "cell_type": "code",
   "execution_count": 0,
   "metadata": {
    "application/vnd.databricks.v1+cell": {
     "cellMetadata": {
      "byteLimit": 2048000,
      "rowLimit": 10000
     },
     "inputWidgets": {},
     "nuid": "886f3fd0-571e-4113-a2d3-90bbc82671c3",
     "showTitle": false,
     "tableResultSettingsMap": {},
     "title": ""
    }
   },
   "outputs": [],
   "source": [
    "from superlinked.framework.common.dag.context import CONTEXT_COMMON, CONTEXT_COMMON_NOW\n",
    "from superlinked.framework.dsl.source.in_memory_source import InMemorySource\n",
    "from superlinked.framework.dsl.executor.in_memory.in_memory_executor import (\n",
    "    InMemoryExecutor,\n",
    "    InMemoryApp,\n",
    ")\n",
    "\n",
    "# Setting a specific end date to ensure reproducibility of the notebook\n",
    "END_OF_APRIL_24_TS = int(datetime(2025, 9, 10, 23, 59).timestamp())\n",
    "EXECUTOR_DATA = {CONTEXT_COMMON: {CONTEXT_COMMON_NOW: END_OF_APRIL_24_TS}}\n",
    "source: InMemorySource = InMemorySource(paper, parser=dataframe_parser)\n",
    "executor: InMemoryExecutor = InMemoryExecutor(\n",
    "    sources=[source], indices=[paper_index], context_data=EXECUTOR_DATA\n",
    ")\n",
    "app: InMemoryApp = executor.run()"
   ]
  },
  {
   "cell_type": "code",
   "execution_count": 0,
   "metadata": {
    "application/vnd.databricks.v1+cell": {
     "cellMetadata": {
      "byteLimit": 2048000,
      "rowLimit": 10000
     },
     "inputWidgets": {},
     "nuid": "1c7229b4-684c-4ed7-ae44-95a7ac158364",
     "showTitle": false,
     "tableResultSettingsMap": {},
     "title": ""
    }
   },
   "outputs": [
    {
     "data": {
      "text/html": [
       "\n",
       "<style>\n",
       "  #altair-viz-6a2f6bb2bb7c49e8b87a6f3f55295efb.vega-embed {\n",
       "    width: 100%;\n",
       "    display: flex;\n",
       "  }\n",
       "\n",
       "  #altair-viz-6a2f6bb2bb7c49e8b87a6f3f55295efb.vega-embed details,\n",
       "  #altair-viz-6a2f6bb2bb7c49e8b87a6f3f55295efb.vega-embed details summary {\n",
       "    position: relative;\n",
       "  }\n",
       "</style>\n",
       "<div id=\"altair-viz-6a2f6bb2bb7c49e8b87a6f3f55295efb\"></div>\n",
       "<script type=\"text/javascript\">\n",
       "  var VEGA_DEBUG = (typeof VEGA_DEBUG == \"undefined\") ? {} : VEGA_DEBUG;\n",
       "  (function(spec, embedOpt){\n",
       "    let outputDiv = document.currentScript.previousElementSibling;\n",
       "    if (outputDiv.id !== \"altair-viz-6a2f6bb2bb7c49e8b87a6f3f55295efb\") {\n",
       "      outputDiv = document.getElementById(\"altair-viz-6a2f6bb2bb7c49e8b87a6f3f55295efb\");\n",
       "    }\n",
       "\n",
       "    const paths = {\n",
       "      \"vega\": \"https://cdn.jsdelivr.net/npm/vega@5?noext\",\n",
       "      \"vega-lib\": \"https://cdn.jsdelivr.net/npm/vega-lib?noext\",\n",
       "      \"vega-lite\": \"https://cdn.jsdelivr.net/npm/vega-lite@5.20.1?noext\",\n",
       "      \"vega-embed\": \"https://cdn.jsdelivr.net/npm/vega-embed@6?noext\",\n",
       "    };\n",
       "\n",
       "    function maybeLoadScript(lib, version) {\n",
       "      var key = `${lib.replace(\"-\", \"\")}_version`;\n",
       "      return (VEGA_DEBUG[key] == version) ?\n",
       "        Promise.resolve(paths[lib]) :\n",
       "        new Promise(function(resolve, reject) {\n",
       "          var s = document.createElement('script');\n",
       "          document.getElementsByTagName(\"head\")[0].appendChild(s);\n",
       "          s.async = true;\n",
       "          s.onload = () => {\n",
       "            VEGA_DEBUG[key] = version;\n",
       "            return resolve(paths[lib]);\n",
       "          };\n",
       "          s.onerror = () => reject(`Error loading script: ${paths[lib]}`);\n",
       "          s.src = paths[lib];\n",
       "        });\n",
       "    }\n",
       "\n",
       "    function showError(err) {\n",
       "      outputDiv.innerHTML = `<div class=\"error\" style=\"color:red;\">${err}</div>`;\n",
       "      throw err;\n",
       "    }\n",
       "\n",
       "    function displayChart(vegaEmbed) {\n",
       "      vegaEmbed(outputDiv, spec, embedOpt)\n",
       "        .catch(err => showError(`Javascript Error: ${err.message}<br>This usually means there's a typo in your chart specification. See the javascript console for the full traceback.`));\n",
       "    }\n",
       "\n",
       "    if(typeof define === \"function\" && define.amd) {\n",
       "      requirejs.config({paths});\n",
       "      let deps = [\"vega-embed\"];\n",
       "      require(deps, displayChart, err => showError(`Error loading script: ${err.message}`));\n",
       "    } else {\n",
       "      maybeLoadScript(\"vega\", \"5\")\n",
       "        .then(() => maybeLoadScript(\"vega-lite\", \"5.20.1\"))\n",
       "        .then(() => maybeLoadScript(\"vega-embed\", \"6\"))\n",
       "        .catch(showError)\n",
       "        .then(() => displayChart(vegaEmbed));\n",
       "    }\n",
       "  })({\"config\": {\"view\": {\"continuousWidth\": 300, \"continuousHeight\": 300}}, \"data\": {\"name\": \"data-d0509ff41d1268af2f5950fb75b5750a\"}, \"mark\": {\"type\": \"point\", \"color\": \"black\", \"filled\": true, \"size\": 10}, \"encoding\": {\"tooltip\": [{\"field\": \"date\", \"type\": \"temporal\"}], \"x\": {\"field\": \"date\", \"title\": \"Date\", \"type\": \"temporal\"}, \"y\": {\"field\": \"score\", \"title\": \"Recency score\", \"type\": \"quantitative\"}}, \"height\": 380, \"title\": \"Recency scores (unit weight)\", \"width\": 500, \"$schema\": \"https://vega.github.io/schema/vega-lite/v5.20.1.json\", \"datasets\": {\"data-d0509ff41d1268af2f5950fb75b5750a\": [{\"date\": \"2022-05-25T11:59:00\", \"score\": -0.25}, {\"date\": \"2022-05-26T16:55:12.972973\", \"score\": -0.25}, {\"date\": \"2022-05-27T21:51:25.945946\", \"score\": -0.25}, {\"date\": \"2022-05-29T02:47:38.918919\", \"score\": -0.25}, {\"date\": \"2022-05-30T07:43:51.891892\", \"score\": -0.25}, {\"date\": \"2022-05-31T12:40:04.864865\", \"score\": -0.25}, {\"date\": \"2022-06-01T17:36:17.837838\", \"score\": -0.25}, {\"date\": \"2022-06-02T22:32:30.810811\", \"score\": -0.25}, {\"date\": \"2022-06-04T03:28:43.783784\", \"score\": -0.25}, {\"date\": \"2022-06-05T08:24:56.756757\", \"score\": -0.25}, {\"date\": \"2022-06-06T13:21:09.729730\", \"score\": -0.25}, {\"date\": \"2022-06-07T18:17:22.702703\", \"score\": -0.25}, {\"date\": \"2022-06-08T23:13:35.675676\", \"score\": -0.25}, {\"date\": \"2022-06-10T04:09:48.648649\", \"score\": -0.25}, {\"date\": \"2022-06-11T09:06:01.621622\", \"score\": -0.25}, {\"date\": \"2022-06-12T14:02:14.594594\", \"score\": -0.25}, {\"date\": \"2022-06-13T18:58:27.567568\", \"score\": -0.25}, {\"date\": \"2022-06-14T23:54:40.540540\", \"score\": -0.25}, {\"date\": \"2022-06-16T04:50:53.513514\", \"score\": -0.25}, {\"date\": \"2022-06-17T09:47:06.486486\", \"score\": -0.25}, {\"date\": \"2022-06-18T14:43:19.459460\", \"score\": -0.25}, {\"date\": \"2022-06-19T19:39:32.432432\", \"score\": -0.25}, {\"date\": \"2022-06-21T00:35:45.405406\", \"score\": -0.25}, {\"date\": \"2022-06-22T05:31:58.378378\", \"score\": -0.25}, {\"date\": \"2022-06-23T10:28:11.351351\", \"score\": -0.25}, {\"date\": \"2022-06-24T15:24:24.324324\", \"score\": -0.25}, {\"date\": \"2022-06-25T20:20:37.297297\", \"score\": -0.25}, {\"date\": \"2022-06-27T01:16:50.270270\", \"score\": -0.25}, {\"date\": \"2022-06-28T06:13:03.243243\", \"score\": -0.25}, {\"date\": \"2022-06-29T11:09:16.216216\", \"score\": -0.25}, {\"date\": \"2022-06-30T16:05:29.189189\", \"score\": -0.25}, {\"date\": \"2022-07-01T21:01:42.162162\", \"score\": -0.25}, {\"date\": \"2022-07-03T01:57:55.135135\", \"score\": -0.25}, {\"date\": \"2022-07-04T06:54:08.108108\", \"score\": -0.25}, {\"date\": \"2022-07-05T11:50:21.081081\", \"score\": -0.25}, {\"date\": \"2022-07-06T16:46:34.054054\", \"score\": -0.25}, {\"date\": \"2022-07-07T21:42:47.027027\", \"score\": -0.25}, {\"date\": \"2022-07-09T02:39:00\", \"score\": -0.25}, {\"date\": \"2022-07-10T07:35:12.972973\", \"score\": -0.25}, {\"date\": \"2022-07-11T12:31:25.945946\", \"score\": -0.25}, {\"date\": \"2022-07-12T17:27:38.918919\", \"score\": -0.25}, {\"date\": \"2022-07-13T22:23:51.891892\", \"score\": -0.25}, {\"date\": \"2022-07-15T03:20:04.864865\", \"score\": -0.25}, {\"date\": \"2022-07-16T08:16:17.837838\", \"score\": -0.25}, {\"date\": \"2022-07-17T13:12:30.810811\", \"score\": -0.25}, {\"date\": \"2022-07-18T18:08:43.783784\", \"score\": -0.25}, {\"date\": \"2022-07-19T23:04:56.756757\", \"score\": -0.25}, {\"date\": \"2022-07-21T04:01:09.729730\", \"score\": -0.25}, {\"date\": \"2022-07-22T08:57:22.702703\", \"score\": -0.25}, {\"date\": \"2022-07-23T13:53:35.675676\", \"score\": -0.25}, {\"date\": \"2022-07-24T18:49:48.648649\", \"score\": -0.25}, {\"date\": \"2022-07-25T23:46:01.621622\", \"score\": -0.25}, {\"date\": \"2022-07-27T04:42:14.594594\", \"score\": -0.25}, {\"date\": \"2022-07-28T09:38:27.567568\", \"score\": -0.25}, {\"date\": \"2022-07-29T14:34:40.540540\", \"score\": -0.25}, {\"date\": \"2022-07-30T19:30:53.513514\", \"score\": -0.25}, {\"date\": \"2022-08-01T00:27:06.486486\", \"score\": -0.25}, {\"date\": \"2022-08-02T05:23:19.459460\", \"score\": -0.25}, {\"date\": \"2022-08-03T10:19:32.432432\", \"score\": -0.25}, {\"date\": \"2022-08-04T15:15:45.405406\", \"score\": -0.25}, {\"date\": \"2022-08-05T20:11:58.378378\", \"score\": -0.25}, {\"date\": \"2022-08-07T01:08:11.351351\", \"score\": -0.25}, {\"date\": \"2022-08-08T06:04:24.324324\", \"score\": -0.25}, {\"date\": \"2022-08-09T11:00:37.297297\", \"score\": -0.25}, {\"date\": \"2022-08-10T15:56:50.270270\", \"score\": -0.25}, {\"date\": \"2022-08-11T20:53:03.243243\", \"score\": -0.25}, {\"date\": \"2022-08-13T01:49:16.216216\", \"score\": -0.25}, {\"date\": \"2022-08-14T06:45:29.189189\", \"score\": -0.25}, {\"date\": \"2022-08-15T11:41:42.162162\", \"score\": -0.25}, {\"date\": \"2022-08-16T16:37:55.135135\", \"score\": -0.25}, {\"date\": \"2022-08-17T21:34:08.108108\", \"score\": -0.25}, {\"date\": \"2022-08-19T02:30:21.081081\", \"score\": -0.25}, {\"date\": \"2022-08-20T07:26:34.054054\", \"score\": -0.25}, {\"date\": \"2022-08-21T12:22:47.027027\", \"score\": -0.25}, {\"date\": \"2022-08-22T17:19:00\", \"score\": -0.25}, {\"date\": \"2022-08-23T22:15:12.972973\", \"score\": -0.25}, {\"date\": \"2022-08-25T03:11:25.945946\", \"score\": -0.25}, {\"date\": \"2022-08-26T08:07:38.918919\", \"score\": -0.25}, {\"date\": \"2022-08-27T13:03:51.891892\", \"score\": -0.25}, {\"date\": \"2022-08-28T18:00:04.864865\", \"score\": -0.25}, {\"date\": \"2022-08-29T22:56:17.837838\", \"score\": -0.25}, {\"date\": \"2022-08-31T03:52:30.810811\", \"score\": -0.25}, {\"date\": \"2022-09-01T08:48:43.783784\", \"score\": -0.25}, {\"date\": \"2022-09-02T13:44:56.756757\", \"score\": -0.25}, {\"date\": \"2022-09-03T18:41:09.729730\", \"score\": -0.25}, {\"date\": \"2022-09-04T23:37:22.702703\", \"score\": -0.25}, {\"date\": \"2022-09-06T04:33:35.675676\", \"score\": -0.25}, {\"date\": \"2022-09-07T09:29:48.648649\", \"score\": -0.25}, {\"date\": \"2022-09-08T14:26:01.621622\", \"score\": -0.25}, {\"date\": \"2022-09-09T19:22:14.594594\", \"score\": -0.25}, {\"date\": \"2022-09-11T00:18:27.567568\", \"score\": -0.25}, {\"date\": \"2022-09-12T05:14:40.540540\", \"score\": 0.00010482457797115138}, {\"date\": \"2022-09-13T10:10:53.513514\", \"score\": 0.0006813592935631565}, {\"date\": \"2022-09-14T15:07:06.486486\", \"score\": 0.0012578919708438967}, {\"date\": \"2022-09-15T20:03:19.459460\", \"score\": 0.0018344208850985205}, {\"date\": \"2022-09-17T00:59:32.432432\", \"score\": 0.0024109443116181574}, {\"date\": \"2022-09-18T05:55:45.405406\", \"score\": 0.00298746052571563}, {\"date\": \"2022-09-19T10:51:58.378378\", \"score\": 0.003563967802720061}, {\"date\": \"2022-09-20T15:48:11.351351\", \"score\": 0.0041404644179912665}, {\"date\": \"2022-09-21T20:44:24.324324\", \"score\": 0.004716948646920956}, {\"date\": \"2022-09-23T01:40:37.297297\", \"score\": 0.005293418764933937}, {\"date\": \"2022-09-24T06:36:50.270270\", \"score\": 0.005869873047502506}, {\"date\": \"2022-09-25T11:33:03.243243\", \"score\": 0.006446309770141056}, {\"date\": \"2022-09-26T16:29:16.216216\", \"score\": 0.007022727208421787}, {\"date\": \"2022-09-27T21:25:29.189189\", \"score\": 0.007599123637969313}, {\"date\": \"2022-09-29T02:21:42.162162\", \"score\": 0.008175497334475052}, {\"date\": \"2022-09-30T07:17:55.135135\", \"score\": 0.008751846573698435}, {\"date\": \"2022-10-01T12:14:08.108108\", \"score\": 0.009328169631468092}, {\"date\": \"2022-10-02T17:10:21.081081\", \"score\": 0.009904464783696254}, {\"date\": \"2022-10-03T22:06:34.054054\", \"score\": 0.01048073030637336}, {\"date\": \"2022-10-05T03:02:47.027027\", \"score\": 0.011056964475583762}, {\"date\": \"2022-10-06T07:59:00\", \"score\": 0.011633165567500327}, {\"date\": \"2022-10-07T12:55:12.972973\", \"score\": 0.01220933185839884}, {\"date\": \"2022-10-08T17:51:25.945946\", \"score\": 0.012785461624659178}, {\"date\": \"2022-10-09T22:47:38.918919\", \"score\": 0.013361553142766542}, {\"date\": \"2022-10-11T03:43:51.891892\", \"score\": 0.01393760468932582}, {\"date\": \"2022-10-12T08:40:04.864865\", \"score\": 0.014513614541056206}, {\"date\": \"2022-10-13T13:36:17.837838\", \"score\": 0.015089580974806904}, {\"date\": \"2022-10-14T18:32:30.810811\", \"score\": 0.015665502267551715}, {\"date\": \"2022-10-15T23:28:43.783784\", \"score\": 0.016241376696403454}, {\"date\": \"2022-10-17T04:24:56.756757\", \"score\": 0.016817202538615114}, {\"date\": \"2022-10-18T09:21:09.729730\", \"score\": 0.017392978071581102}, {\"date\": \"2022-10-19T14:17:22.702703\", \"score\": 0.01796870157285158}, {\"date\": \"2022-10-20T19:13:35.675676\", \"score\": 0.0185443713201271}, {\"date\": \"2022-10-22T00:09:48.648649\", \"score\": 0.0191199855912743}, {\"date\": \"2022-10-23T05:06:01.621622\", \"score\": 0.019695542664320487}, {\"date\": \"2022-10-24T10:02:14.594594\", \"score\": 0.020271040817468063}, {\"date\": \"2022-10-25T14:58:27.567568\", \"score\": 0.020846478329095655}, {\"date\": \"2022-10-26T19:54:40.540540\", \"score\": 0.021421853477759364}, {\"date\": \"2022-10-28T00:50:53.513514\", \"score\": 0.021997164542207123}, {\"date\": \"2022-10-29T05:47:06.486486\", \"score\": 0.022572409801373313}, {\"date\": \"2022-10-30T10:43:19.459460\", \"score\": 0.02314758753439443}, {\"date\": \"2022-10-31T15:39:32.432432\", \"score\": 0.023722696020603718}, {\"date\": \"2022-11-01T20:35:45.405406\", \"score\": 0.024297733539546826}, {\"date\": \"2022-11-03T01:31:58.378378\", \"score\": 0.024872698370976463}, {\"date\": \"2022-11-04T06:28:11.351351\", \"score\": 0.02544758879486671}, {\"date\": \"2022-11-05T11:24:24.324324\", \"score\": 0.026022403091414265}, {\"date\": \"2022-11-06T16:20:37.297297\", \"score\": 0.02659713954103958}, {\"date\": \"2022-11-07T21:16:50.270270\", \"score\": 0.0271717964244013}, {\"date\": \"2022-11-09T02:13:03.243243\", \"score\": 0.02774637202239079}, {\"date\": \"2022-11-10T07:09:16.216216\", \"score\": 0.028320864616147867}, {\"date\": \"2022-11-11T12:05:29.189189\", \"score\": 0.028895272487055392}, {\"date\": \"2022-11-12T17:01:42.162162\", \"score\": 0.02946959391675362}, {\"date\": \"2022-11-13T21:57:55.135135\", \"score\": 0.03004382718714141}, {\"date\": \"2022-11-15T02:54:08.108108\", \"score\": 0.030617970580377372}, {\"date\": \"2022-11-16T07:50:21.081081\", \"score\": 0.03119202237889431}, {\"date\": \"2022-11-17T12:46:34.054054\", \"score\": 0.031765980865393714}, {\"date\": \"2022-11-18T17:42:47.027027\", \"score\": 0.03233984432286151}, {\"date\": \"2022-11-19T22:39:00\", \"score\": 0.03291361103456265}, {\"date\": \"2022-11-21T03:35:12.972973\", \"score\": 0.03348727928405543}, {\"date\": \"2022-11-22T08:31:25.945946\", \"score\": 0.03406084735519271}, {\"date\": \"2022-11-23T13:27:38.918919\", \"score\": 0.0346343135321231}, {\"date\": \"2022-11-24T18:23:51.891892\", \"score\": 0.03520767609930528}, {\"date\": \"2022-11-25T23:20:04.864865\", \"score\": 0.035780933341502626}, {\"date\": \"2022-11-27T04:16:17.837838\", \"score\": 0.03635408354379886}, {\"date\": \"2022-11-28T09:12:30.810811\", \"score\": 0.03692712499159265}, {\"date\": \"2022-11-29T14:08:43.783784\", \"score\": 0.037500055970611956}, {\"date\": \"2022-11-30T19:04:56.756757\", \"score\": 0.0380728747669152}, {\"date\": \"2022-12-02T00:01:09.729730\", \"score\": 0.03864557966689248}, {\"date\": \"2022-12-03T04:57:22.702703\", \"score\": 0.03921816895727985}, {\"date\": \"2022-12-04T09:53:35.675676\", \"score\": 0.03979064092515398}, {\"date\": \"2022-12-05T14:49:48.648649\", \"score\": 0.04036299385794777}, {\"date\": \"2022-12-06T19:46:01.621622\", \"score\": 0.040935226043444926}, {\"date\": \"2022-12-08T00:42:14.594594\", \"score\": 0.04150733576979438}, {\"date\": \"2022-12-09T05:38:27.567568\", \"score\": 0.04207932132551134}, {\"date\": \"2022-12-10T10:34:40.540540\", \"score\": 0.042651180999478566}, {\"date\": \"2022-12-11T15:30:53.513514\", \"score\": 0.04322291308096064}, {\"date\": \"2022-12-12T20:27:06.486486\", \"score\": 0.04379451585959861}, {\"date\": \"2022-12-14T01:23:19.459460\", \"score\": 0.04436598762542558}, {\"date\": \"2022-12-15T06:19:32.432432\", \"score\": 0.04493732666886131}, {\"date\": \"2022-12-16T11:15:45.405406\", \"score\": 0.04550853128072787}, {\"date\": \"2022-12-17T16:11:58.378378\", \"score\": 0.04607959975224426}, {\"date\": \"2022-12-18T21:08:11.351351\", \"score\": 0.046650530375040626}, {\"date\": \"2022-12-20T02:04:24.324324\", \"score\": 0.04722132144115958}, {\"date\": \"2022-12-21T07:00:37.297297\", \"score\": 0.047791971243057195}, {\"date\": \"2022-12-22T11:56:50.270270\", \"score\": 0.04836247807361744}, {\"date\": \"2022-12-23T16:53:03.243243\", \"score\": 0.04893284022614675}, {\"date\": \"2022-12-24T21:49:16.216216\", \"score\": 0.04950305599438959}, {\"date\": \"2022-12-26T02:45:29.189189\", \"score\": 0.05007312367252309}, {\"date\": \"2022-12-27T07:41:42.162162\", \"score\": 0.05064304155517135}, {\"date\": \"2022-12-28T12:37:55.135135\", \"score\": 0.05121280793740657}, {\"date\": \"2022-12-29T17:34:08.108108\", \"score\": 0.05178242111475026}, {\"date\": \"2022-12-30T22:30:21.081081\", \"score\": 0.05235187938318746}, {\"date\": \"2023-01-01T03:26:34.054054\", \"score\": 0.0529211810391614}, {\"date\": \"2023-01-02T08:22:47.027027\", \"score\": 0.05349032437958907}, {\"date\": \"2023-01-03T13:19:00\", \"score\": 0.05405930770185582}, {\"date\": \"2023-01-04T18:15:12.972973\", \"score\": 0.054628129303829626}, {\"date\": \"2023-01-05T23:11:25.945946\", \"score\": 0.05519678748386224}, {\"date\": \"2023-01-07T04:07:38.918919\", \"score\": 0.05576528054079041}, {\"date\": \"2023-01-08T09:03:51.891892\", \"score\": 0.05633360677395006}, {\"date\": \"2023-01-09T14:00:04.864865\", \"score\": 0.05690176448317093}, {\"date\": \"2023-01-10T18:56:17.837838\", \"score\": 0.057469751968792164}, {\"date\": \"2023-01-11T23:52:30.810811\", \"score\": 0.05803756753165692}, {\"date\": \"2023-01-13T04:48:43.783784\", \"score\": 0.058605209473126516}, {\"date\": \"2023-01-14T09:44:56.756757\", \"score\": 0.059172676095081735}, {\"date\": \"2023-01-15T14:41:09.729730\", \"score\": 0.05973996569992392}, {\"date\": \"2023-01-16T19:37:22.702703\", \"score\": 0.06030707659058914}, {\"date\": \"2023-01-18T00:33:35.675676\", \"score\": 0.060874007070542885}, {\"date\": \"2023-01-19T05:29:48.648649\", \"score\": 0.0614407554437956}, {\"date\": \"2023-01-20T10:26:01.621622\", \"score\": 0.06200732001489727}, {\"date\": \"2023-01-21T15:22:14.594594\", \"score\": 0.06257369908895165}, {\"date\": \"2023-01-22T20:18:27.567568\", \"score\": 0.06313989097161737}, {\"date\": \"2023-01-24T01:14:40.540540\", \"score\": 0.06370589396910925}, {\"date\": \"2023-01-25T06:10:53.513514\", \"score\": 0.06427170638821224}, {\"date\": \"2023-01-26T11:07:06.486486\", \"score\": 0.06483732653627633}, {\"date\": \"2023-01-27T16:03:19.459460\", \"score\": 0.06540275272123178}, {\"date\": \"2023-01-28T20:59:32.432432\", \"score\": 0.065967983251584}, {\"date\": \"2023-01-30T01:55:45.405406\", \"score\": 0.06653301643642885}, {\"date\": \"2023-01-31T06:51:58.378378\", \"score\": 0.06709785058544739}, {\"date\": \"2023-02-01T11:48:11.351351\", \"score\": 0.06766248400891996}, {\"date\": \"2023-02-02T16:44:24.324324\", \"score\": 0.0682269150177274}, {\"date\": \"2023-02-03T21:40:37.297297\", \"score\": 0.0687911419233522}, {\"date\": \"2023-02-05T02:36:50.270270\", \"score\": 0.06935516303789259}, {\"date\": \"2023-02-06T07:33:03.243243\", \"score\": 0.06991897667405728}, {\"date\": \"2023-02-07T12:29:16.216216\", \"score\": 0.0704825811451808}, {\"date\": \"2023-02-08T17:25:29.189189\", \"score\": 0.07104597476521828}, {\"date\": \"2023-02-09T22:21:42.162162\", \"score\": 0.07160915584875945}, {\"date\": \"2023-02-11T03:17:55.135135\", \"score\": 0.07217212271102985}, {\"date\": \"2023-02-12T08:14:08.108108\", \"score\": 0.07273487366789205}, {\"date\": \"2023-02-13T13:10:21.081081\", \"score\": 0.07329740703585962}, {\"date\": \"2023-02-14T18:06:34.054054\", \"score\": 0.07385972113209191}, {\"date\": \"2023-02-15T23:02:47.027027\", \"score\": 0.07442181427440937}, {\"date\": \"2023-02-17T03:59:00\", \"score\": 0.07498368478128833}, {\"date\": \"2023-02-18T08:55:12.972973\", \"score\": 0.07554533097187499}, {\"date\": \"2023-02-19T13:51:25.945946\", \"score\": 0.07610675116598654}, {\"date\": \"2023-02-20T18:47:38.918919\", \"score\": 0.07666794368411248}, {\"date\": \"2023-02-21T23:43:51.891892\", \"score\": 0.07722890684742849}, {\"date\": \"2023-02-23T04:40:04.864865\", \"score\": 0.07778963897779123}, {\"date\": \"2023-02-24T09:36:17.837838\", \"score\": 0.0783501383977537}, {\"date\": \"2023-02-25T14:32:30.810811\", \"score\": 0.07891040343055988}, {\"date\": \"2023-02-26T19:28:43.783784\", \"score\": 0.07947043240015879}, {\"date\": \"2023-02-28T00:24:56.756757\", \"score\": 0.08003022363120563}, {\"date\": \"2023-03-01T05:21:09.729730\", \"score\": 0.08058977544906294}, {\"date\": \"2023-03-02T10:17:22.702703\", \"score\": 0.08114908617981464}, {\"date\": \"2023-03-03T15:13:35.675676\", \"score\": 0.08170815415026074}, {\"date\": \"2023-03-04T20:09:48.648649\", \"score\": 0.0822669776879326}, {\"date\": \"2023-03-06T01:06:01.621622\", \"score\": 0.08282555512108762}, {\"date\": \"2023-03-07T06:02:14.594594\", \"score\": 0.08338388477872337}, {\"date\": \"2023-03-08T10:58:27.567568\", \"score\": 0.08394196499057863}, {\"date\": \"2023-03-09T15:54:40.540540\", \"score\": 0.08449979408713448}, {\"date\": \"2023-03-10T20:50:53.513514\", \"score\": 0.08505737039962841}, {\"date\": \"2023-03-12T01:47:06.486486\", \"score\": 0.08561469226004903}, {\"date\": \"2023-03-13T06:43:19.459460\", \"score\": 0.0861717580011512}, {\"date\": \"2023-03-14T11:39:32.432432\", \"score\": 0.08672856595645091}, {\"date\": \"2023-03-15T16:35:45.405406\", \"score\": 0.0872851144602404}, {\"date\": \"2023-03-16T21:31:58.378378\", \"score\": 0.08784140184758298}, {\"date\": \"2023-03-18T02:28:11.351351\", \"score\": 0.08839742645432697}, {\"date\": \"2023-03-19T07:24:24.324324\", \"score\": 0.08895318661710666}, {\"date\": \"2023-03-20T12:20:37.297297\", \"score\": 0.08950868067334375}, {\"date\": \"2023-03-21T17:16:50.270270\", \"score\": 0.09006390696126113}, {\"date\": \"2023-03-22T22:13:03.243243\", \"score\": 0.09061886381987748}, {\"date\": \"2023-03-24T03:09:16.216216\", \"score\": 0.09117354958902273}, {\"date\": \"2023-03-25T08:05:29.189189\", \"score\": 0.09172796260933255}, {\"date\": \"2023-03-26T13:01:42.162162\", \"score\": 0.0922821012222625}, {\"date\": \"2023-03-27T17:57:55.135135\", \"score\": 0.09283596377008897}, {\"date\": \"2023-03-28T22:54:08.108108\", \"score\": 0.09338954859591041}, {\"date\": \"2023-03-30T03:50:21.081081\", \"score\": 0.09394285404366118}, {\"date\": \"2023-03-31T08:46:34.054054\", \"score\": 0.09449587845810628}, {\"date\": \"2023-04-01T13:42:47.027027\", \"score\": 0.09504862018485655}, {\"date\": \"2023-04-02T18:39:00\", \"score\": 0.09560107757036342}, {\"date\": \"2023-04-03T23:35:12.972973\", \"score\": 0.09615324896193275}, {\"date\": \"2023-04-05T04:31:25.945946\", \"score\": 0.09670513270772595}, {\"date\": \"2023-04-06T09:27:38.918919\", \"score\": 0.09725672715676112}, {\"date\": \"2023-04-07T14:23:51.891892\", \"score\": 0.09780803065892683}, {\"date\": \"2023-04-08T19:20:04.864865\", \"score\": 0.09835904156497713}, {\"date\": \"2023-04-10T00:16:17.837838\", \"score\": 0.09890975822654621}, {\"date\": \"2023-04-11T05:12:30.810811\", \"score\": 0.09946017899614362}, {\"date\": \"2023-04-12T10:08:43.783784\", \"score\": 0.10001030222716778}, {\"date\": \"2023-04-13T15:04:56.756757\", \"score\": 0.10056012627390724}, {\"date\": \"2023-04-14T20:01:09.729730\", \"score\": 0.10110964949154182}, {\"date\": \"2023-04-16T00:57:22.702703\", \"score\": 0.10165887023615623}, {\"date\": \"2023-04-17T05:53:35.675676\", \"score\": 0.1022077868647351}, {\"date\": \"2023-04-18T10:49:48.648649\", \"score\": 0.10275639773517778}, {\"date\": \"2023-04-19T15:46:01.621622\", \"score\": 0.10330470120629336}, {\"date\": \"2023-04-20T20:42:14.594594\", \"score\": 0.10385269563781424}, {\"date\": \"2023-04-22T01:38:27.567568\", \"score\": 0.10440037939039733}, {\"date\": \"2023-04-23T06:34:40.540540\", \"score\": 0.1049477508256252}, {\"date\": \"2023-04-24T11:30:53.513514\", \"score\": 0.10549480830601973}, {\"date\": \"2023-04-25T16:27:06.486486\", \"score\": 0.106041550195037}, {\"date\": \"2023-04-26T21:23:19.459460\", \"score\": 0.1065879748570822}, {\"date\": \"2023-04-28T02:19:32.432432\", \"score\": 0.1071340806575045}, {\"date\": \"2023-04-29T07:15:45.405406\", \"score\": 0.10767986596261198}, {\"date\": \"2023-04-30T12:11:58.378378\", \"score\": 0.1082253291396665}, {\"date\": \"2023-05-01T17:08:11.351351\", \"score\": 0.10877046855689727}, {\"date\": \"2023-05-02T22:04:24.324324\", \"score\": 0.1093152825835021}, {\"date\": \"2023-05-04T03:00:37.297297\", \"score\": 0.10985976958964841}, {\"date\": \"2023-05-05T07:56:50.270270\", \"score\": 0.110403927946487}, {\"date\": \"2023-05-06T12:53:03.243243\", \"score\": 0.11094775602614675}, {\"date\": \"2023-05-07T17:49:16.216216\", \"score\": 0.1114912522017496}, {\"date\": \"2023-05-08T22:45:29.189189\", \"score\": 0.1120344148474054}, {\"date\": \"2023-05-10T03:41:42.162162\", \"score\": 0.11257724233822555}, {\"date\": \"2023-05-11T08:37:55.135135\", \"score\": 0.11311973305032401}, {\"date\": \"2023-05-12T13:34:08.108108\", \"score\": 0.11366188536081855}, {\"date\": \"2023-05-13T18:30:21.081081\", \"score\": 0.11420369764784416}, {\"date\": \"2023-05-14T23:26:34.054054\", \"score\": 0.11474516829054819}, {\"date\": \"2023-05-16T04:22:47.027027\", \"score\": 0.11528629566910487}, {\"date\": \"2023-05-17T09:19:00\", \"score\": 0.11582707816471045}, {\"date\": \"2023-05-18T14:15:12.972973\", \"score\": 0.11636751415959659}, {\"date\": \"2023-05-19T19:11:25.945946\", \"score\": 0.11690760203703149}, {\"date\": \"2023-05-21T00:07:38.918919\", \"score\": 0.11744734018132108}, {\"date\": \"2023-05-22T05:03:51.891892\", \"score\": 0.11798672697782246}, {\"date\": \"2023-05-23T10:00:04.864865\", \"score\": 0.11852576081293885}, {\"date\": \"2023-05-24T14:56:17.837838\", \"score\": 0.11906444007413432}, {\"date\": \"2023-05-25T19:52:30.810811\", \"score\": 0.11960276314992874}, {\"date\": \"2023-05-27T00:48:43.783784\", \"score\": 0.12014072842991119}, {\"date\": \"2023-05-28T05:44:56.756757\", \"score\": 0.12067833430474109}, {\"date\": \"2023-05-29T10:41:09.729730\", \"score\": 0.12121557916614942}, {\"date\": \"2023-05-30T15:37:22.702703\", \"score\": 0.12175246140695198}, {\"date\": \"2023-05-31T20:33:35.675676\", \"score\": 0.12228897942104447}, {\"date\": \"2023-06-02T01:29:48.648649\", \"score\": 0.1228251316034171}, {\"date\": \"2023-06-03T06:26:01.621622\", \"score\": 0.12336091635014965}, {\"date\": \"2023-06-04T11:22:14.594594\", \"score\": 0.12389633205842461}, {\"date\": \"2023-06-05T16:18:27.567568\", \"score\": 0.12443137712652862}, {\"date\": \"2023-06-06T21:14:40.540540\", \"score\": 0.12496604995385333}, {\"date\": \"2023-06-08T02:10:53.513514\", \"score\": 0.12550034894090886}, {\"date\": \"2023-06-09T07:07:06.486486\", \"score\": 0.12603427248931892}, {\"date\": \"2023-06-10T12:03:19.459460\", \"score\": 0.12656781900183506}, {\"date\": \"2023-06-11T16:59:32.432432\", \"score\": 0.127100986882332}, {\"date\": \"2023-06-12T21:55:45.405406\", \"score\": 0.12763377453582195}, {\"date\": \"2023-06-14T02:51:58.378378\", \"score\": 0.12816618036844976}, {\"date\": \"2023-06-15T07:48:11.351351\", \"score\": 0.12869820278750616}, {\"date\": \"2023-06-16T12:44:24.324324\", \"score\": 0.12922984020142878}, {\"date\": \"2023-06-17T17:40:37.297297\", \"score\": 0.12976109101980354}, {\"date\": \"2023-06-18T22:36:50.270270\", \"score\": 0.13029195365337753}, {\"date\": \"2023-06-20T03:33:03.243243\", \"score\": 0.13082242651405446}, {\"date\": \"2023-06-21T08:29:16.216216\", \"score\": 0.13135250801490872}, {\"date\": \"2023-06-22T13:25:29.189189\", \"score\": 0.13188219657018074}, {\"date\": \"2023-06-23T18:21:42.162162\", \"score\": 0.13241149059529003}, {\"date\": \"2023-06-24T23:17:55.135135\", \"score\": 0.1329403885068364}, {\"date\": \"2023-06-26T04:14:08.108108\", \"score\": 0.13346888872260096}, {\"date\": \"2023-06-27T09:10:21.081081\", \"score\": 0.13399698966155948}, {\"date\": \"2023-06-28T14:06:34.054054\", \"score\": 0.13452468974387718}, {\"date\": \"2023-06-29T19:02:47.027027\", \"score\": 0.1350519873909235}, {\"date\": \"2023-06-30T23:59:00\", \"score\": 0.13557888102526675}, {\"date\": \"2023-07-02T04:55:12.972973\", \"score\": 0.13610536907068757}, {\"date\": \"2023-07-03T09:51:25.945946\", \"score\": 0.13663144995218002}, {\"date\": \"2023-07-04T14:47:38.918919\", \"score\": 0.13715712209595238}, {\"date\": \"2023-07-05T19:43:51.891892\", \"score\": 0.13768238392944063}, {\"date\": \"2023-07-07T00:40:04.864865\", \"score\": 0.13820723388130346}, {\"date\": \"2023-07-08T05:36:17.837838\", \"score\": 0.13873167038143638}, {\"date\": \"2023-07-09T10:32:30.810811\", \"score\": 0.13925569186096703}, {\"date\": \"2023-07-10T15:28:43.783784\", \"score\": 0.13977929675226825}, {\"date\": \"2023-07-11T20:24:56.756757\", \"score\": 0.140302483488959}, {\"date\": \"2023-07-13T01:21:09.729730\", \"score\": 0.1408252505059056}, {\"date\": \"2023-07-14T06:17:22.702703\", \"score\": 0.14134759623923485}, {\"date\": \"2023-07-15T11:13:35.675676\", \"score\": 0.14186951912632892}, {\"date\": \"2023-07-16T16:09:48.648649\", \"score\": 0.1423910176058399}, {\"date\": \"2023-07-17T21:06:01.621622\", \"score\": 0.14291209011768452}, {\"date\": \"2023-07-19T02:02:14.594594\", \"score\": 0.1434327351030575}, {\"date\": \"2023-07-20T06:58:27.567568\", \"score\": 0.14395295100443256}, {\"date\": \"2023-07-21T11:54:40.540540\", \"score\": 0.14447273626556342}, {\"date\": \"2023-07-22T16:50:53.513514\", \"score\": 0.14499208933149677}, {\"date\": \"2023-07-23T21:47:06.486486\", \"score\": 0.14551100864856759}, {\"date\": \"2023-07-25T02:43:19.459460\", \"score\": 0.1460294926644131}, {\"date\": \"2023-07-26T07:39:32.432432\", \"score\": 0.14654753982796803}, {\"date\": \"2023-07-27T12:35:45.405406\", \"score\": 0.1470651485894787}, {\"date\": \"2023-07-28T17:31:58.378378\", \"score\": 0.14758231740049818}, {\"date\": \"2023-07-29T22:28:11.351351\", \"score\": 0.14809904471389923}, {\"date\": \"2023-07-31T03:24:24.324324\", \"score\": 0.14861532898387542}, {\"date\": \"2023-08-01T08:20:37.297297\", \"score\": 0.14913116866594203}, {\"date\": \"2023-08-02T13:16:50.270270\", \"score\": 0.1496465622169491}, {\"date\": \"2023-08-03T18:13:03.243243\", \"score\": 0.15016150809507672}, {\"date\": \"2023-08-04T23:09:16.216216\", \"score\": 0.1506760047598487}, {\"date\": \"2023-08-06T04:05:29.189189\", \"score\": 0.15119005067212807}, {\"date\": \"2023-08-07T09:01:42.162162\", \"score\": 0.1517036442941299}, {\"date\": \"2023-08-08T13:57:55.135135\", \"score\": 0.15221678408942224}, {\"date\": \"2023-08-09T18:54:08.108108\", \"score\": 0.15272946852292718}, {\"date\": \"2023-08-10T23:50:21.081081\", \"score\": 0.1532416960609339}, {\"date\": \"2023-08-12T04:46:34.054054\", \"score\": 0.15375346517109356}, {\"date\": \"2023-08-13T09:42:47.027027\", \"score\": 0.1542647743224335}, {\"date\": \"2023-08-14T14:39:00\", \"score\": 0.15477562198535233}, {\"date\": \"2023-08-15T19:35:12.972973\", \"score\": 0.15528600663163275}, {\"date\": \"2023-08-17T00:31:25.945946\", \"score\": 0.15579592673444245}, {\"date\": \"2023-08-18T05:27:38.918919\", \"score\": 0.15630538076833558}, {\"date\": \"2023-08-19T10:23:51.891892\", \"score\": 0.156814367209265}, {\"date\": \"2023-08-20T15:20:04.864865\", \"score\": 0.15732288453457777}, {\"date\": \"2023-08-21T20:16:17.837838\", \"score\": 0.15783093122302908}, {\"date\": \"2023-08-23T01:12:30.810811\", \"score\": 0.1583385057547773}, {\"date\": \"2023-08-24T06:08:43.783784\", \"score\": 0.15884560661139674}, {\"date\": \"2023-08-25T11:04:56.756757\", \"score\": 0.15935223227587883}, {\"date\": \"2023-08-26T16:01:09.729730\", \"score\": 0.15985838123263296}, {\"date\": \"2023-08-27T20:57:22.702703\", \"score\": 0.16036405196749934}, {\"date\": \"2023-08-29T01:53:35.675676\", \"score\": 0.1608692429677441}, {\"date\": \"2023-08-30T06:49:48.648649\", \"score\": 0.1613739527220732}, {\"date\": \"2023-08-31T11:46:01.621622\", \"score\": 0.16187817972062757}, {\"date\": \"2023-09-01T16:42:14.594594\", \"score\": 0.16238192245499578}, {\"date\": \"2023-09-02T21:38:27.567568\", \"score\": 0.1628851794182152}, {\"date\": \"2023-09-04T02:34:40.540540\", \"score\": 0.1633879491047729}, {\"date\": \"2023-09-05T07:30:53.513514\", \"score\": 0.16389023001061812}, {\"date\": \"2023-09-06T12:27:06.486486\", \"score\": 0.16439202063315791}, {\"date\": \"2023-09-07T17:23:19.459460\", \"score\": 0.16489331947127048}, {\"date\": \"2023-09-08T22:19:32.432432\", \"score\": 0.1653941250253007}, {\"date\": \"2023-09-10T03:15:45.405406\", \"score\": 0.16589443579707372}, {\"date\": \"2023-09-11T08:11:58.378378\", \"score\": 0.1663942502898902}, {\"date\": \"2023-09-12T13:08:11.351351\", \"score\": 0.16728665909129903}, {\"date\": \"2023-09-13T18:04:24.324324\", \"score\": 0.16865027643014224}, {\"date\": \"2023-09-14T23:00:37.297297\", \"score\": 0.1700133845420526}, {\"date\": \"2023-09-16T03:56:50.270270\", \"score\": 0.17137597611543592}, {\"date\": \"2023-09-17T08:53:03.243243\", \"score\": 0.1727380438402845}, {\"date\": \"2023-09-18T13:49:16.216216\", \"score\": 0.17409958040824527}, {\"date\": \"2023-09-19T18:45:29.189189\", \"score\": 0.1754605785126387}, {\"date\": \"2023-09-20T23:41:42.162162\", \"score\": 0.176821030848524}, {\"date\": \"2023-09-22T04:37:55.135135\", \"score\": 0.17818093011273373}, {\"date\": \"2023-09-23T09:34:08.108108\", \"score\": 0.17954026900390793}, {\"date\": \"2023-09-24T14:30:21.081081\", \"score\": 0.18089904022255934}, {\"date\": \"2023-09-25T19:26:34.054054\", \"score\": 0.18225723647109227}, {\"date\": \"2023-09-27T00:22:47.027027\", \"score\": 0.18361485045387108}, {\"date\": \"2023-09-28T05:19:00\", \"score\": 0.18497187487723887}, {\"date\": \"2023-09-29T10:15:12.972973\", \"score\": 0.18632830244958276}, {\"date\": \"2023-09-30T15:11:25.945946\", \"score\": 0.18768412588136824}, {\"date\": \"2023-10-01T20:07:38.918919\", \"score\": 0.18903933788517321}, {\"date\": \"2023-10-03T01:03:51.891892\", \"score\": 0.19039393117575362}, {\"date\": \"2023-10-04T06:00:04.864865\", \"score\": 0.1917478984700618}, {\"date\": \"2023-10-05T10:56:17.837838\", \"score\": 0.19310123248731492}, {\"date\": \"2023-10-06T15:52:30.810811\", \"score\": 0.194453925949014}, {\"date\": \"2023-10-07T20:48:43.783784\", \"score\": 0.19580597157900875}, {\"date\": \"2023-10-09T01:44:56.756757\", \"score\": 0.19715736210353185}, {\"date\": \"2023-10-10T06:41:09.729730\", \"score\": 0.19850809025123337}, {\"date\": \"2023-10-11T11:37:22.702703\", \"score\": 0.1998581487532456}, {\"date\": \"2023-10-12T16:33:35.675676\", \"score\": 0.20120753034320202}, {\"date\": \"2023-10-13T21:29:48.648649\", \"score\": 0.20255622775730556}, {\"date\": \"2023-10-15T02:26:01.621622\", \"score\": 0.203904233734347}, {\"date\": \"2023-10-16T07:22:14.594594\", \"score\": 0.20525154101577034}, {\"date\": \"2023-10-17T12:18:27.567568\", \"score\": 0.2065981423457067}, {\"date\": \"2023-10-18T17:14:40.540540\", \"score\": 0.2079440304710089}, {\"date\": \"2023-10-19T22:10:53.513514\", \"score\": 0.20928919814131586}, {\"date\": \"2023-10-21T03:07:06.486486\", \"score\": 0.21063363810907193}, {\"date\": \"2023-10-22T08:03:19.459460\", \"score\": 0.21197734312959446}, {\"date\": \"2023-10-23T12:59:32.432432\", \"score\": 0.21332030596109275}, {\"date\": \"2023-10-24T17:55:45.405406\", \"score\": 0.21466251936473602}, {\"date\": \"2023-10-25T22:51:58.378378\", \"score\": 0.21600397610467204}, {\"date\": \"2023-10-27T03:48:11.351351\", \"score\": 0.21734466894809215}, {\"date\": \"2023-10-28T08:44:24.324324\", \"score\": 0.21868459066526508}, {\"date\": \"2023-10-29T13:40:37.297297\", \"score\": 0.22002373402957126}, {\"date\": \"2023-10-30T18:36:50.270270\", \"score\": 0.22136209181756755}, {\"date\": \"2023-10-31T23:33:03.243243\", \"score\": 0.22269965680900594}, {\"date\": \"2023-11-02T04:29:16.216216\", \"score\": 0.2240364217869012}, {\"date\": \"2023-11-03T09:25:29.189189\", \"score\": 0.2253723795375497}, {\"date\": \"2023-11-04T14:21:42.162162\", \"score\": 0.22670752285059434}, {\"date\": \"2023-11-05T19:17:55.135135\", \"score\": 0.22804184451905807}, {\"date\": \"2023-11-07T00:14:08.108108\", \"score\": 0.22937533733937812}, {\"date\": \"2023-11-08T05:10:21.081081\", \"score\": 0.23070799411147075}, {\"date\": \"2023-11-09T10:06:34.054054\", \"score\": 0.23203980763874968}, {\"date\": \"2023-11-10T15:02:47.027027\", \"score\": 0.23337077072819384}, {\"date\": \"2023-11-11T19:59:00\", \"score\": 0.23470087619036595}, {\"date\": \"2023-11-13T00:55:12.972973\", \"score\": 0.23603011683947706}, {\"date\": \"2023-11-14T05:51:25.945946\", \"score\": 0.23735848549342028}, {\"date\": \"2023-11-15T10:47:38.918919\", \"score\": 0.23868597497380528}, {\"date\": \"2023-11-16T15:43:51.891892\", \"score\": 0.2400125781060218}, {\"date\": \"2023-11-17T20:40:04.864865\", \"score\": 0.24133828771925891}, {\"date\": \"2023-11-19T01:36:17.837838\", \"score\": 0.2426630966465723}, {\"date\": \"2023-11-20T06:32:30.810811\", \"score\": 0.24398699772490282}, {\"date\": \"2023-11-21T11:28:43.783784\", \"score\": 0.24530998379514068}, {\"date\": \"2023-11-22T16:24:56.756757\", \"score\": 0.24663204770215935}, {\"date\": \"2023-11-23T21:21:09.729730\", \"score\": 0.2479531822948495}, {\"date\": \"2023-11-25T02:17:22.702703\", \"score\": 0.24927338042618286}, {\"date\": \"2023-11-26T07:13:35.675676\", \"score\": 0.2505926349532312}, {\"date\": \"2023-11-27T12:09:48.648649\", \"score\": 0.251910938737233}, {\"date\": \"2023-11-28T17:06:01.621622\", \"score\": 0.2532282846436127}, {\"date\": \"2023-11-29T22:02:14.594594\", \"score\": 0.25454466554204386}, {\"date\": \"2023-12-01T02:58:27.567568\", \"score\": 0.25586007430648366}, {\"date\": \"2023-12-02T07:54:40.540540\", \"score\": 0.2571745038152062}, {\"date\": \"2023-12-03T12:50:53.513514\", \"score\": 0.25848794695086647}, {\"date\": \"2023-12-04T17:47:06.486486\", \"score\": 0.259800396600519}, {\"date\": \"2023-12-05T22:43:19.459460\", \"score\": 0.26111184565568474}, {\"date\": \"2023-12-07T03:39:32.432432\", \"score\": 0.2624222870123693}, {\"date\": \"2023-12-08T08:35:45.405406\", \"score\": 0.2637317135711301}, {\"date\": \"2023-12-09T13:31:58.378378\", \"score\": 0.2650401182370948}, {\"date\": \"2023-12-10T18:28:11.351351\", \"score\": 0.26634749392002505}, {\"date\": \"2023-12-11T23:24:24.324324\", \"score\": 0.2676538335343496}, {\"date\": \"2023-12-13T04:20:37.297297\", \"score\": 0.2689591299991986}, {\"date\": \"2023-12-14T09:16:50.270270\", \"score\": 0.2702633762384665}, {\"date\": \"2023-12-15T14:13:03.243243\", \"score\": 0.2715665651808311}, {\"date\": \"2023-12-16T19:09:16.216216\", \"score\": 0.27286868975981954}, {\"date\": \"2023-12-18T00:05:29.189189\", \"score\": 0.274169742913827}, {\"date\": \"2023-12-19T05:01:42.162162\", \"score\": 0.2754697175861802}, {\"date\": \"2023-12-20T09:57:55.135135\", \"score\": 0.27676860672517073}, {\"date\": \"2023-12-21T14:54:08.108108\", \"score\": 0.2780664032840884}, {\"date\": \"2023-12-22T19:50:21.081081\", \"score\": 0.27936310022128463}, {\"date\": \"2023-12-24T00:46:34.054054\", \"score\": 0.2806586905001909}, {\"date\": \"2023-12-25T05:42:47.027027\", \"score\": 0.2819531670893848}, {\"date\": \"2023-12-26T10:39:00\", \"score\": 0.2832465229626085}, {\"date\": \"2023-12-27T15:35:12.972973\", \"score\": 0.28453875109883187}, {\"date\": \"2023-12-28T20:31:25.945946\", \"score\": 0.28582984448228593}, {\"date\": \"2023-12-30T01:27:38.918919\", \"score\": 0.28711979610249583}, {\"date\": \"2023-12-31T06:23:51.891892\", \"score\": 0.2884085989543439}, {\"date\": \"2024-01-01T11:20:04.864865\", \"score\": 0.2896962460380882}, {\"date\": \"2024-01-02T16:16:17.837838\", \"score\": 0.29098273035942807}, {\"date\": \"2024-01-03T21:12:30.810811\", \"score\": 0.29226804492952285}, {\"date\": \"2024-01-05T02:08:43.783784\", \"score\": 0.2935521827650544}, {\"date\": \"2024-01-06T07:04:56.756757\", \"score\": 0.2948351368882601}, {\"date\": \"2024-01-07T12:01:09.729730\", \"score\": 0.2961169003269664}, {\"date\": \"2024-01-08T16:57:22.702703\", \"score\": 0.2973974661146511}, {\"date\": \"2024-01-09T21:53:35.675676\", \"score\": 0.29867682729046185}, {\"date\": \"2024-01-11T02:49:48.648649\", \"score\": 0.29995497689928147}, {\"date\": \"2024-01-12T07:46:01.621622\", \"score\": 0.3012319079917463}, {\"date\": \"2024-01-13T12:42:14.594594\", \"score\": 0.30250761362430884}, {\"date\": \"2024-01-14T17:38:27.567568\", \"score\": 0.3037820868592703}, {\"date\": \"2024-01-15T22:34:40.540540\", \"score\": 0.30505532076481395}, {\"date\": \"2024-01-17T03:30:53.513514\", \"score\": 0.30632730841506717}, {\"date\": \"2024-01-18T08:27:06.486486\", \"score\": 0.30759804289011977}, {\"date\": \"2024-01-19T13:23:19.459460\", \"score\": 0.3088675172760892}, {\"date\": \"2024-01-20T18:19:32.432432\", \"score\": 0.3101357246651384}, {\"date\": \"2024-01-21T23:15:45.405406\", \"score\": 0.31140265815554136}, {\"date\": \"2024-01-23T04:11:58.378378\", \"score\": 0.31266831085170066}, {\"date\": \"2024-01-24T09:08:11.351351\", \"score\": 0.31393267586421003}, {\"date\": \"2024-01-25T14:04:24.324324\", \"score\": 0.31519574630988684}, {\"date\": \"2024-01-26T19:00:37.297297\", \"score\": 0.31645751531180455}, {\"date\": \"2024-01-27T23:56:50.270270\", \"score\": 0.317717975999355}, {\"date\": \"2024-01-29T04:53:03.243243\", \"score\": 0.3189771215082664}, {\"date\": \"2024-01-30T09:49:16.216216\", \"score\": 0.3202349449806677}, {\"date\": \"2024-01-31T14:45:29.189189\", \"score\": 0.3214914395651068}, {\"date\": \"2024-02-01T19:41:42.162162\", \"score\": 0.32274659841661235}, {\"date\": \"2024-02-03T00:37:55.135135\", \"score\": 0.32400041469672597}, {\"date\": \"2024-02-04T05:34:08.108108\", \"score\": 0.32525288157353505}, {\"date\": \"2024-02-05T10:30:21.081081\", \"score\": 0.3265039922217341}, {\"date\": \"2024-02-06T15:26:34.054054\", \"score\": 0.32775373982264266}, {\"date\": \"2024-02-07T20:22:47.027027\", \"score\": 0.3290021175642695}, {\"date\": \"2024-02-09T01:19:00\", \"score\": 0.3302491186413309}, {\"date\": \"2024-02-10T06:15:12.972973\", \"score\": 0.33149473625531145}, {\"date\": \"2024-02-11T11:11:25.945946\", \"score\": 0.3327389636144966}, {\"date\": \"2024-02-12T16:07:38.918919\", \"score\": 0.3339817939340052}, {\"date\": \"2024-02-13T21:03:51.891892\", \"score\": 0.33522322043585}, {\"date\": \"2024-02-15T02:00:04.864865\", \"score\": 0.336463236348956}, {\"date\": \"2024-02-16T06:56:17.837838\", \"score\": 0.33770183490922395}, {\"date\": \"2024-02-17T11:52:30.810811\", \"score\": 0.33893900935954874}, {\"date\": \"2024-02-18T16:48:43.783784\", \"score\": 0.3401747529498793}, {\"date\": \"2024-02-19T21:44:56.756757\", \"score\": 0.3414090589372516}, {\"date\": \"2024-02-21T02:41:09.729730\", \"score\": 0.3426419205858202}, {\"date\": \"2024-02-22T07:37:22.702703\", \"score\": 0.3438733311669192}, {\"date\": \"2024-02-23T12:33:35.675676\", \"score\": 0.34510328395907985}, {\"date\": \"2024-02-24T17:29:48.648649\", \"score\": 0.34633177224809386}, {\"date\": \"2024-02-25T22:26:01.621622\", \"score\": 0.34755878932703127}, {\"date\": \"2024-02-27T03:22:14.594594\", \"score\": 0.34878432849630087}, {\"date\": \"2024-02-28T08:18:27.567568\", \"score\": 0.3500083830636818}, {\"date\": \"2024-02-29T13:14:40.540540\", \"score\": 0.35123094634435587}, {\"date\": \"2024-03-01T18:10:53.513514\", \"score\": 0.35245201166096723}, {\"date\": \"2024-03-02T23:07:06.486486\", \"score\": 0.35367157234364066}, {\"date\": \"2024-03-04T04:03:19.459460\", \"score\": 0.3548896217300436}, {\"date\": \"2024-03-05T08:59:32.432432\", \"score\": 0.35610615316540495}, {\"date\": \"2024-03-06T13:55:45.405406\", \"score\": 0.35732116000257635}, {\"date\": \"2024-03-07T18:51:58.378378\", \"score\": 0.3585346356020513}, {\"date\": \"2024-03-08T23:48:11.351351\", \"score\": 0.3597465733320237}, {\"date\": \"2024-03-10T04:44:24.324324\", \"score\": 0.36095696656842013}, {\"date\": \"2024-03-11T09:40:37.297297\", \"score\": 0.36216580869493115}, {\"date\": \"2024-03-12T14:36:50.270270\", \"score\": 0.36337309310307114}, {\"date\": \"2024-03-13T19:33:03.243243\", \"score\": 0.3645788131921957}, {\"date\": \"2024-03-15T00:29:16.216216\", \"score\": 0.3657829623695634}, {\"date\": \"2024-03-16T05:25:29.189189\", \"score\": 0.3669855340503545}, {\"date\": \"2024-03-17T10:21:42.162162\", \"score\": 0.3681865216577287}, {\"date\": \"2024-03-18T15:17:55.135135\", \"score\": 0.3693859186228576}, {\"date\": \"2024-03-19T20:14:08.108108\", \"score\": 0.3705837183849555}, {\"date\": \"2024-03-21T01:10:21.081081\", \"score\": 0.3717799143913391}, {\"date\": \"2024-03-22T06:06:34.054054\", \"score\": 0.372974500097444}, {\"date\": \"2024-03-23T11:02:47.027027\", \"score\": 0.37416746896688713}, {\"date\": \"2024-03-24T15:59:00\", \"score\": 0.3753588144714839}, {\"date\": \"2024-03-25T20:55:12.972973\", \"score\": 0.3765485300913067}, {\"date\": \"2024-03-27T01:51:25.945946\", \"score\": 0.37773660931471653}, {\"date\": \"2024-03-28T06:47:38.918919\", \"score\": 0.37892304563839374}, {\"date\": \"2024-03-29T11:43:51.891892\", \"score\": 0.3801078325673967}, {\"date\": \"2024-03-30T16:40:04.864865\", \"score\": 0.38129096361517917}, {\"date\": \"2024-03-31T21:36:17.837838\", \"score\": 0.38247243230365113}, {\"date\": \"2024-04-02T02:32:30.810811\", \"score\": 0.3836522321631964}, {\"date\": \"2024-04-03T07:28:43.783784\", \"score\": 0.3848303567327307}, {\"date\": \"2024-04-04T12:24:56.756757\", \"score\": 0.38600679955973266}, {\"date\": \"2024-04-05T17:21:09.729730\", \"score\": 0.3871815542002744}, {\"date\": \"2024-04-06T22:17:22.702703\", \"score\": 0.3883546142190798}, {\"date\": \"2024-04-08T03:13:35.675676\", \"score\": 0.3895259731895415}, {\"date\": \"2024-04-09T08:09:48.648649\", \"score\": 0.3906956246937818}, {\"date\": \"2024-04-10T13:06:01.621622\", \"score\": 0.3918635623226691}, {\"date\": \"2024-04-11T18:02:14.594594\", \"score\": 0.39302977967587654}, {\"date\": \"2024-04-12T22:58:27.567568\", \"score\": 0.39419427036191157}, {\"date\": \"2024-04-14T03:54:40.540540\", \"score\": 0.39535702799814754}, {\"date\": \"2024-04-15T08:50:53.513514\", \"score\": 0.3965180462108804}, {\"date\": \"2024-04-16T13:47:06.486486\", \"score\": 0.3976773186353459}, {\"date\": \"2024-04-17T18:43:19.459460\", \"score\": 0.39883483891578014}, {\"date\": \"2024-04-18T23:39:32.432432\", \"score\": 0.3999906007054357}, {\"date\": \"2024-04-20T04:35:45.405406\", \"score\": 0.40114459766664196}, {\"date\": \"2024-04-21T09:31:58.378378\", \"score\": 0.4022968234708222}, {\"date\": \"2024-04-22T14:28:11.351351\", \"score\": 0.4034472717985499}, {\"date\": \"2024-04-23T19:24:24.324324\", \"score\": 0.40459593633957996}, {\"date\": \"2024-04-25T00:20:37.297297\", \"score\": 0.40574281079287805}, {\"date\": \"2024-04-26T05:16:50.270270\", \"score\": 0.40688788886667765}, {\"date\": \"2024-04-27T10:13:03.243243\", \"score\": 0.40803116427849717}, {\"date\": \"2024-04-28T15:09:16.216216\", \"score\": 0.4091726307551987}, {\"date\": \"2024-04-29T20:05:29.189189\", \"score\": 0.4103122820330052}, {\"date\": \"2024-05-01T01:01:42.162162\", \"score\": 0.4114501118575566}, {\"date\": \"2024-05-02T05:57:55.135135\", \"score\": 0.41258611398393985}, {\"date\": \"2024-05-03T10:54:08.108108\", \"score\": 0.413720282176719}, {\"date\": \"2024-05-04T15:50:21.081081\", \"score\": 0.4148526102099914}, {\"date\": \"2024-05-05T20:46:34.054054\", \"score\": 0.41598309186740373}, {\"date\": \"2024-05-07T01:42:47.027027\", \"score\": 0.4171117209422115}, {\"date\": \"2024-05-08T06:39:00\", \"score\": 0.41823849123729506}, {\"date\": \"2024-05-09T11:35:12.972973\", \"score\": 0.4193633965652158}, {\"date\": \"2024-05-10T16:31:25.945946\", \"score\": 0.4204864307482455}, {\"date\": \"2024-05-11T21:27:38.918919\", \"score\": 0.4216075876183961}, {\"date\": \"2024-05-13T02:23:51.891892\", \"score\": 0.4227268610174753}, {\"date\": \"2024-05-14T07:20:04.864865\", \"score\": 0.423844244797103}, {\"date\": \"2024-05-15T12:16:17.837838\", \"score\": 0.42495973281876903}, {\"date\": \"2024-05-16T17:12:30.810811\", \"score\": 0.42607331895385014}, {\"date\": \"2024-05-17T22:08:43.783784\", \"score\": 0.42718499708366503}, {\"date\": \"2024-05-19T03:04:56.756757\", \"score\": 0.4282947610995034}, {\"date\": \"2024-05-20T08:01:09.729730\", \"score\": 0.42940260490265536}, {\"date\": \"2024-05-21T12:57:22.702703\", \"score\": 0.4305085224044667}, {\"date\": \"2024-05-22T17:53:35.675676\", \"score\": 0.4316125075263548}, {\"date\": \"2024-05-23T22:49:48.648649\", \"score\": 0.4327145541998664}, {\"date\": \"2024-05-25T03:46:01.621622\", \"score\": 0.4338146563666933}, {\"date\": \"2024-05-26T08:42:14.594594\", \"score\": 0.43491280797872756}, {\"date\": \"2024-05-27T13:38:27.567568\", \"score\": 0.4360090029980901}, {\"date\": \"2024-05-28T18:34:40.540540\", \"score\": 0.43710323539715995}, {\"date\": \"2024-05-29T23:30:53.513514\", \"score\": 0.4381954991586284}, {\"date\": \"2024-05-31T04:27:06.486486\", \"score\": 0.439285788275515}, {\"date\": \"2024-06-01T09:23:19.459460\", \"score\": 0.4403740967512247}, {\"date\": \"2024-06-02T14:19:32.432432\", \"score\": 0.44146041859956353}, {\"date\": \"2024-06-03T19:15:45.405406\", \"score\": 0.4425447478447952}, {\"date\": \"2024-06-05T00:11:58.378378\", \"score\": 0.4436270785216575}, {\"date\": \"2024-06-06T05:08:11.351351\", \"score\": 0.44470740467541536}, {\"date\": \"2024-06-07T10:04:24.324324\", \"score\": 0.44578572036189024}, {\"date\": \"2024-06-08T15:00:37.297297\", \"score\": 0.446862019647488}, {\"date\": \"2024-06-09T19:56:50.270270\", \"score\": 0.4479362966092527}, {\"date\": \"2024-06-11T00:53:03.243243\", \"score\": 0.4490085453348826}, {\"date\": \"2024-06-12T05:49:16.216216\", \"score\": 0.45007875992278573}, {\"date\": \"2024-06-13T10:45:29.189189\", \"score\": 0.45114693448209564}, {\"date\": \"2024-06-14T15:41:42.162162\", \"score\": 0.45221306313272536}, {\"date\": \"2024-06-15T20:37:55.135135\", \"score\": 0.4532771400053942}, {\"date\": \"2024-06-17T01:34:08.108108\", \"score\": 0.4543391592416574}, {\"date\": \"2024-06-18T06:30:21.081081\", \"score\": 0.455399114993958}, {\"date\": \"2024-06-19T11:26:34.054054\", \"score\": 0.45645700142564294}, {\"date\": \"2024-06-20T16:22:47.027027\", \"score\": 0.4575128127110179}, {\"date\": \"2024-06-21T21:19:00\", \"score\": 0.45856654303536337}, {\"date\": \"2024-06-23T02:15:12.972973\", \"score\": 0.45961818659498677}, {\"date\": \"2024-06-24T07:11:25.945946\", \"score\": 0.46066773759725044}, {\"date\": \"2024-06-25T12:07:38.918919\", \"score\": 0.46171519026059954}, {\"date\": \"2024-06-26T17:03:51.891892\", \"score\": 0.4627605388146139}, {\"date\": \"2024-06-27T22:00:04.864865\", \"score\": 0.46380377750002405}, {\"date\": \"2024-06-29T02:56:17.837838\", \"score\": 0.4648449005687649}, {\"date\": \"2024-06-30T07:52:30.810811\", \"score\": 0.465883902283992}, {\"date\": \"2024-07-01T12:48:43.783784\", \"score\": 0.46692077692013284}, {\"date\": \"2024-07-02T17:44:56.756757\", \"score\": 0.46795551876291425}, {\"date\": \"2024-07-03T22:41:09.729730\", \"score\": 0.46898812210939017}, {\"date\": \"2024-07-05T03:37:22.702703\", \"score\": 0.47001858126799295}, {\"date\": \"2024-07-06T08:33:35.675676\", \"score\": 0.4710468905585487}, {\"date\": \"2024-07-07T13:29:48.648649\", \"score\": 0.472073044312331}, {\"date\": \"2024-07-08T18:26:01.621622\", \"score\": 0.47309703687207594}, {\"date\": \"2024-07-09T23:22:14.594594\", \"score\": 0.4741188625920335}, {\"date\": \"2024-07-11T04:18:27.567568\", \"score\": 0.4751385158379942}, {\"date\": \"2024-07-12T09:14:40.540540\", \"score\": 0.4761559909873171}, {\"date\": \"2024-07-13T14:10:53.513514\", \"score\": 0.47717128242897927}, {\"date\": \"2024-07-14T19:07:06.486486\", \"score\": 0.47818438456359186}, {\"date\": \"2024-07-16T00:03:19.459460\", \"score\": 0.4791952918034528}, {\"date\": \"2024-07-17T04:59:32.432432\", \"score\": 0.48020399857256163}, {\"date\": \"2024-07-18T09:55:45.405406\", \"score\": 0.4812104993066722}, {\"date\": \"2024-07-19T14:51:58.378378\", \"score\": 0.4822147884533081}, {\"date\": \"2024-07-20T19:48:11.351351\", \"score\": 0.4832168604718125}, {\"date\": \"2024-07-22T00:44:24.324324\", \"score\": 0.48421670983337417}, {\"date\": \"2024-07-23T05:40:37.297297\", \"score\": 0.48521433102105527}, {\"date\": \"2024-07-24T10:36:50.270270\", \"score\": 0.48620971852984035}, {\"date\": \"2024-07-25T15:33:03.243243\", \"score\": 0.4872028668666511}, {\"date\": \"2024-07-26T20:29:16.216216\", \"score\": 0.48819377055039903}, {\"date\": \"2024-07-28T01:25:29.189189\", \"score\": 0.4891824241119993}, {\"date\": \"2024-07-29T06:21:42.162162\", \"score\": 0.490168822094421}, {\"date\": \"2024-07-30T11:17:55.135135\", \"score\": 0.4911529590527123}, {\"date\": \"2024-07-31T16:14:08.108108\", \"score\": 0.49213482955402793}, {\"date\": \"2024-08-01T21:10:21.081081\", \"score\": 0.4931144281776773}, {\"date\": \"2024-08-03T02:06:34.054054\", \"score\": 0.4940917495151394}, {\"date\": \"2024-08-04T07:02:47.027027\", \"score\": 0.4950667881701139}, {\"date\": \"2024-08-05T11:59:00\", \"score\": 0.49603953875853596}, {\"date\": \"2024-08-06T16:55:12.972973\", \"score\": 0.49700999590862444}, {\"date\": \"2024-08-07T21:51:25.945946\", \"score\": 0.4979781542609079}, {\"date\": \"2024-08-09T02:47:38.918919\", \"score\": 0.4989440084682507}, {\"date\": \"2024-08-10T07:43:51.891892\", \"score\": 0.49990755319590063}, {\"date\": \"2024-08-11T12:40:04.864865\", \"score\": 0.500868783121504}, {\"date\": \"2024-08-12T17:36:17.837838\", \"score\": 0.5018276929351554}, {\"date\": \"2024-08-13T22:32:30.810811\", \"score\": 0.5027842773394126}, {\"date\": \"2024-08-15T03:28:43.783784\", \"score\": 0.5037385310493439}, {\"date\": \"2024-08-16T08:24:56.756757\", \"score\": 0.5046904487925534}, {\"date\": \"2024-08-17T13:21:09.729730\", \"score\": 0.5056400253092076}, {\"date\": \"2024-08-18T18:17:22.702703\", \"score\": 0.5065872553520812}, {\"date\": \"2024-08-19T23:13:35.675676\", \"score\": 0.5075321336865724}, {\"date\": \"2024-08-21T04:09:48.648649\", \"score\": 0.5084746550907523}, {\"date\": \"2024-08-22T09:06:01.621622\", \"score\": 0.5094148143553784}, {\"date\": \"2024-08-23T14:02:14.594594\", \"score\": 0.5103526062839424}, {\"date\": \"2024-08-24T18:58:27.567568\", \"score\": 0.5112880256926948}, {\"date\": \"2024-08-25T23:54:40.540540\", \"score\": 0.5122210674106699}, {\"date\": \"2024-08-27T04:50:53.513514\", \"score\": 0.5131517262797325}, {\"date\": \"2024-08-28T09:47:06.486486\", \"score\": 0.5140799971545921}, {\"date\": \"2024-08-29T14:43:19.459460\", \"score\": 0.515005874902851}, {\"date\": \"2024-08-30T19:39:32.432432\", \"score\": 0.515929354405019}, {\"date\": \"2024-09-01T00:35:45.405406\", \"score\": 0.5168504305545609}, {\"date\": \"2024-09-02T05:31:58.378378\", \"score\": 0.5177690982579111}, {\"date\": \"2024-09-03T10:28:11.351351\", \"score\": 0.5186853524345193}, {\"date\": \"2024-09-04T15:24:24.324324\", \"score\": 0.5195991880168745}, {\"date\": \"2024-09-05T20:20:37.297297\", \"score\": 0.5205105999505304}, {\"date\": \"2024-09-07T01:16:50.270270\", \"score\": 0.5214195831941502}, {\"date\": \"2024-09-08T06:13:03.243243\", \"score\": 0.5223261327195206}, {\"date\": \"2024-09-09T11:09:16.216216\", \"score\": 0.5232302435115995}, {\"date\": \"2024-09-10T16:05:29.189189\", \"score\": 0.5241319105685293}, {\"date\": \"2024-09-11T21:01:42.162162\", \"score\": 0.5262890208725247}, {\"date\": \"2024-09-13T01:57:55.135135\", \"score\": 0.5289153540613997}, {\"date\": \"2024-09-14T06:54:08.108108\", \"score\": 0.5315391481553585}, {\"date\": \"2024-09-15T11:50:21.081081\", \"score\": 0.5341603516413155}, {\"date\": \"2024-09-16T16:46:34.054054\", \"score\": 0.5367789130229244}, {\"date\": \"2024-09-17T21:42:47.027027\", \"score\": 0.5393947808219103}, {\"date\": \"2024-09-19T02:39:00\", \"score\": 0.542007903579305}, {\"date\": \"2024-09-20T07:35:12.972973\", \"score\": 0.5446182298567719}, {\"date\": \"2024-09-21T12:31:25.945946\", \"score\": 0.5472257082378718}, {\"date\": \"2024-09-22T17:27:38.918919\", \"score\": 0.5498302873293262}, {\"date\": \"2024-09-23T22:23:51.891892\", \"score\": 0.5524319157623425}, {\"date\": \"2024-09-25T03:20:04.864865\", \"score\": 0.5550305421938477}, {\"date\": \"2024-09-26T08:16:17.837838\", \"score\": 0.5576261153078172}, {\"date\": \"2024-09-27T13:12:30.810811\", \"score\": 0.5602185838165094}, {\"date\": \"2024-09-28T18:08:43.783784\", \"score\": 0.562807896461786}, {\"date\": \"2024-09-29T23:04:56.756757\", \"score\": 0.5653940020163759}, {\"date\": \"2024-10-01T04:01:09.729730\", \"score\": 0.5679768492851363}, {\"date\": \"2024-10-02T08:57:22.702703\", \"score\": 0.5705563871063727}, {\"date\": \"2024-10-03T13:53:35.675676\", \"score\": 0.5731325643530703}, {\"date\": \"2024-10-04T18:49:48.648649\", \"score\": 0.5757053299342187}, {\"date\": \"2024-10-05T23:46:01.621622\", \"score\": 0.5782746327960424}, {\"date\": \"2024-10-07T04:42:14.594594\", \"score\": 0.5808404219233166}, {\"date\": \"2024-10-08T09:38:27.567568\", \"score\": 0.583402646340627}, {\"date\": \"2024-10-09T14:34:40.540540\", \"score\": 0.5859612551136257}, {\"date\": \"2024-10-10T19:30:53.513514\", \"score\": 0.5885161973503467}, {\"date\": \"2024-10-12T00:27:06.486486\", \"score\": 0.5910674222024312}, {\"date\": \"2024-10-13T05:23:19.459460\", \"score\": 0.5936148788664486}, {\"date\": \"2024-10-14T10:19:32.432432\", \"score\": 0.5961585165851182}, {\"date\": \"2024-10-15T15:15:45.405406\", \"score\": 0.5986982846486287}, {\"date\": \"2024-10-16T20:11:58.378378\", \"score\": 0.6012341323958595}, {\"date\": \"2024-10-18T01:08:11.351351\", \"score\": 0.6037660092156903}, {\"date\": \"2024-10-19T06:04:24.324324\", \"score\": 0.6062938645482506}, {\"date\": \"2024-10-20T11:00:37.297297\", \"score\": 0.6088176478861687}, {\"date\": \"2024-10-21T15:56:50.270270\", \"score\": 0.6113373087758772}, {\"date\": \"2024-10-22T20:53:03.243243\", \"score\": 0.6138527968188306}, {\"date\": \"2024-10-24T01:49:16.216216\", \"score\": 0.6163640616728147}, {\"date\": \"2024-10-25T06:45:29.189189\", \"score\": 0.6188710530531606}, {\"date\": \"2024-10-26T11:41:42.162162\", \"score\": 0.6213737207340474}, {\"date\": \"2024-10-27T16:37:55.135135\", \"score\": 0.6238720145497418}, {\"date\": \"2024-10-28T21:34:08.108108\", \"score\": 0.6263658843958398}, {\"date\": \"2024-10-30T02:30:21.081081\", \"score\": 0.6288552802305629}, {\"date\": \"2024-10-31T07:26:34.054054\", \"score\": 0.6313401520759665}, {\"date\": \"2024-11-01T12:22:47.027027\", \"score\": 0.6338204500192404}, {\"date\": \"2024-11-02T17:19:00\", \"score\": 0.6362961242139138}, {\"date\": \"2024-11-03T22:15:12.972973\", \"score\": 0.6387671248811468}, {\"date\": \"2024-11-05T03:11:25.945946\", \"score\": 0.6412334023109619}, {\"date\": \"2024-11-06T08:07:38.918919\", \"score\": 0.6436949068634744}, {\"date\": \"2024-11-07T13:03:51.891892\", \"score\": 0.6461515889701782}, {\"date\": \"2024-11-08T18:00:04.864865\", \"score\": 0.6486033991351444}, {\"date\": \"2024-11-09T22:56:17.837838\", \"score\": 0.6510502879363099}, {\"date\": \"2024-11-11T03:52:30.810811\", \"score\": 0.6534922060266726}, {\"date\": \"2024-11-12T08:48:43.783784\", \"score\": 0.6559291041355697}, {\"date\": \"2024-11-13T13:44:56.756757\", \"score\": 0.6583609330698994}, {\"date\": \"2024-11-14T18:41:09.729730\", \"score\": 0.6607876437153388}, {\"date\": \"2024-11-15T23:37:22.702703\", \"score\": 0.6632091870376179}, {\"date\": \"2024-11-17T04:33:35.675676\", \"score\": 0.6656255140837058}, {\"date\": \"2024-11-18T09:29:48.648649\", \"score\": 0.6680365759830865}, {\"date\": \"2024-11-19T14:26:01.621622\", \"score\": 0.6704423239489418}, {\"date\": \"2024-11-20T19:22:14.594594\", \"score\": 0.6728427092794173}, {\"date\": \"2024-11-22T00:18:27.567568\", \"score\": 0.6752376833588293}, {\"date\": \"2024-11-23T05:14:40.540540\", \"score\": 0.6776271976588712}, {\"date\": \"2024-11-24T10:10:53.513514\", \"score\": 0.6800112037398723}, {\"date\": \"2024-11-25T15:07:06.486486\", \"score\": 0.6823896532519713}, {\"date\": \"2024-11-26T20:03:19.459460\", \"score\": 0.6847624979363769}, {\"date\": \"2024-11-28T00:59:32.432432\", \"score\": 0.687129689626538}, {\"date\": \"2024-11-29T05:55:45.405406\", \"score\": 0.689491180249399}, {\"date\": \"2024-11-30T10:51:58.378378\", \"score\": 0.6918469218265659}, {\"date\": \"2024-12-01T15:48:11.351351\", \"score\": 0.6941968664755513}, {\"date\": \"2024-12-02T20:44:24.324324\", \"score\": 0.696540966410964}, {\"date\": \"2024-12-04T01:40:37.297297\", \"score\": 0.6988791739456947}, {\"date\": \"2024-12-05T06:36:50.270270\", \"score\": 0.7012114414921544}, {\"date\": \"2024-12-06T11:33:03.243243\", \"score\": 0.7035377215634304}, {\"date\": \"2024-12-07T16:29:16.216216\", \"score\": 0.7058579667745235}, {\"date\": \"2024-12-08T21:25:29.189189\", \"score\": 0.7081721298434994}, {\"date\": \"2024-12-10T02:21:42.162162\", \"score\": 0.7104801635927164}, {\"date\": \"2024-12-11T07:17:55.135135\", \"score\": 0.7127820209499981}, {\"date\": \"2024-12-12T12:14:08.108108\", \"score\": 0.7150776549498028}, {\"date\": \"2024-12-13T17:10:21.081081\", \"score\": 0.7173670187344446}, {\"date\": \"2024-12-14T22:06:34.054054\", \"score\": 0.719650065555231}, {\"date\": \"2024-12-16T03:02:47.027027\", \"score\": 0.7219267487736835}, {\"date\": \"2024-12-17T07:59:00\", \"score\": 0.7241970218626707}, {\"date\": \"2024-12-18T12:55:12.972973\", \"score\": 0.726460838407618}, {\"date\": \"2024-12-19T17:51:25.945946\", \"score\": 0.728718152107662}, {\"date\": \"2024-12-20T22:47:38.918919\", \"score\": 0.7309689167768016}, {\"date\": \"2024-12-22T03:43:51.891892\", \"score\": 0.7332130863450995}, {\"date\": \"2024-12-23T08:40:04.864865\", \"score\": 0.7354506148598022}, {\"date\": \"2024-12-24T13:36:17.837838\", \"score\": 0.7376814564865402}, {\"date\": \"2024-12-25T18:32:30.810811\", \"score\": 0.7399055655104424}, {\"date\": \"2024-12-26T23:28:43.783784\", \"score\": 0.7421228963373261}, {\"date\": \"2024-12-28T04:24:56.756757\", \"score\": 0.7443334034948307}, {\"date\": \"2024-12-29T09:21:09.729730\", \"score\": 0.7465370416335508}, {\"date\": \"2024-12-30T14:17:22.702703\", \"score\": 0.7487337655282151}, {\"date\": \"2024-12-31T19:13:35.675676\", \"score\": 0.7509235300787876}, {\"date\": \"2025-01-02T00:09:48.648649\", \"score\": 0.7531062903116458}, {\"date\": \"2025-01-03T05:06:01.621622\", \"score\": 0.755282001380676}, {\"date\": \"2025-01-04T10:02:14.594594\", \"score\": 0.7574506185684404}, {\"date\": \"2025-01-05T14:58:27.567568\", \"score\": 0.7596120972872903}, {\"date\": \"2025-01-06T19:54:40.540540\", \"score\": 0.7617663930804777}, {\"date\": \"2025-01-08T00:50:53.513514\", \"score\": 0.7639134616233116}, {\"date\": \"2025-01-09T05:47:06.486486\", \"score\": 0.7660532587242396}, {\"date\": \"2025-01-10T10:43:19.459460\", \"score\": 0.7681857403260005}, {\"date\": \"2025-01-11T15:39:32.432432\", \"score\": 0.7703108625067007}, {\"date\": \"2025-01-12T20:35:45.405406\", \"score\": 0.77242858148096}, {\"date\": \"2025-01-14T01:31:58.378378\", \"score\": 0.7745388536009815}, {\"date\": \"2025-01-15T06:28:11.351351\", \"score\": 0.776641635357686}, {\"date\": \"2025-01-16T11:24:24.324324\", \"score\": 0.7787368833817979}, {\"date\": \"2025-01-17T16:20:37.297297\", \"score\": 0.7808245544449265}, {\"date\": \"2025-01-18T21:16:50.270270\", \"score\": 0.7829046054606914}, {\"date\": \"2025-01-20T02:13:03.243243\", \"score\": 0.7849769934857745}, {\"date\": \"2025-01-21T07:09:16.216216\", \"score\": 0.7870416757210424}, {\"date\": \"2025-01-22T12:05:29.189189\", \"score\": 0.7890986095125905}, {\"date\": \"2025-01-23T17:01:42.162162\", \"score\": 0.7911477523528543}, {\"date\": \"2025-01-24T21:57:55.135135\", \"score\": 0.7931890618816704}, {\"date\": \"2025-01-26T02:54:08.108108\", \"score\": 0.7952224958873333}, {\"date\": \"2025-01-27T07:50:21.081081\", \"score\": 0.7972480123076952}, {\"date\": \"2025-01-28T12:46:34.054054\", \"score\": 0.7992655692311925}, {\"date\": \"2025-01-29T17:42:47.027027\", \"score\": 0.8012751248979437}, {\"date\": \"2025-01-30T22:39:00\", \"score\": 0.8032766377007673}, {\"date\": \"2025-02-01T03:35:12.972973\", \"score\": 0.8052700661862676}, {\"date\": \"2025-02-02T08:31:25.945946\", \"score\": 0.8072553690558689}, {\"date\": \"2025-02-03T13:27:38.918919\", \"score\": 0.8092325051668473}, {\"date\": \"2025-02-04T18:23:51.891892\", \"score\": 0.8112014335334026}, {\"date\": \"2025-02-05T23:20:04.864865\", \"score\": 0.8131621133276599}, {\"date\": \"2025-02-07T04:16:17.837838\", \"score\": 0.8151145038807388}, {\"date\": \"2025-02-08T09:12:30.810811\", \"score\": 0.8170585646837463}, {\"date\": \"2025-02-09T14:08:43.783784\", \"score\": 0.8189942553888336}, {\"date\": \"2025-02-10T19:04:56.756757\", \"score\": 0.820921535810204}, {\"date\": \"2025-02-12T00:01:09.729730\", \"score\": 0.8228403659251167}, {\"date\": \"2025-02-13T04:57:22.702703\", \"score\": 0.8247507058749314}, {\"date\": \"2025-02-14T09:53:35.675676\", \"score\": 0.8266525159660814}, {\"date\": \"2025-02-15T14:49:48.648649\", \"score\": 0.8285457566711142}, {\"date\": \"2025-02-16T19:46:01.621622\", \"score\": 0.8304303886296575}, {\"date\": \"2025-02-18T00:42:14.594594\", \"score\": 0.8323063726494464}, {\"date\": \"2025-02-19T05:38:27.567568\", \"score\": 0.8341736697073028}, {\"date\": \"2025-02-20T10:34:40.540540\", \"score\": 0.8360322409501105}, {\"date\": \"2025-02-21T15:30:53.513514\", \"score\": 0.8378820476958299}, {\"date\": \"2025-02-22T20:27:06.486486\", \"score\": 0.8397230514344431}, {\"date\": \"2025-02-24T01:23:19.459460\", \"score\": 0.8415552138289645}, {\"date\": \"2025-02-25T06:19:32.432432\", \"score\": 0.8433784967163769}, {\"date\": \"2025-02-26T11:15:45.405406\", \"score\": 0.845192862108633}, {\"date\": \"2025-02-27T16:11:58.378378\", \"score\": 0.8469982721935837}, {\"date\": \"2025-02-28T21:08:11.351351\", \"score\": 0.8487946893359665}, {\"date\": \"2025-03-02T02:04:24.324324\", \"score\": 0.8505820760783452}, {\"date\": \"2025-03-03T07:00:37.297297\", \"score\": 0.8523603951420491}, {\"date\": \"2025-03-04T11:56:50.270270\", \"score\": 0.8541296094281436}, {\"date\": \"2025-03-05T16:53:03.243243\", \"score\": 0.8558896820183408}, {\"date\": \"2025-03-06T21:49:16.216216\", \"score\": 0.8576405761759657}, {\"date\": \"2025-03-08T02:45:29.189189\", \"score\": 0.8593822553468561}, {\"date\": \"2025-03-09T07:41:42.162162\", \"score\": 0.8611146831603178}, {\"date\": \"2025-03-10T12:37:55.135135\", \"score\": 0.8628378234300336}, {\"date\": \"2025-03-11T17:34:08.108108\", \"score\": 0.8645516401549698}, {\"date\": \"2025-03-12T22:30:21.081081\", \"score\": 0.8662560975203164}, {\"date\": \"2025-03-14T03:26:34.054054\", \"score\": 0.8679511598983638}, {\"date\": \"2025-03-15T08:22:47.027027\", \"score\": 0.8696367918494379}, {\"date\": \"2025-03-16T13:19:00\", \"score\": 0.8713129581227675}, {\"date\": \"2025-03-17T18:15:12.972973\", \"score\": 0.8729796236574058}, {\"date\": \"2025-03-18T23:11:25.945946\", \"score\": 0.8746367535831074}, {\"date\": \"2025-03-20T04:07:38.918919\", \"score\": 0.8762843132212023}, {\"date\": \"2025-03-21T09:03:51.891892\", \"score\": 0.8779222680855017}, {\"date\": \"2025-03-22T14:00:04.864865\", \"score\": 0.8795505838831428}, {\"date\": \"2025-03-23T18:56:17.837838\", \"score\": 0.8811692265154889}, {\"date\": \"2025-03-24T23:52:30.810811\", \"score\": 0.8827781620789648}, {\"date\": \"2025-03-26T04:48:43.783784\", \"score\": 0.8843773568659424}, {\"date\": \"2025-03-27T09:44:56.756757\", \"score\": 0.8859667773655865}, {\"date\": \"2025-03-28T14:41:09.729730\", \"score\": 0.8875463902646922}, {\"date\": \"2025-03-29T19:37:22.702703\", \"score\": 0.8891161624485572}, {\"date\": \"2025-03-31T00:33:35.675676\", \"score\": 0.8906760610017931}, {\"date\": \"2025-04-01T05:29:48.648649\", \"score\": 0.8922260532091896}, {\"date\": \"2025-04-02T10:26:01.621622\", \"score\": 0.8937661065565156}, {\"date\": \"2025-04-03T15:22:14.594594\", \"score\": 0.8952961887313703}, {\"date\": \"2025-04-04T20:18:27.567568\", \"score\": 0.8968162676239927}, {\"date\": \"2025-04-06T01:14:40.540540\", \"score\": 0.8983263113280655}, {\"date\": \"2025-04-07T06:10:53.513514\", \"score\": 0.8998262881415509}, {\"date\": \"2025-04-08T11:07:06.486486\", \"score\": 0.9013161665674664}, {\"date\": \"2025-04-09T16:03:19.459460\", \"score\": 0.9027959153147131}, {\"date\": \"2025-04-10T20:59:32.432432\", \"score\": 0.9042655032988423}, {\"date\": \"2025-04-12T01:55:45.405406\", \"score\": 0.905724899642872}, {\"date\": \"2025-04-13T06:51:58.378378\", \"score\": 0.9071740736780448}, {\"date\": \"2025-04-14T11:48:11.351351\", \"score\": 0.9086129949446291}, {\"date\": \"2025-04-15T16:44:24.324324\", \"score\": 0.9100416331926839}, {\"date\": \"2025-04-16T21:40:37.297297\", \"score\": 0.9114599583828161}, {\"date\": \"2025-04-18T02:36:50.270270\", \"score\": 0.9128679406869668}, {\"date\": \"2025-04-19T07:33:03.243243\", \"score\": 0.9142655504891437}, {\"date\": \"2025-04-20T12:29:16.216216\", \"score\": 0.9156527583861984}, {\"date\": \"2025-04-21T17:25:29.189189\", \"score\": 0.9170295351885476}, {\"date\": \"2025-04-22T22:21:42.162162\", \"score\": 0.9183958519209378}, {\"date\": \"2025-04-24T03:17:55.135135\", \"score\": 0.9197516798231712}, {\"date\": \"2025-04-25T08:14:08.108108\", \"score\": 0.9210969903508275}, {\"date\": \"2025-04-26T13:10:21.081081\", \"score\": 0.9224317551760101}, {\"date\": \"2025-04-27T18:06:34.054054\", \"score\": 0.9237559461880427}, {\"date\": \"2025-04-28T23:02:47.027027\", \"score\": 0.925069535494207}, {\"date\": \"2025-04-30T03:59:00\", \"score\": 0.9263724954204271}, {\"date\": \"2025-05-01T08:55:12.972973\", \"score\": 0.9276647985119947}, {\"date\": \"2025-05-02T13:51:25.945946\", \"score\": 0.9289464175342571}, {\"date\": \"2025-05-03T18:47:38.918919\", \"score\": 0.9302173254733012}, {\"date\": \"2025-05-04T23:43:51.891892\", \"score\": 0.9314774955366598}, {\"date\": \"2025-05-06T04:40:04.864865\", \"score\": 0.9327269011539703}, {\"date\": \"2025-05-07T09:36:17.837838\", \"score\": 0.9339655159776723}, {\"date\": \"2025-05-08T14:32:30.810811\", \"score\": 0.9351933138836549}, {\"date\": \"2025-05-09T19:28:43.783784\", \"score\": 0.9364102689719409}, {\"date\": \"2025-05-11T00:24:56.756757\", \"score\": 0.9376163555673361}, {\"date\": \"2025-05-12T05:21:09.729730\", \"score\": 0.9388115482200741}, {\"date\": \"2025-05-13T10:17:22.702703\", \"score\": 0.9399958217064827}, {\"date\": \"2025-05-14T15:13:35.675676\", \"score\": 0.9411691510296032}, {\"date\": \"2025-05-15T20:09:48.648649\", \"score\": 0.9423315114198477}, {\"date\": \"2025-05-17T01:06:01.621622\", \"score\": 0.9434828783356077}, {\"date\": \"2025-05-18T06:02:14.594594\", \"score\": 0.944623227463896}, {\"date\": \"2025-05-19T10:58:27.567568\", \"score\": 0.9457525347209581}, {\"date\": \"2025-05-20T15:54:40.540540\", \"score\": 0.9468707762528754}, {\"date\": \"2025-05-21T20:50:53.513514\", \"score\": 0.9479779284361918}, {\"date\": \"2025-05-23T01:47:06.486486\", \"score\": 0.9490739678784922}, {\"date\": \"2025-05-24T06:43:19.459460\", \"score\": 0.950158871419019}, {\"date\": \"2025-05-25T11:39:32.432432\", \"score\": 0.9512326161292404}, {\"date\": \"2025-05-26T16:35:45.405406\", \"score\": 0.9522951793134532}, {\"date\": \"2025-05-27T21:31:58.378378\", \"score\": 0.9533465385093416}, {\"date\": \"2025-05-29T02:28:11.351351\", \"score\": 0.9543866714885644}, {\"date\": \"2025-05-30T07:24:24.324324\", \"score\": 0.9554155562573137}, {\"date\": \"2025-05-31T12:20:37.297297\", \"score\": 0.9564331710568668}, {\"date\": \"2025-06-01T17:16:50.270270\", \"score\": 0.9574394943641573}, {\"date\": \"2025-06-02T22:13:03.243243\", \"score\": 0.9584345048923026}, {\"date\": \"2025-06-04T03:09:16.216216\", \"score\": 0.9594181815911648}, {\"date\": \"2025-06-05T08:05:29.189189\", \"score\": 0.9603905036478679}, {\"date\": \"2025-06-06T13:01:42.162162\", \"score\": 0.9613514504873426}, {\"date\": \"2025-06-07T17:57:55.135135\", \"score\": 0.962301001772844}, {\"date\": \"2025-06-08T22:54:08.108108\", \"score\": 0.9632391374064612}, {\"date\": \"2025-06-10T03:50:21.081081\", \"score\": 0.9641658375296451}, {\"date\": \"2025-06-11T08:46:34.054054\", \"score\": 0.9650810825236962}, {\"date\": \"2025-06-12T13:42:47.027027\", \"score\": 0.9659848530102799}, {\"date\": \"2025-06-13T18:39:00\", \"score\": 0.9668771298519044}, {\"date\": \"2025-06-14T23:35:12.972973\", \"score\": 0.9677578941524209}, {\"date\": \"2025-06-16T04:31:25.945946\", \"score\": 0.9686271272574989}, {\"date\": \"2025-06-17T09:27:38.918919\", \"score\": 0.9694848107550943}, {\"date\": \"2025-06-18T14:23:51.891892\", \"score\": 0.9703309264759337}, {\"date\": \"2025-06-19T19:20:04.864865\", \"score\": 0.9711654564939586}, {\"date\": \"2025-06-21T00:16:17.837838\", \"score\": 0.9719883831267982}, {\"date\": \"2025-06-22T05:12:30.810811\", \"score\": 0.9727996889362057}, {\"date\": \"2025-06-23T10:08:43.783784\", \"score\": 0.9735993567285126}, {\"date\": \"2025-06-24T15:04:56.756757\", \"score\": 0.9743873695550628}, {\"date\": \"2025-06-25T20:01:09.729730\", \"score\": 0.9751637107126372}, {\"date\": \"2025-06-27T00:57:22.702703\", \"score\": 0.9759283637438928}, {\"date\": \"2025-06-28T05:53:35.675676\", \"score\": 0.976681312437766}, {\"date\": \"2025-06-29T10:49:48.648649\", \"score\": 0.9774225408299008}, {\"date\": \"2025-06-30T15:46:01.621622\", \"score\": 0.9781520332030398}, {\"date\": \"2025-07-01T20:42:14.594594\", \"score\": 0.9788697740874375}, {\"date\": \"2025-07-03T01:38:27.567568\", \"score\": 0.9795757482612484}, {\"date\": \"2025-07-04T06:34:40.540540\", \"score\": 0.9802699407509093}, {\"date\": \"2025-07-05T11:30:53.513514\", \"score\": 0.9809523368315332}, {\"date\": \"2025-07-06T16:27:06.486486\", \"score\": 0.9816229220272695}, {\"date\": \"2025-07-07T21:23:19.459460\", \"score\": 0.9822816821116872}, {\"date\": \"2025-07-09T02:19:32.432432\", \"score\": 0.9829286031081228}, {\"date\": \"2025-07-10T07:15:45.405406\", \"score\": 0.9835636712900496}, {\"date\": \"2025-07-11T12:11:58.378378\", \"score\": 0.9841868731814146}, {\"date\": \"2025-07-12T17:08:11.351351\", \"score\": 0.9847981955569924}, {\"date\": \"2025-07-13T22:04:24.324324\", \"score\": 0.9853976254427174}, {\"date\": \"2025-07-15T03:00:37.297297\", \"score\": 0.9859851501160092}, {\"date\": \"2025-07-16T07:56:50.270270\", \"score\": 0.9865607571061075}, {\"date\": \"2025-07-17T12:53:03.243243\", \"score\": 0.9871244341943781}, {\"date\": \"2025-07-18T17:49:16.216216\", \"score\": 0.9876761694146349}, {\"date\": \"2025-07-19T22:45:29.189189\", \"score\": 0.9882159510534337}, {\"date\": \"2025-07-21T03:41:42.162162\", \"score\": 0.9887437676503802}, {\"date\": \"2025-07-22T08:37:55.135135\", \"score\": 0.9892596079984174}, {\"date\": \"2025-07-23T13:34:08.108108\", \"score\": 0.9897634611441074}, {\"date\": \"2025-07-24T18:30:21.081081\", \"score\": 0.9902553163879195}, {\"date\": \"2025-07-25T23:26:34.054054\", \"score\": 0.9907351632844922}, {\"date\": \"2025-07-27T04:22:47.027027\", \"score\": 0.9912029916429096}, {\"date\": \"2025-07-28T09:19:00\", \"score\": 0.9916587915269502}, {\"date\": \"2025-07-29T14:15:12.972973\", \"score\": 0.9921025532553498}, {\"date\": \"2025-07-30T19:11:25.945946\", \"score\": 0.992534267402043}, {\"date\": \"2025-08-01T00:07:38.918919\", \"score\": 0.9929539247964013}, {\"date\": \"2025-08-02T05:03:51.891892\", \"score\": 0.9933615165234734}, {\"date\": \"2025-08-03T10:00:04.864865\", \"score\": 0.9937570339242039}, {\"date\": \"2025-08-04T14:56:17.837838\", \"score\": 0.9941404685956624}, {\"date\": \"2025-08-05T19:52:30.810811\", \"score\": 0.9945118123912492}, {\"date\": \"2025-08-07T00:48:43.783784\", \"score\": 0.99487105742091}, {\"date\": \"2025-08-08T05:44:56.756757\", \"score\": 0.9952181960513334}, {\"date\": \"2025-08-09T10:41:09.729730\", \"score\": 0.9955532209061434}, {\"date\": \"2025-08-10T15:37:22.702703\", \"score\": 0.9958761248660926}, {\"date\": \"2025-08-11T20:33:35.675676\", \"score\": 0.9961869010692374}, {\"date\": \"2025-08-13T01:29:48.648649\", \"score\": 0.9964855429111187}, {\"date\": \"2025-08-14T06:26:01.621622\", \"score\": 0.9967720440449246}, {\"date\": \"2025-08-15T11:22:14.594594\", \"score\": 0.997046398381657}, {\"date\": \"2025-08-16T16:18:27.567568\", \"score\": 0.9973086000902841}, {\"date\": \"2025-08-17T21:14:40.540540\", \"score\": 0.9975586435978875}, {\"date\": \"2025-08-19T02:10:53.513514\", \"score\": 0.9977965235898084}, {\"date\": \"2025-08-20T07:07:06.486486\", \"score\": 0.9980222350097784}, {\"date\": \"2025-08-21T12:03:19.459460\", \"score\": 0.9982357730600523}, {\"date\": \"2025-08-22T16:59:32.432432\", \"score\": 0.9984371332015263}, {\"date\": \"2025-08-23T21:55:45.405406\", \"score\": 0.998626311153858}, {\"date\": \"2025-08-25T02:51:58.378378\", \"score\": 0.9988033028955712}, {\"date\": \"2025-08-26T07:48:11.351351\", \"score\": 0.9989681046641619}, {\"date\": \"2025-08-27T12:44:24.324324\", \"score\": 0.9991207129561923}, {\"date\": \"2025-08-28T17:40:37.297297\", \"score\": 0.999261124527379}, {\"date\": \"2025-08-29T22:36:50.270270\", \"score\": 0.9993893363926787}, {\"date\": \"2025-08-31T03:33:03.243243\", \"score\": 0.9995053458263611}, {\"date\": \"2025-09-01T08:29:16.216216\", \"score\": 0.9996091503620809}, {\"date\": \"2025-09-02T13:25:29.189189\", \"score\": 0.9997007477929385}, {\"date\": \"2025-09-03T18:21:42.162162\", \"score\": 0.999780136171538}, {\"date\": \"2025-09-04T23:17:55.135135\", \"score\": 0.9998473138100356}, {\"date\": \"2025-09-06T04:14:08.108108\", \"score\": 0.9999022792801829}, {\"date\": \"2025-09-07T09:10:21.081081\", \"score\": 0.9999450314133638}, {\"date\": \"2025-09-08T14:06:34.054054\", \"score\": 0.9999755693006234}, {\"date\": \"2025-09-09T19:02:47.027027\", \"score\": 0.9999938922926915}, {\"date\": \"2025-09-10T23:59:00\", \"score\": 1.0000000000000002}]}}, {\"mode\": \"vega-lite\"});\n",
       "</script>"
      ],
      "text/plain": [
       "alt.Chart(...)"
      ]
     },
     "execution_count": 60,
     "metadata": {},
     "output_type": "execute_result"
    }
   ],
   "source": [
    "from superlinked.evaluation.charts.recency_plotter import RecencyPlotter\n",
    "\n",
    "# To get an intuitive understanding of how recency is weighted for our data,\n",
    "# we can explore the weights using Superlinked's inbuilt RecencyPlotter\n",
    "recency_plotter = RecencyPlotter(recency_space, context_data=EXECUTOR_DATA)\n",
    "recency_plotter.plot_recency_curve()\n"
   ]
  },
  {
   "cell_type": "code",
   "execution_count": 47,
   "metadata": {
    "application/vnd.databricks.v1+cell": {
     "cellMetadata": {
      "byteLimit": 2048000,
      "rowLimit": 10000
     },
     "inputWidgets": {},
     "nuid": "599e20d1-cabd-4f41-a69c-0d69be5264ad",
     "showTitle": false,
     "tableResultSettingsMap": {},
     "title": ""
    }
   },
   "outputs": [
    {
     "name": "stdout",
     "output_type": "stream",
     "text": [
      "Warning: 'summary' column not found in retrieved DataFrame.\n",
      "   publication_date                                               text  \\\n",
      "0        1698758083  Artificial intelligence (AI) increasingly infl...   \n",
      "1        1757424846  Environmental sustainability, particularly in ...   \n",
      "2        1757154147  The article provides an overview of approaches...   \n",
      "3        1757462026  We present FlexiFlow, a lifetime-aware design ...   \n",
      "4        1757282061  The rapid proliferation of artificial intellig...   \n",
      "\n",
      "                                            pdf_name  \\\n",
      "0  Assessing the Sustainability and Trustworthine...   \n",
      "1  The Carbon Footprint Wizard: A Knowledge-Augme...   \n",
      "2   Computational Concept of the Psyche (in Russian)   \n",
      "3   Lifetime-Aware Design of Item-Level Intelligence   \n",
      "4  A Maslow-Inspired Hierarchy of Engagement with...   \n",
      "\n",
      "                                  id  similarity_score  \n",
      "0  http://arxiv.org/abs/2310.20435v3          0.444214  \n",
      "1  http://arxiv.org/abs/2509.07733v1          0.437331  \n",
      "2  http://arxiv.org/abs/2509.07009v2          0.417060  \n",
      "3  http://arxiv.org/abs/2509.08193v1          0.407133  \n",
      "4  http://arxiv.org/abs/2509.07032v1          0.399878  \n"
     ]
    }
   ],
   "source": [
    "df_result = retrieval_tool.use(\"What is low carbon AI?\")\n",
    "print(df_result)"
   ]
  },
  {
   "cell_type": "code",
   "execution_count": 40,
   "metadata": {
    "application/vnd.databricks.v1+cell": {
     "cellMetadata": {
      "byteLimit": 2048000,
      "rowLimit": 10000
     },
     "inputWidgets": {},
     "nuid": "7c641749-4c99-42fb-844b-e4dabf29e4db",
     "showTitle": false,
     "tableResultSettingsMap": {},
     "title": ""
    }
   },
   "outputs": [],
   "source": [
    "def fix_corrupted_timestamp(timestamp):\n",
    "    try:\n",
    "        # If timestamp is way too large, it might be nanoseconds\n",
    "        if timestamp > 1e12:  # If larger than year 2001 in milliseconds\n",
    "            # Try dividing by 1e9 (nanoseconds to seconds)\n",
    "            fixed_timestamp = timestamp / 1e9\n",
    "            return datetime.fromtimestamp(fixed_timestamp, tz=timezone.utc).date()\n",
    "        else:\n",
    "            return datetime.fromtimestamp(timestamp, tz=timezone.utc).date()\n",
    "    except (OSError, ValueError, OverflowError) as e:\n",
    "        print(f\"Still can't convert {timestamp}: {e}\")\n",
    "        return None\n",
    "\n",
    "\n",
    "# df_result = retrieval_tool.use(\"What is low carbon AI?\")\n",
    "\n",
    "if \"publication_date\" in df_result.columns:\n",
    "    df_result[\"publication_date\"] = df_result[\"publication_date\"].apply(\n",
    "        fix_corrupted_timestamp\n",
    "    )\n"
   ]
  },
  {
   "cell_type": "code",
   "execution_count": 41,
   "metadata": {
    "application/vnd.databricks.v1+cell": {
     "cellMetadata": {
      "byteLimit": 2048000,
      "rowLimit": 10000
     },
     "inputWidgets": {},
     "nuid": "8578d882-e9d7-4717-9c64-344a45d0b133",
     "showTitle": false,
     "tableResultSettingsMap": {},
     "title": ""
    }
   },
   "outputs": [],
   "source": [
    "df_result = df_result.rename({\"pdf_name\": \"title\"}, axis=1)"
   ]
  },
  {
   "cell_type": "code",
   "execution_count": 23,
   "metadata": {
    "application/vnd.databricks.v1+cell": {
     "cellMetadata": {
      "byteLimit": 2048000,
      "rowLimit": 10000
     },
     "inputWidgets": {},
     "nuid": "1ffdded2-e6be-4cb0-9317-686f2c5b114e",
     "showTitle": false,
     "tableResultSettingsMap": {},
     "title": ""
    }
   },
   "outputs": [],
   "source": [
    "class RetrievalTool_norecency(Tool):\n",
    "    def __init__(self, df, app, knowledgebase_query, client, model):\n",
    "        self.df = df\n",
    "        self.app = app\n",
    "        self.knowledgebase_query = knowledgebase_query\n",
    "        self.client = client\n",
    "        self.model = model\n",
    "\n",
    "    def name(self) -> str:\n",
    "        return \"RetrievalTool_norecency\"\n",
    "\n",
    "    def description(self) -> str:\n",
    "        return \"Retrieves a list of relevant papers based on a query using Superlinked.\"\n",
    "\n",
    "    def use(self, query: str) -> pd.DataFrame:\n",
    "        result = self.app.query(\n",
    "            self.knowledgebase_query,\n",
    "            relevance_weight=1.0,\n",
    "            recency_weight=0,\n",
    "            search_query=query,\n",
    "            limit=5,\n",
    "        )\n",
    "        df_result = sl.PandasConverter.to_pandas(result)\n",
    "        # Ensure summary is a string\n",
    "        if \"summary\" in df_result.columns:\n",
    "            df_result[\"summary\"] = df_result[\"summary\"].astype(str)\n",
    "        else:\n",
    "            print(\"Warning: 'summary' column not found in retrieved DataFrame.\")\n",
    "        return df_result"
   ]
  },
  {
   "cell_type": "code",
   "execution_count": 24,
   "metadata": {
    "application/vnd.databricks.v1+cell": {
     "cellMetadata": {
      "byteLimit": 2048000,
      "rowLimit": 10000
     },
     "inputWidgets": {},
     "nuid": "98c0e4d5-4934-4d6b-aa21-726a2e7ac275",
     "showTitle": false,
     "tableResultSettingsMap": {},
     "title": ""
    }
   },
   "outputs": [],
   "source": [
    "retrieval_tool_norecency = RetrievalTool_norecency(\n",
    "    df, app, knowledgebase_query, client, model\n",
    ")\n"
   ]
  },
  {
   "cell_type": "code",
   "execution_count": 25,
   "metadata": {
    "application/vnd.databricks.v1+cell": {
     "cellMetadata": {
      "byteLimit": 2048000,
      "rowLimit": 10000
     },
     "inputWidgets": {},
     "nuid": "955865cc-d469-4353-a13d-5cbeb32d9814",
     "showTitle": false,
     "tableResultSettingsMap": {},
     "title": ""
    }
   },
   "outputs": [
    {
     "name": "stdout",
     "output_type": "stream",
     "text": [
      "Warning: 'summary' column not found in retrieved DataFrame.\n"
     ]
    },
    {
     "data": {
      "text/html": [
       "<div>\n",
       "<style scoped>\n",
       "    .dataframe tbody tr th:only-of-type {\n",
       "        vertical-align: middle;\n",
       "    }\n",
       "\n",
       "    .dataframe tbody tr th {\n",
       "        vertical-align: top;\n",
       "    }\n",
       "\n",
       "    .dataframe thead th {\n",
       "        text-align: right;\n",
       "    }\n",
       "</style>\n",
       "<table border=\"1\" class=\"dataframe\">\n",
       "  <thead>\n",
       "    <tr style=\"text-align: right;\">\n",
       "      <th></th>\n",
       "      <th>publication_date</th>\n",
       "      <th>text</th>\n",
       "      <th>pdf_name</th>\n",
       "      <th>id</th>\n",
       "      <th>similarity_score</th>\n",
       "    </tr>\n",
       "  </thead>\n",
       "  <tbody>\n",
       "    <tr>\n",
       "      <th>0</th>\n",
       "      <td>1698758083</td>\n",
       "      <td>Artificial intelligence (AI) increasingly infl...</td>\n",
       "      <td>Assessing the Sustainability and Trustworthine...</td>\n",
       "      <td>http://arxiv.org/abs/2310.20435v3</td>\n",
       "      <td>0.444214</td>\n",
       "    </tr>\n",
       "    <tr>\n",
       "      <th>1</th>\n",
       "      <td>1757424846</td>\n",
       "      <td>Environmental sustainability, particularly in ...</td>\n",
       "      <td>The Carbon Footprint Wizard: A Knowledge-Augme...</td>\n",
       "      <td>http://arxiv.org/abs/2509.07733v1</td>\n",
       "      <td>0.437331</td>\n",
       "    </tr>\n",
       "    <tr>\n",
       "      <th>2</th>\n",
       "      <td>1757154147</td>\n",
       "      <td>The article provides an overview of approaches...</td>\n",
       "      <td>Computational Concept of the Psyche (in Russian)</td>\n",
       "      <td>http://arxiv.org/abs/2509.07009v2</td>\n",
       "      <td>0.417060</td>\n",
       "    </tr>\n",
       "    <tr>\n",
       "      <th>3</th>\n",
       "      <td>1757462026</td>\n",
       "      <td>We present FlexiFlow, a lifetime-aware design ...</td>\n",
       "      <td>Lifetime-Aware Design of Item-Level Intelligence</td>\n",
       "      <td>http://arxiv.org/abs/2509.08193v1</td>\n",
       "      <td>0.407133</td>\n",
       "    </tr>\n",
       "    <tr>\n",
       "      <th>4</th>\n",
       "      <td>1757282061</td>\n",
       "      <td>The rapid proliferation of artificial intellig...</td>\n",
       "      <td>A Maslow-Inspired Hierarchy of Engagement with...</td>\n",
       "      <td>http://arxiv.org/abs/2509.07032v1</td>\n",
       "      <td>0.399878</td>\n",
       "    </tr>\n",
       "  </tbody>\n",
       "</table>\n",
       "</div>"
      ],
      "text/plain": [
       "   publication_date                                               text  \\\n",
       "0        1698758083  Artificial intelligence (AI) increasingly infl...   \n",
       "1        1757424846  Environmental sustainability, particularly in ...   \n",
       "2        1757154147  The article provides an overview of approaches...   \n",
       "3        1757462026  We present FlexiFlow, a lifetime-aware design ...   \n",
       "4        1757282061  The rapid proliferation of artificial intellig...   \n",
       "\n",
       "                                            pdf_name  \\\n",
       "0  Assessing the Sustainability and Trustworthine...   \n",
       "1  The Carbon Footprint Wizard: A Knowledge-Augme...   \n",
       "2   Computational Concept of the Psyche (in Russian)   \n",
       "3   Lifetime-Aware Design of Item-Level Intelligence   \n",
       "4  A Maslow-Inspired Hierarchy of Engagement with...   \n",
       "\n",
       "                                  id  similarity_score  \n",
       "0  http://arxiv.org/abs/2310.20435v3          0.444214  \n",
       "1  http://arxiv.org/abs/2509.07733v1          0.437331  \n",
       "2  http://arxiv.org/abs/2509.07009v2          0.417060  \n",
       "3  http://arxiv.org/abs/2509.08193v1          0.407133  \n",
       "4  http://arxiv.org/abs/2509.07032v1          0.399878  "
      ]
     },
     "execution_count": 25,
     "metadata": {},
     "output_type": "execute_result"
    }
   ],
   "source": [
    "retrieval_tool_norecency.use(\"What is low carbon AI?\")"
   ]
  }
 ],
 "metadata": {
  "application/vnd.databricks.v1+notebook": {
   "computePreferences": null,
   "dashboards": [],
   "environmentMetadata": null,
   "inputWidgetPreferences": null,
   "language": "python",
   "notebookMetadata": {
    "pythonIndentUnit": 4
   },
   "notebookName": "research_ai_agent",
   "widgets": {}
  },
  "colab": {
   "provenance": []
  },
  "kernelspec": {
   "display_name": "genAI",
   "language": "python",
   "name": "python3"
  },
  "language_info": {
   "codemirror_mode": {
    "name": "ipython",
    "version": 3
   },
   "file_extension": ".py",
   "mimetype": "text/x-python",
   "name": "python",
   "nbconvert_exporter": "python",
   "pygments_lexer": "ipython3",
   "version": "3.11.0"
  }
 },
 "nbformat": 4,
 "nbformat_minor": 0
}
