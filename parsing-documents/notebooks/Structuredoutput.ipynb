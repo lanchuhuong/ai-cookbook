{
 "cells": [
  {
   "cell_type": "code",
   "execution_count": null,
   "metadata": {},
   "outputs": [],
   "source": [
    "!pip install pymupdf4llm"
   ]
  },
  {
   "cell_type": "code",
   "execution_count": null,
   "metadata": {},
   "outputs": [],
   "source": [
    "# %%\n",
    "import logging\n",
    "import os\n",
    "\n",
    "import openai\n",
    "import pymupdf4llm\n",
    "from dotenv import load_dotenv\n",
    "from openai import OpenAI\n",
    "from rich import print\n",
    "\n",
    "logging.basicConfig(level=logging.WARNING)\n",
    "load_dotenv()\n",
    "\n",
    "# %%\n",
    "api_key = os.getenv(\"openai_api_key\")\n",
    "client = OpenAI(api_key=api_key)\n",
    "COMPLETIONS_MODEL = \"gpt-4o\"\n",
    "\n",
    "# %%\n",
    "# Define models for Structured Outputs\n",
    "from pydantic import BaseModel\n",
    "\n",
    "\n",
    "class Item(BaseModel):\n",
    "    product: str\n",
    "    price: float\n",
    "    quantity: int\n",
    "\n",
    "\n",
    "class Receipt(BaseModel):\n",
    "    total_paid_amount: float\n",
    "    supplier: str\n",
    "    items: list[Item]\n",
    "    order_reference_number: str\n",
    "\n",
    "\n",
    "# PDF to markdown text\n",
    "md_text = pymupdf4llm.to_markdown(\"../data/raw/transaction/receipt.pdf\")\n",
    "\n",
    "# Send request using Structured Outputs/Response Format\n",
    "completion = client.beta.chat.completions.parse(\n",
    "    model=COMPLETIONS_MODEL,\n",
    "    messages=[\n",
    "        {\"role\": \"system\", \"content\": \"Extract the information from the receipt\"},\n",
    "        {\"role\": \"user\", \"content\": md_text},\n",
    "    ],\n",
    "    response_format=Receipt,\n",
    ")\n",
    "\n",
    "output = completion.choices[0].message.parsed\n",
    "receipt = Receipt.model_validate(output)\n",
    "print(receipt)\n"
   ]
  }
 ],
 "metadata": {
  "kernelspec": {
   "display_name": "genAI",
   "language": "python",
   "name": "python3"
  },
  "language_info": {
   "codemirror_mode": {
    "name": "ipython",
    "version": 3
   },
   "file_extension": ".py",
   "mimetype": "text/x-python",
   "name": "python",
   "nbconvert_exporter": "python",
   "pygments_lexer": "ipython3",
   "version": "3.11.0"
  }
 },
 "nbformat": 4,
 "nbformat_minor": 2
}
