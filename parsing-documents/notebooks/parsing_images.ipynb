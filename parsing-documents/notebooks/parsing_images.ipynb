{
 "cells": [
  {
   "cell_type": "code",
   "execution_count": 1,
   "metadata": {},
   "outputs": [
    {
     "name": "stdout",
     "output_type": "stream",
     "text": [
      "Requirement already satisfied: pymupdf in /Users/lanchu/mambaforge/envs/genAI/lib/python3.11/site-packages (1.25.0)\n"
     ]
    }
   ],
   "source": [
    "!pip install pymupdf"
   ]
  },
  {
   "cell_type": "code",
   "execution_count": 3,
   "metadata": {},
   "outputs": [
    {
     "name": "stdout",
     "output_type": "stream",
     "text": [
      "Extracted Images: []\n"
     ]
    }
   ],
   "source": [
    "# extract images with pymupdf\n",
    "import fitz\n",
    "import os\n",
    "\n",
    "\n",
    "def extract_images_from_pdf(pdf_path, output_directory):\n",
    "    doc = fitz.open(pdf_path)\n",
    "    images = []\n",
    "    for page in doc:\n",
    "        for img_index, img in enumerate(page.get_images(full=True)):\n",
    "            xref = img[0]\n",
    "            base_image = doc.extract_image(xref)\n",
    "            image_bytes = base_image[\"image\"]\n",
    "            image_filename = f\"image_{page.number+1}_{img_index}.png\"\n",
    "            with open(os.path.join(output_directory, image_filename), \"wb\") as img_file:\n",
    "                img_file.write(image_bytes)\n",
    "            images.append(image_filename)\n",
    "    return images\n",
    "\n",
    "\n",
    "output_directory = \"../data/processed/images/\"\n",
    "if not os.path.exists(output_directory):\n",
    "    os.mkdir(output_directory)\n",
    "pdf_path = \"../data/raw/Our-Impact-in-2023-pages.pdf\"\n",
    "extracted_images = extract_images_from_pdf(pdf_path, output_directory=output_directory)\n",
    "print(\"Extracted Images:\", extracted_images)"
   ]
  },
  {
   "cell_type": "code",
   "execution_count": 4,
   "metadata": {},
   "outputs": [
    {
     "name": "stderr",
     "output_type": "stream",
     "text": [
      "/Users/lanchu/mambaforge/envs/genAI/lib/python3.11/site-packages/pypdf/_crypt_providers/_cryptography.py:32: CryptographyDeprecationWarning: ARC4 has been moved to cryptography.hazmat.decrepit.ciphers.algorithms.ARC4 and will be removed from this module in 48.0.0.\n",
      "  from cryptography.hazmat.primitives.ciphers.algorithms import AES, ARC4\n"
     ]
    }
   ],
   "source": [
    "# extract images with pypdf\n",
    "from pypdf import PdfReader\n",
    "import os\n",
    "\n",
    "output_directory = \"../data/processed/images/\"\n",
    "if not os.path.exists(output_directory):\n",
    "    os.mkdir(output_directory)\n",
    "reader = PdfReader(\"../data/raw/Our-Impact-in-2023-pages.pdf\")\n",
    "for page in reader.pages:\n",
    "    for image in page.images:\n",
    "        with open(os.path.join(output_directory, image.name), \"wb\") as fp:\n",
    "            fp.write(image.data)"
   ]
  },
  {
   "cell_type": "code",
   "execution_count": null,
   "metadata": {
    "application/vnd.databricks.v1+cell": {
     "cellMetadata": {
      "byteLimit": 2048000,
      "rowLimit": 10000
     },
     "inputWidgets": {},
     "nuid": "09d9bf11-2d80-411c-a39c-41cdbf11e265",
     "showTitle": false,
     "title": ""
    }
   },
   "outputs": [],
   "source": [
    "!pip install -U langchain-openai\n",
    "!pip install --upgrade open-interpreter\n",
    "!pip install pytesseract"
   ]
  },
  {
   "cell_type": "code",
   "execution_count": null,
   "metadata": {},
   "outputs": [],
   "source": [
    "# find relevant images with OCR\n",
    "import pytesseract\n",
    "from PIL import Image\n",
    "import os\n",
    "from tqdm import tqdm\n",
    "\n",
    "# Define the global list outside of the function\n",
    "relevant_images = []\n",
    "\n",
    "\n",
    "def find_relevant_images_with_ocr(root_dir, keywords):\n",
    "    global relevant_images\n",
    "    image_paths = []\n",
    "    for root, dirs, files in os.walk(root_dir):\n",
    "        for file in files:\n",
    "            if file.endswith(\".png\"):\n",
    "                image_paths.append(os.path.join(root, file))\n",
    "\n",
    "    for image_path in tqdm(image_paths, desc=\"Processing Images\"):\n",
    "        try:\n",
    "            text = pytesseract.image_to_string(Image.open(image_path))\n",
    "            if any(keyword in text.lower() for keyword in keywords):\n",
    "                relevant_images.append(image_path)\n",
    "        except Exception as e:\n",
    "            print(f\"Error processing file {image_path}: {e}\")\n",
    "\n",
    "\n",
    "# Example usage\n",
    "root_directory = \"../data/validation/adobe_raw/\"\n",
    "keywords = [\"job\"]\n",
    "find_relevant_images_with_ocr(root_directory, keywords)\n",
    "print(relevant_images)\n"
   ]
  }
 ],
 "metadata": {
  "application/vnd.databricks.v1+notebook": {
   "dashboards": [],
   "language": "python",
   "notebookMetadata": {
    "pythonIndentUnit": 4
   },
   "notebookName": "gpt-4-vision",
   "widgets": {}
  },
  "kernelspec": {
   "display_name": "table-parsing",
   "language": "python",
   "name": "python3"
  },
  "language_info": {
   "codemirror_mode": {
    "name": "ipython",
    "version": 3
   },
   "file_extension": ".py",
   "mimetype": "text/x-python",
   "name": "python",
   "nbconvert_exporter": "python",
   "pygments_lexer": "ipython3",
   "version": "3.11.0"
  }
 },
 "nbformat": 4,
 "nbformat_minor": 0
}
