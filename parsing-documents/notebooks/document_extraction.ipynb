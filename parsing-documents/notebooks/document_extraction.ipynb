{
 "cells": [
  {
   "cell_type": "code",
   "execution_count": null,
   "id": "ec38d2de",
   "metadata": {},
   "outputs": [],
   "source": [
    "!pip install pdfservices-sdk==2.3.1\n",
    "!pip install docling\n",
    "!pip install mistralai\n",
    "!pip install openpyxl "
   ]
  },
  {
   "cell_type": "code",
   "execution_count": 27,
   "id": "95f1ef4d",
   "metadata": {
    "lines_to_next_cell": 1
   },
   "outputs": [],
   "source": [
    "import json\n",
    "import os\n",
    "import os.path\n",
    "import re\n",
    "import sys\n",
    "import zipfile\n",
    "from datetime import datetime\n",
    "from pathlib import Path\n",
    "\n",
    "import openpyxl\n",
    "import pandas as pd\n",
    "import requests\n",
    "from dotenv import load_dotenv\n",
    "from mistralai import DocumentURLChunk, Mistral\n",
    "from mistralai.models import OCRResponse\n",
    "\n",
    "load_dotenv()\n",
    "\n",
    "sys.path.append(\"..\")\n",
    "from function.adobe import adobeLoader, extract_text_from_file_adobe, get_dict_xlsx"
   ]
  },
  {
   "cell_type": "markdown",
   "id": "61d8b4ee",
   "metadata": {},
   "source": [
    "ADOBE PDF Extractions API"
   ]
  },
  {
   "cell_type": "code",
   "execution_count": null,
   "id": "9895d514",
   "metadata": {},
   "outputs": [],
   "source": [
    "client_id = os.getenv(\"ADOBE_CLIENT_ID\")\n",
    "client_secret = os.getenv(\"ADOBE_CLIENT_SECRET\")\n",
    "# Adobe output zip file path\n",
    "input_pdf = \"../data/raw/Interim-Report-2024.pdf\"\n",
    "output_zip_path = \"../data/processed/adobe_result/Interim-Report-2024/sdk.zip\"\n",
    "output_zipextract_folder = \"../data/processed/adobe_result/Interim-Report-2024/\"\n",
    "# Run adobe API\n",
    "adobeLoader(\n",
    "    input_pdf, output_zip_path, client_id=client_id, client_secret=client_secret\n",
    ")\n",
    "# unzip adobe output zipfile, extract text and table from adobe output zip file\n",
    "df, json_strings = extract_text_from_file_adobe(\n",
    "    output_zip_path, output_zipextract_folder\n",
    ")"
   ]
  },
  {
   "cell_type": "code",
   "execution_count": null,
   "id": "6ebc7abb",
   "metadata": {},
   "outputs": [
    {
     "name": "stdout",
     "output_type": "stream",
     "text": [
      "\n",
      "Table from fileoutpart10.xlsx:\n",
      "| Amounts in millions of euros                             | June 30, 2024    | December 31, 2023    |\n",
      "|:---------------------------------------------------------|:-----------------|:---------------------|\n",
      "| Gross carrying amount loans and advances to customers    | 467,704          | 453,550              |\n",
      "| Hedge accounting adjustment                              | (11,175)         | (11,379)             |\n",
      "| Impairment allowances on loans and advances to customers | (2,897)          | (2,909)              |\n",
      "| Total loans and advances to customers                    | 453,632          | 439,262              |\n",
      "\n",
      "---\n",
      "\n",
      "Table from fileoutpart6.xlsx:\n",
      "| Amounts in millions of euros                                   |   First half-year 2024  | First half-year 2023    |\n",
      "|:---------------------------------------------------------------|------------------------:|:------------------------|\n",
      "| Additions and releases of provisions                           |                     33  | (81)                    |\n",
      "| IT expenses and software costs                                 |                    308  | 260                     |\n",
      "| Consultants fees                                               |                    240  | 242                     |\n",
      "| Publicity expenses                                             |                     51  | 49                      |\n",
      "| Result on derecognition and impairments on (in)tangible assets |                      4  | 17                      |\n",
      "| Other expenses                                                 |                    279  | 217                     |\n",
      "| Other administrative expenses                                  |                    915  | 704                     |\n",
      "\n",
      "---\n",
      "\n",
      "Table from fileoutpart0.xlsx:\n",
      "| Amounts in billions of euros    |   06-30-2024  |   12-31-2023  |\n",
      "|:--------------------------------|--------------:|--------------:|\n",
      "| Cash and cash equivalents       |          80.6 |          90.5 |\n",
      "| Loans and advances to customers |         453.6 |         439.3 |\n",
      "| Financial assets                |          24.2 |          20.4 |\n",
      "| Loans and advances to banks     |          25.9 |          26.5 |\n",
      "| Derivatives                     |          21   |          22   |\n",
      "| Other assets                    |          16.3 |          15.1 |\n",
      "| Total assets                    |         621.6 |         613.8 |\n",
      "| Deposits from customers         |         401.6 |         391.4 |\n",
      "| Debt securities in issue        |         118.7 |         122.5 |\n",
      "| Deposits from banks             |          16   |          15.8 |\n",
      "| Derivatives                     |          15   |          15.4 |\n",
      "| Financial liabilities           |           3.4 |           3.3 |\n",
      "| Other liabilities               |          15.5 |          15.7 |\n",
      "| Total liabilities               |         570.1 |         564.2 |\n",
      "| Equity                          |          51.5 |          49.6 |\n",
      "| Total liabilities and equity    |         621.6 |         613.8 |\n",
      "\n",
      "---\n",
      "\n",
      "Table from fileoutpart14.xlsx:\n",
      "| Unnamed: 0                                   | Stage 1    | Stage 2    | Stage 3    | Total    |\n",
      "|:---------------------------------------------|:-----------|:-----------|:-----------|:---------|\n",
      "| Balance on January 1, 2024                   | 421        | 733        | 1,935      | 3,089    |\n",
      "| Increases due to origination and acquisition | 129        | 9          | 44         | 182      |\n",
      "| Decreases due to derecognition               | (83)       | (36)       | (178)      | (297)    |\n",
      "| Changes due to change in credit risk         | 3          | (68)       | 486        | 421      |\n",
      "| Write-off of defaulted loans during the year | (6)        | (2)        | (302)      | (310)    |\n",
      "| Other changes                                | 6          | (5)        | (1)        | -        |\n",
      "| Balance on June 30, 2024                     | 470        | 631        | 1,984      | 3,085    |\n",
      "\n",
      "---\n",
      "\n",
      "Table from fileoutpart2.xlsx:\n",
      "| Amounts in billions of euros                             | 06-30-2024    | 12-31-2023    |\n",
      "|:---------------------------------------------------------|:--------------|:--------------|\n",
      "| Total loans and advances to customers                    | 453.6         | 439.3         |\n",
      "| Of which to government clients                           | 1.8           | 1.4           |\n",
      "| Reverse repurchase transactions and securities borrowing | 19.9          | 15.3          |\n",
      "| Interest rate hedges (hedge accounting)                  | (11.2)        | (11.4)        |\n",
      "| Private sector loan portfolio                            | 443.1         | 434.0         |\n",
      "| Domestic Retail Banking                                  | 271.5         | 270.6         |\n",
      "| Wholesale & Rural                                        | 127.7         | 121.5         |\n",
      "| Leasing                                                  | 43.8          | 41.8          |\n",
      "| Property Development                                     | 0.1           | 0.1           |\n",
      "| Other                                                    | 0.0           | 0.0           |\n",
      "\n",
      "---\n",
      "\n",
      "Table from fileoutpart12.xlsx:\n",
      "| June 30, 2024                                            | Stage 1    | Stage 2    | Stage 3    | Total    |\n",
      "|:---------------------------------------------------------|:-----------|:-----------|:-----------|:---------|\n",
      "| Gross carrying amount loans and advances to customers    | 415,413    | 42,795     | 9,496      | 467,704  |\n",
      "| Impairment allowances on loans and advances to customers | 420        | 603        | 1,874      | 2,897    |\n",
      "| nan                                                      | nan        | nan        | nan        | nan      |\n",
      "| December 31, 2023                                        | Stage 1    | Stage 2    | Stage 3    | Total    |\n",
      "| Gross carrying amount loans and advances to customers    | 396,879    | 47,674     | 8,997      | 453,550  |\n",
      "| Impairment allowances on loans and advances to customers | 393        | 706        | 1,810      | 2,909    |\n",
      "\n",
      "---\n",
      "\n",
      "Table from fileoutpart8.xlsx:\n",
      "| Impairment Charges on Financial Assets                            | Unnamed: 1           | Unnamed: 2           |\n",
      "|:------------------------------------------------------------------|:---------------------|:---------------------|\n",
      "| Amounts in millions of euros                                      | First half-year 2024 | First half-year 2023 |\n",
      "| Loans and advances to customers and credit institutions           | 325                  | 395                  |\n",
      "| Financial assets at fair value through other comprehensive income | 1                    | 1                    |\n",
      "| Recoveries following write-off                                    | (52)                 | (61)                 |\n",
      "| Loan commitments and financial guarantees                         | 5                    | 4                    |\n",
      "| Impairment charges on financial assets                            | 279                  | 339                  |\n",
      "\n",
      "---\n",
      "\n",
      "Table from fileoutpart4.xlsx:\n",
      "| Amounts in billions of euros          |   06-30-2024  | Unnamed: 2   |   12-31-2023  | Unnamed: 4   |\n",
      "|:--------------------------------------|--------------:|:-------------|--------------:|:-------------|\n",
      "| Loans to private individuals          |         203.5 | 46%          |         203.6 | 47%          |\n",
      "| Loans to trade, industry and services |         120   | 27%          |         115.5 | 27%          |\n",
      "| of which in the Netherlands           |          77.9 | nan          |          75.3 | nan          |\n",
      "| of which in other countries           |          42.1 | nan          |          40.2 | nan          |\n",
      "| Loans to Food & Agri                  |         119.6 | 27%          |         114.8 | 26%          |\n",
      "| of which in the Netherlands           |          44.5 | nan          |          42.2 | nan          |\n",
      "| of which in other countries           |          75.1 | nan          |          72.6 | nan          |\n",
      "| Private sector loan portfolio         |         443.1 | 100%         |         434   | 100%         |\n",
      "\n",
      "---\n"
     ]
    }
   ],
   "source": [
    "output_folder = \"../data/processed/adobe_result/Interim-Report-2024/tables\"\n",
    "xlsx_files = [f for f in os.listdir(output_folder) if f.endswith(\".xlsx\")]\n",
    "for xlsx_file in xlsx_files:\n",
    "    print(f\"\\nTable from {xlsx_file}:\")\n",
    "    data_dict = get_dict_xlsx(output_folder, xlsx_file)\n",
    "    df = pd.DataFrame(data_dict)\n",
    "    print(df.to_markdown(index=False))\n",
    "    print(\"\\n---\")"
   ]
  },
  {
   "cell_type": "code",
   "execution_count": null,
   "id": "d93f5db0",
   "metadata": {},
   "outputs": [],
   "source": [
    "# create output md file\n",
    "md_output_path = \"../data/processed/adobe_result/Interim-Report-2024/markdown_tables.md\"\n",
    "with open(md_output_path, \"w\") as f:\n",
    "    for xlsx_file in xlsx_files:\n",
    "        f.write(f\"\\n## Table from {xlsx_file}:\\n\\n\")\n",
    "        data_dict = get_dict_xlsx(output_folder, xlsx_file)\n",
    "        df = pd.DataFrame(data_dict)\n",
    "        f.write(df.to_markdown(index=False))\n"
   ]
  },
  {
   "cell_type": "markdown",
   "id": "0ef39fea",
   "metadata": {},
   "source": [
    "Agentic document extraction Landing AI"
   ]
  },
  {
   "cell_type": "code",
   "execution_count": 9,
   "id": "2f5650ce",
   "metadata": {},
   "outputs": [
    {
     "name": "stdout",
     "output_type": "stream",
     "text": [
      "{'data': {'markdown': '## Balance Sheet Developments <!-- text, from page 0 (l=0.037,t=0.113,r=0.198,b=0.135), with ID 40e3f665-89bb-438f-a64e-86a9d22d7fa1 -->\\n\\n## Balance Sheet\\n\\n### Amounts in billions of euros\\n\\n<table>\\n  <tr>\\n    <th></th>\\n    <th>06-30-2024</th>\\n    <th>12-31-2023</th>\\n  </tr>\\n  <tr>\\n    <td>Cash and cash equivalents</td>\\n    <td>80.6</td>\\n    <td>90.5</td>\\n  </tr>\\n  <tr>\\n    <td>Loans and advances to customers</td>\\n    <td>453.6</td>\\n    <td>439.3</td>\\n  </tr>\\n  <tr>\\n    <td>Financial assets</td>\\n    <td>24.2</td>\\n    <td>20.4</td>\\n  </tr>\\n  <tr>\\n    <td>Loans and advances to banks</td>\\n    <td>25.9</td>\\n    <td>26.5</td>\\n  </tr>\\n  <tr>\\n    <td>Derivatives</td>\\n    <td>21.0</td>\\n    <td>22.0</td>\\n  </tr>\\n  <tr>\\n    <td>Other assets</td>\\n    <td>16.3</td>\\n    <td>15.1</td>\\n  </tr>\\n  <tr>\\n    <td><strong>Total assets</strong></td>\\n    <td><strong>621.6</strong></td>\\n    <td><strong>613.8</strong></td>\\n  </tr>\\n  <tr>\\n    <td>Deposits from customers</td>\\n    <td>401.6</td>\\n    <td>391.1</td>\\n  </tr>\\n  <tr>\\n    <td>Debt securities in issue</td>\\n    <td>118.7</td>\\n    <td>122.5</td>\\n  </tr>\\n  <tr>\\n    <td>Deposits from banks</td>\\n    <td>16.0</td>\\n    <td>15.8</td>\\n  </tr>\\n  <tr>\\n    <td>Derivatives</td>\\n    <td>15.0</td>\\n    <td>15.7</td>\\n  </tr>\\n  <tr>\\n    <td>Financial liabilities</td>\\n    <td>3.4</td>\\n    <td>3.3</td>\\n  </tr>\\n  <tr>\\n    <td>Other liabilities</td>\\n    <td>15.5</td>\\n    <td>15.7</td>\\n  </tr>\\n  <tr>\\n    <td><strong>Total liabilities</strong></td>\\n    <td><strong>570.1</strong></td>\\n    <td><strong>564.2</strong></td>\\n  </tr>\\n  <tr>\\n    <td>Equity</td>\\n    <td>51.5</td>\\n    <td>49.6</td>\\n  </tr>\\n  <tr>\\n    <td><strong>Total liabilities and equity</strong></td>\\n    <td><strong>621.6</strong></td>\\n    <td><strong>613.8</strong></td>\\n  </tr>\\n</table> <!-- table, from page 0 (l=0.039,t=0.165,r=0.487,b=0.549), with ID 3a14646e-95fa-430b-9645-455471737595 -->\\n\\n## Loan Portfolio\\n\\n### Amounts in billions of euros\\n\\n<table>\\n  <tr>\\n    <th> </th>\\n    <th>06-30-2024</th>\\n    <th>12-31-2023</th>\\n  </tr>\\n  <tr>\\n    <td><strong>Total loans and advances to customers</strong></td>\\n    <td>453.6</td>\\n    <td>439.3</td>\\n  </tr>\\n  <tr>\\n    <td>Of which to government clients</td>\\n    <td>1.8</td>\\n    <td>1.4</td>\\n  </tr>\\n  <tr>\\n    <td>Reverse repurchase transactions and securities borrowing</td>\\n    <td>19.9</td>\\n    <td>15.3</td>\\n  </tr>\\n  <tr>\\n    <td>Interest rate hedges (hedge accounting)</td>\\n    <td>(11.2)</td>\\n    <td>(11.4)</td>\\n  </tr>\\n  <tr>\\n    <td><strong>Private sector loan portfolio</strong></td>\\n    <td>443.1</td>\\n    <td>434.0</td>\\n  </tr>\\n  <tr>\\n    <td>Domestic Retail Banking</td>\\n    <td>271.5</td>\\n    <td>270.6</td>\\n  </tr>\\n  <tr>\\n    <td>Wholesale & Rural</td>\\n    <td>127.7</td>\\n    <td>121.5</td>\\n  </tr>\\n  <tr>\\n    <td>Leasing</td>\\n    <td>43.8</td>\\n    <td>41.8</td>\\n  </tr>\\n  <tr>\\n    <td>Property Development</td>\\n    <td>0.1</td>\\n    <td>0.1</td>\\n  </tr>\\n  <tr>\\n    <td>Other</td>\\n    <td>0.0</td>\\n    <td>0.0</td>\\n  </tr>\\n</table> <!-- table, from page 0 (l=0.510,t=0.116,r=0.959,b=0.372), with ID 4fb251c9-7fcb-43eb-a3b9-8f138ad714fa -->\\n\\n## Geographical Split of Private Sector Loan Portfolio\\n\\nOn June 30, 2024, the geographical split of the private sector loan portfolio (based on debtor\\'s country) was as follows: \\n\\n- 66% in the Netherlands\\n- 12% in North America\\n- 10% in Europe (outside the Netherlands)\\n- 7% in Australia and New Zealand\\n- 4% in South America\\n- 2% in Asia <!-- text, from page 0 (l=0.508,t=0.417,r=0.961,b=0.480), with ID 624e5ef4-02d6-433f-b1bc-af326279e5c0 -->\\n\\n## Loan Portfolio by Sector\\n\\n### Amounts in billions of euros\\n\\n<table>\\n  <tr>\\n    <th>Sector</th>\\n    <th>06-30-2024</th>\\n    <th></th>\\n    <th>12-31-2023</th>\\n    <th></th>\\n  </tr>\\n  <tr>\\n    <th></th>\\n    <th>Amount</th>\\n    <th>Percentage</th>\\n    <th>Amount</th>\\n    <th>Percentage</th>\\n  </tr>\\n  <tr>\\n    <td>Loans to private individuals</td>\\n    <td>203.5</td>\\n    <td>46%</td>\\n    <td>203.6</td>\\n    <td>47%</td>\\n  </tr>\\n  <tr>\\n    <td>Loans to trade, industry and services</td>\\n    <td>120.0</td>\\n    <td>27%</td>\\n    <td>115.5</td>\\n    <td>27%</td>\\n  </tr>\\n  <tr>\\n    <td>of which in the Netherlands</td>\\n    <td>77.9</td>\\n    <td></td>\\n    <td>75.3</td>\\n    <td></td>\\n  </tr>\\n  <tr>\\n    <td>of which in other countries</td>\\n    <td>42.1</td>\\n    <td></td>\\n    <td>40.2</td>\\n    <td></td>\\n  </tr>\\n  <tr>\\n    <td>Loans to Food & Agri</td>\\n    <td>119.6</td>\\n    <td>27%</td>\\n    <td>114.8</td>\\n    <td>26%</td>\\n  </tr>\\n  <tr>\\n    <td>of which in the Netherlands</td>\\n    <td>44.5</td>\\n    <td></td>\\n    <td>42.2</td>\\n    <td></td>\\n  </tr>\\n  <tr>\\n    <td>of which in other countries</td>\\n    <td>75.1</td>\\n    <td></td>\\n    <td>72.6</td>\\n    <td></td>\\n  </tr>\\n  <tr>\\n    <th>Private sector loan portfolio</th>\\n    <th>443.1</th>\\n    <th>100%</th>\\n    <th>434.0</th>\\n    <th>100%</th>\\n  </tr>\\n</table> <!-- table, from page 0 (l=0.510,t=0.517,r=0.959,b=0.730), with ID ec442bf4-e31a-4733-8043-41b530924689 -->\\n\\n## Text Capture\\n\\n1. In the country where the entity is established <!-- text, from page 0 (l=0.509,t=0.758,r=0.654,b=0.771), with ID f67a3c67-dd28-4f43-a674-1198541a8b17 -->\\n\\n## Private Sector Loan Portfolio Up\\n\\nOur private sector lending was up by EUR 9.1 billion to 443.1 EUR billion on June 30, 2024. Excluding FX impacts, the portfolio increased by approximately EUR 7.9 billion. DRB\\'s total private sector loan portfolio amounted to EUR 271.5 (2023: 270.6) billion. In the Netherlands, the housing market recovered. Our mortgage portfolio ended up EUR 0.5 billion higher at EUR 194.3 billion. Within this segment also business lending slightly increased. W&R\\'s loan portfolio was EUR 6.2 billion higher and private sector lending at DLL increased by EUR 2.0 billion. <!-- text, from page 0 (l=0.037,t=0.579,r=0.490,b=0.716), with ID ae073749-4e90-4e15-8246-9de2d61e62f0 -->\\n\\n## Description of Figure\\n\\nThe image is a simple blue rectangle with two white horizontal lines in the center. The lines are parallel and of equal length, resembling an equal sign. There are no additional labels, titles, or annotations present in the image. The background is a solid blue color, and the lines are evenly spaced within the rectangle. There are no numerical values, patterns, or trends to describe, as the image is purely geometric and abstract in nature. <!-- figure, from page 1 (l=0.935,t=0.000,r=0.961,b=0.039), with ID 6ef6edbc-0468-4048-9bd5-3ea2c102bb8f -->\\n\\n## Foreword\\n\\nThe crop contains the word \"Foreword\" as a page header. <!-- page_header, from page 1 (l=0.037,t=0.026,r=0.065,b=0.037), with ID 28936cfa-d763-4429-bbe4-aec4454f8a27 -->\\n\\n## Management Report\\n\\nThis crop from a document is a page header with the text \"Management Report.\" <!-- page_header, from page 1 (l=0.099,t=0.026,r=0.161,b=0.039), with ID f0e0e5fe-a5b8-4c97-b8ed-29b8781b23a9 -->\\n\\n## Interim Financial Statement 2024\\n\\n <!-- page_header, from page 1 (l=0.194,t=0.026,r=0.296,b=0.036), with ID 0983f70e-2cd5-4193-a829-5ade7da5eae2 -->\\n\\n## Other Administrative Expenses\\n\\n### Other Administrative Expenses\\n\\n**Amounts in millions of euros**\\n\\n<table>\\n  <tr>\\n    <th>Category</th>\\n    <th>First half-year 2024</th>\\n    <th>First half-year 2023</th>\\n  </tr>\\n  <tr>\\n    <td>Additions and releases of provisions</td>\\n    <td>33</td>\\n    <td>(81)</td>\\n  </tr>\\n  <tr>\\n    <td>IT expenses and software costs</td>\\n    <td>308</td>\\n    <td>260</td>\\n  </tr>\\n  <tr>\\n    <td>Consultants fees</td>\\n    <td>240</td>\\n    <td>242</td>\\n  </tr>\\n  <tr>\\n    <td>Publicity expenses</td>\\n    <td>51</td>\\n    <td>49</td>\\n  </tr>\\n  <tr>\\n    <td>Result on derecognition and impairments on (in)tangible assets</td>\\n    <td>4</td>\\n    <td>17</td>\\n  </tr>\\n  <tr>\\n    <td>Other expenses</td>\\n    <td>279</td>\\n    <td>217</td>\\n  </tr>\\n  <tr>\\n    <td><strong>Other administrative expenses</strong></td>\\n    <td><strong>915</strong></td>\\n    <td><strong>704</strong></td>\\n  </tr>\\n</table> <!-- table, from page 1 (l=0.037,t=0.113,r=0.488,b=0.355), with ID 0e4bf352-61cf-4c0e-bc7b-29d6d7203076 -->\\n\\n## Impairment Charges on Financial Assets\\n\\n### Impairment Charges on Financial Assets\\n\\n**Amounts in millions of euros**\\n\\n<table>\\n  <tr>\\n    <th>Category</th>\\n    <th>First half-year 2024</th>\\n    <th>First half-year 2023</th>\\n  </tr>\\n  <tr>\\n    <td>Loans and advances to customers and credit institutions</td>\\n    <td>325</td>\\n    <td>395</td>\\n  </tr>\\n  <tr>\\n    <td>Financial assets at fair value through other comprehensive income</td>\\n    <td>1</td>\\n    <td>1</td>\\n  </tr>\\n  <tr>\\n    <td>Recoveries following write-off</td>\\n    <td>(52)</td>\\n    <td>(61)</td>\\n  </tr>\\n  <tr>\\n    <td>Loan commitments and financial guarantees</td>\\n    <td>5</td>\\n    <td>4</td>\\n  </tr>\\n  <tr>\\n    <th>Impairment charges on financial assets</th>\\n    <th>279</th>\\n    <th>339</th>\\n  </tr>\\n</table> <!-- table, from page 1 (l=0.037,t=0.395,r=0.488,b=0.594), with ID b1a200e7-73b4-4d8c-a6d7-8eff59b10227 -->\\n\\n## Loans and Advances to Customers\\n\\nA breakdown of the loan portfolio is presented in the following table.\\n\\n### Loans and Advances to Customers\\n\\n*Amounts in millions of euros*\\n\\n<table>\\n  <tr>\\n    <th></th>\\n    <th>June 30, 2024</th>\\n    <th>December 31, 2023</th>\\n  </tr>\\n  <tr>\\n    <td>Gross carrying amount loans and advances to customers</td>\\n    <td>467,704</td>\\n    <td>453,550</td>\\n  </tr>\\n  <tr>\\n    <td>Hedge accounting adjustment</td>\\n    <td>(11,175)</td>\\n    <td>(11,379)</td>\\n  </tr>\\n  <tr>\\n    <td>Impairment allowances on loans and advances to customers</td>\\n    <td>(2,897)</td>\\n    <td>(2,909)</td>\\n  </tr>\\n  <tr>\\n    <td><strong>Total loans and advances to customers</strong></td>\\n    <td><strong>453,632</strong></td>\\n    <td><strong>439,262</strong></td>\\n  </tr>\\n</table> <!-- table, from page 1 (l=0.037,t=0.630,r=0.488,b=0.855), with ID 9282a513-8c28-46d4-bb36-876e22f01a76 -->\\n\\n### Loans and Advances to Customers per Stage\\n\\n<table>\\n  <tr>\\n    <th> </th>\\n    <th>Stage 1</th>\\n    <th>Stage 2</th>\\n    <th>Stage 3</th>\\n    <th>Total</th>\\n  </tr>\\n  <tr>\\n    <td><strong>June 30, 2024</strong></td>\\n    <td></td>\\n    <td></td>\\n    <td></td>\\n    <td></td>\\n  </tr>\\n  <tr>\\n    <td>Gross carrying amount loans and advances to customers</td>\\n    <td>415,413</td>\\n    <td>42,795</td>\\n    <td>9,496</td>\\n    <td>467,704</td>\\n  </tr>\\n  <tr>\\n    <td>Impairment allowances on loans and advances to customers</td>\\n    <td>420</td>\\n    <td>603</td>\\n    <td>1,874</td>\\n    <td>2,897</td>\\n  </tr>\\n  <tr>\\n    <td><strong>December 31, 2023</strong></td>\\n    <td></td>\\n    <td></td>\\n    <td></td>\\n    <td></td>\\n  </tr>\\n  <tr>\\n    <td>Gross carrying amount loans and advances to customers</td>\\n    <td>396,879</td>\\n    <td>47,674</td>\\n    <td>8,997</td>\\n    <td>453,550</td>\\n  </tr>\\n  <tr>\\n    <td>Impairment allowances on loans and advances to customers</td>\\n    <td>393</td>\\n    <td>706</td>\\n    <td>1,810</td>\\n    <td>2,909</td>\\n  </tr>\\n</table> <!-- table, from page 1 (l=0.510,t=0.118,r=0.960,b=0.286), with ID 3bb202ce-3ad9-4e56-827b-2a8ffcd27a86 -->\\n\\n## Impairment Allowances on Financial Assets\\n\\nThe following tables depict the reconciliation from the opening balance to the closing balance of the impairment allowances of financial assets and credit related contingent liabilities.\\n\\n### Impairment Allowances on Financial Assets and Credit Related Contingent Liabilities\\n\\n*Amounts in millions of euros*\\n\\n<table>\\n  <tr>\\n    <th></th>\\n    <th>Stage 1</th>\\n    <th>Stage 2</th>\\n    <th>Stage 3</th>\\n    <th>Total</th>\\n  </tr>\\n  <tr>\\n    <td>Balance on January 1, 2024</td>\\n    <td>421</td>\\n    <td>733</td>\\n    <td>1,935</td>\\n    <td>3,089</td>\\n  </tr>\\n  <tr>\\n    <td>Increases due to origination and acquisition</td>\\n    <td>129</td>\\n    <td>9</td>\\n    <td>44</td>\\n    <td>182</td>\\n  </tr>\\n  <tr>\\n    <td>Decreases due to derecognition</td>\\n    <td>(83)</td>\\n    <td>(36)</td>\\n    <td>(178)</td>\\n    <td>(297)</td>\\n  </tr>\\n  <tr>\\n    <td>Changes due to change in credit risk</td>\\n    <td>3</td>\\n    <td>(68)</td>\\n    <td>486</td>\\n    <td>421</td>\\n  </tr>\\n  <tr>\\n    <td>Write-off of defaulted loans during the year</td>\\n    <td>(6)</td>\\n    <td>(2)</td>\\n    <td>(302)</td>\\n    <td>(310)</td>\\n  </tr>\\n  <tr>\\n    <td>Other changes</td>\\n    <td>6</td>\\n    <td>(5)</td>\\n    <td>(1)</td>\\n    <td>0</td>\\n  </tr>\\n  <tr>\\n    <td><strong>Balance on June 30, 2024</strong></td>\\n    <td><strong>470</strong></td>\\n    <td><strong>631</strong></td>\\n    <td><strong>1,984</strong></td>\\n    <td><strong>3,085</strong></td>\\n  </tr>\\n</table> <!-- table, from page 1 (l=0.508,t=0.324,r=0.961,b=0.411); page 1 (l=0.510,t=0.448,r=0.959,b=0.659), with ID c6f188e4-355f-4d8e-8140-e4d47e07d733 -->\\n\\n## Page Number\\n\\n57 <!-- page_number, from page 1 (l=0.953,t=0.943,r=0.962,b=0.954), with ID 379744ee-d386-411a-9515-e24f8f706cd6 -->\\n\\n## Page Footer\\n\\nInterim Report 2024 - Interim Financial Statements 2024 <!-- page_footer, from page 1 (l=0.037,t=0.943,r=0.213,b=0.955), with ID e85ef3f2-a0c6-412a-9be7-856e24e49e52 -->', 'chunks': [{'text': '## Balance Sheet Developments', 'grounding': [{'box': {'l': 0.03730673758865248, 't': 0.1125, 'r': 0.19779609929078013, 'b': 0.135}, 'page': 0}], 'chunk_type': 'text', 'chunk_id': '40e3f665-89bb-438f-a64e-86a9d22d7fa1'}, {'text': '## Balance Sheet\\n\\n### Amounts in billions of euros\\n\\n<table>\\n  <tr>\\n    <th></th>\\n    <th>06-30-2024</th>\\n    <th>12-31-2023</th>\\n  </tr>\\n  <tr>\\n    <td>Cash and cash equivalents</td>\\n    <td>80.6</td>\\n    <td>90.5</td>\\n  </tr>\\n  <tr>\\n    <td>Loans and advances to customers</td>\\n    <td>453.6</td>\\n    <td>439.3</td>\\n  </tr>\\n  <tr>\\n    <td>Financial assets</td>\\n    <td>24.2</td>\\n    <td>20.4</td>\\n  </tr>\\n  <tr>\\n    <td>Loans and advances to banks</td>\\n    <td>25.9</td>\\n    <td>26.5</td>\\n  </tr>\\n  <tr>\\n    <td>Derivatives</td>\\n    <td>21.0</td>\\n    <td>22.0</td>\\n  </tr>\\n  <tr>\\n    <td>Other assets</td>\\n    <td>16.3</td>\\n    <td>15.1</td>\\n  </tr>\\n  <tr>\\n    <td><strong>Total assets</strong></td>\\n    <td><strong>621.6</strong></td>\\n    <td><strong>613.8</strong></td>\\n  </tr>\\n  <tr>\\n    <td>Deposits from customers</td>\\n    <td>401.6</td>\\n    <td>391.1</td>\\n  </tr>\\n  <tr>\\n    <td>Debt securities in issue</td>\\n    <td>118.7</td>\\n    <td>122.5</td>\\n  </tr>\\n  <tr>\\n    <td>Deposits from banks</td>\\n    <td>16.0</td>\\n    <td>15.8</td>\\n  </tr>\\n  <tr>\\n    <td>Derivatives</td>\\n    <td>15.0</td>\\n    <td>15.7</td>\\n  </tr>\\n  <tr>\\n    <td>Financial liabilities</td>\\n    <td>3.4</td>\\n    <td>3.3</td>\\n  </tr>\\n  <tr>\\n    <td>Other liabilities</td>\\n    <td>15.5</td>\\n    <td>15.7</td>\\n  </tr>\\n  <tr>\\n    <td><strong>Total liabilities</strong></td>\\n    <td><strong>570.1</strong></td>\\n    <td><strong>564.2</strong></td>\\n  </tr>\\n  <tr>\\n    <td>Equity</td>\\n    <td>51.5</td>\\n    <td>49.6</td>\\n  </tr>\\n  <tr>\\n    <td><strong>Total liabilities and equity</strong></td>\\n    <td><strong>621.6</strong></td>\\n    <td><strong>613.8</strong></td>\\n  </tr>\\n</table>', 'grounding': [{'box': {'l': 0.0387145390070922, 't': 0.16499999999999998, 'r': 0.4870992907801418, 'b': 0.54875}, 'page': 0}], 'chunk_type': 'table', 'chunk_id': '3a14646e-95fa-430b-9645-455471737595'}, {'text': '## Loan Portfolio\\n\\n### Amounts in billions of euros\\n\\n<table>\\n  <tr>\\n    <th> </th>\\n    <th>06-30-2024</th>\\n    <th>12-31-2023</th>\\n  </tr>\\n  <tr>\\n    <td><strong>Total loans and advances to customers</strong></td>\\n    <td>453.6</td>\\n    <td>439.3</td>\\n  </tr>\\n  <tr>\\n    <td>Of which to government clients</td>\\n    <td>1.8</td>\\n    <td>1.4</td>\\n  </tr>\\n  <tr>\\n    <td>Reverse repurchase transactions and securities borrowing</td>\\n    <td>19.9</td>\\n    <td>15.3</td>\\n  </tr>\\n  <tr>\\n    <td>Interest rate hedges (hedge accounting)</td>\\n    <td>(11.2)</td>\\n    <td>(11.4)</td>\\n  </tr>\\n  <tr>\\n    <td><strong>Private sector loan portfolio</strong></td>\\n    <td>443.1</td>\\n    <td>434.0</td>\\n  </tr>\\n  <tr>\\n    <td>Domestic Retail Banking</td>\\n    <td>271.5</td>\\n    <td>270.6</td>\\n  </tr>\\n  <tr>\\n    <td>Wholesale & Rural</td>\\n    <td>127.7</td>\\n    <td>121.5</td>\\n  </tr>\\n  <tr>\\n    <td>Leasing</td>\\n    <td>43.8</td>\\n    <td>41.8</td>\\n  </tr>\\n  <tr>\\n    <td>Property Development</td>\\n    <td>0.1</td>\\n    <td>0.1</td>\\n  </tr>\\n  <tr>\\n    <td>Other</td>\\n    <td>0.0</td>\\n    <td>0.0</td>\\n  </tr>\\n</table>', 'grounding': [{'box': {'l': 0.5103280141843972, 't': 0.11624999999999999, 'r': 0.9594166666666666, 'b': 0.3725}, 'page': 0}], 'chunk_type': 'table', 'chunk_id': '4fb251c9-7fcb-43eb-a3b9-8f138ad714fa'}, {'text': \"## Geographical Split of Private Sector Loan Portfolio\\n\\nOn June 30, 2024, the geographical split of the private sector loan portfolio (based on debtor's country) was as follows: \\n\\n- 66% in the Netherlands\\n- 12% in North America\\n- 10% in Europe (outside the Netherlands)\\n- 7% in Australia and New Zealand\\n- 4% in South America\\n- 2% in Asia\", 'grounding': [{'box': {'l': 0.5082163120567376, 't': 0.4175, 'r': 0.9608244680851065, 'b': 0.48}, 'page': 0}], 'chunk_type': 'text', 'chunk_id': '624e5ef4-02d6-433f-b1bc-af326279e5c0'}, {'text': '## Loan Portfolio by Sector\\n\\n### Amounts in billions of euros\\n\\n<table>\\n  <tr>\\n    <th>Sector</th>\\n    <th>06-30-2024</th>\\n    <th></th>\\n    <th>12-31-2023</th>\\n    <th></th>\\n  </tr>\\n  <tr>\\n    <th></th>\\n    <th>Amount</th>\\n    <th>Percentage</th>\\n    <th>Amount</th>\\n    <th>Percentage</th>\\n  </tr>\\n  <tr>\\n    <td>Loans to private individuals</td>\\n    <td>203.5</td>\\n    <td>46%</td>\\n    <td>203.6</td>\\n    <td>47%</td>\\n  </tr>\\n  <tr>\\n    <td>Loans to trade, industry and services</td>\\n    <td>120.0</td>\\n    <td>27%</td>\\n    <td>115.5</td>\\n    <td>27%</td>\\n  </tr>\\n  <tr>\\n    <td>of which in the Netherlands</td>\\n    <td>77.9</td>\\n    <td></td>\\n    <td>75.3</td>\\n    <td></td>\\n  </tr>\\n  <tr>\\n    <td>of which in other countries</td>\\n    <td>42.1</td>\\n    <td></td>\\n    <td>40.2</td>\\n    <td></td>\\n  </tr>\\n  <tr>\\n    <td>Loans to Food & Agri</td>\\n    <td>119.6</td>\\n    <td>27%</td>\\n    <td>114.8</td>\\n    <td>26%</td>\\n  </tr>\\n  <tr>\\n    <td>of which in the Netherlands</td>\\n    <td>44.5</td>\\n    <td></td>\\n    <td>42.2</td>\\n    <td></td>\\n  </tr>\\n  <tr>\\n    <td>of which in other countries</td>\\n    <td>75.1</td>\\n    <td></td>\\n    <td>72.6</td>\\n    <td></td>\\n  </tr>\\n  <tr>\\n    <th>Private sector loan portfolio</th>\\n    <th>443.1</th>\\n    <th>100%</th>\\n    <th>434.0</th>\\n    <th>100%</th>\\n  </tr>\\n</table>', 'grounding': [{'box': {'l': 0.5096241134751772, 't': 0.5175, 'r': 0.9594166666666666, 'b': 0.73}, 'page': 0}], 'chunk_type': 'table', 'chunk_id': 'ec442bf4-e31a-4733-8043-41b530924689'}, {'text': '## Text Capture\\n\\n1. In the country where the entity is established', 'grounding': [{'box': {'l': 0.5089202127659574, 't': 0.7575000000000001, 'r': 0.6539237588652482, 'b': 0.7712499999999999}, 'page': 0}], 'chunk_type': 'text', 'chunk_id': 'f67a3c67-dd28-4f43-a674-1198541a8b17'}, {'text': \"## Private Sector Loan Portfolio Up\\n\\nOur private sector lending was up by EUR 9.1 billion to 443.1 EUR billion on June 30, 2024. Excluding FX impacts, the portfolio increased by approximately EUR 7.9 billion. DRB's total private sector loan portfolio amounted to EUR 271.5 (2023: 270.6) billion. In the Netherlands, the housing market recovered. Our mortgage portfolio ended up EUR 0.5 billion higher at EUR 194.3 billion. Within this segment also business lending slightly increased. W&R's loan portfolio was EUR 6.2 billion higher and private sector lending at DLL increased by EUR 2.0 billion.\", 'grounding': [{'box': {'l': 0.036602836879432624, 't': 0.57875, 'r': 0.48991489361702123, 'b': 0.7162499999999999}, 'page': 0}], 'chunk_type': 'text', 'chunk_id': 'ae073749-4e90-4e15-8246-9de2d61e62f0'}, {'text': '## Description of Figure\\n\\nThe image is a simple blue rectangle with two white horizontal lines in the center. The lines are parallel and of equal length, resembling an equal sign. There are no additional labels, titles, or annotations present in the image. The background is a solid blue color, and the lines are evenly spaced within the rectangle. There are no numerical values, patterns, or trends to describe, as the image is purely geometric and abstract in nature.', 'grounding': [{'box': {'l': 0.9347801418439716, 't': 0.0, 'r': 0.9608244680851065, 'b': 0.03875}, 'page': 1}], 'chunk_type': 'figure', 'chunk_id': '6ef6edbc-0468-4048-9bd5-3ea2c102bb8f'}, {'text': '## Foreword\\n\\nThe crop contains the word \"Foreword\" as a page header.', 'grounding': [{'box': {'l': 0.036602836879432624, 't': 0.026250000000000002, 'r': 0.06546276595744681, 'b': 0.0375}, 'page': 1}], 'chunk_type': 'page_header', 'chunk_id': '28936cfa-d763-4429-bbe4-aec4454f8a27'}, {'text': '## Management Report\\n\\nThis crop from a document is a page header with the text \"Management Report.\"', 'grounding': [{'box': {'l': 0.09854609929078013, 't': 0.026250000000000002, 'r': 0.16119326241134752, 'b': 0.03875}, 'page': 1}], 'chunk_type': 'page_header', 'chunk_id': 'f0e0e5fe-a5b8-4c97-b8ed-29b8781b23a9'}, {'text': '## Interim Financial Statement 2024\\n\\n', 'grounding': [{'box': {'l': 0.19427659574468087, 't': 0.026250000000000002, 'r': 0.2956382978723404, 'b': 0.03625}, 'page': 1}], 'chunk_type': 'page_header', 'chunk_id': '0983f70e-2cd5-4193-a829-5ade7da5eae2'}, {'text': '## Other Administrative Expenses\\n\\n### Other Administrative Expenses\\n\\n**Amounts in millions of euros**\\n\\n<table>\\n  <tr>\\n    <th>Category</th>\\n    <th>First half-year 2024</th>\\n    <th>First half-year 2023</th>\\n  </tr>\\n  <tr>\\n    <td>Additions and releases of provisions</td>\\n    <td>33</td>\\n    <td>(81)</td>\\n  </tr>\\n  <tr>\\n    <td>IT expenses and software costs</td>\\n    <td>308</td>\\n    <td>260</td>\\n  </tr>\\n  <tr>\\n    <td>Consultants fees</td>\\n    <td>240</td>\\n    <td>242</td>\\n  </tr>\\n  <tr>\\n    <td>Publicity expenses</td>\\n    <td>51</td>\\n    <td>49</td>\\n  </tr>\\n  <tr>\\n    <td>Result on derecognition and impairments on (in)tangible assets</td>\\n    <td>4</td>\\n    <td>17</td>\\n  </tr>\\n  <tr>\\n    <td>Other expenses</td>\\n    <td>279</td>\\n    <td>217</td>\\n  </tr>\\n  <tr>\\n    <td><strong>Other administrative expenses</strong></td>\\n    <td><strong>915</strong></td>\\n    <td><strong>704</strong></td>\\n  </tr>\\n</table>', 'grounding': [{'box': {'l': 0.036602836879432624, 't': 0.1125, 'r': 0.4878031914893617, 'b': 0.355}, 'page': 1}], 'chunk_type': 'table', 'chunk_id': '0e4bf352-61cf-4c0e-bc7b-29d6d7203076'}, {'text': '## Impairment Charges on Financial Assets\\n\\n### Impairment Charges on Financial Assets\\n\\n**Amounts in millions of euros**\\n\\n<table>\\n  <tr>\\n    <th>Category</th>\\n    <th>First half-year 2024</th>\\n    <th>First half-year 2023</th>\\n  </tr>\\n  <tr>\\n    <td>Loans and advances to customers and credit institutions</td>\\n    <td>325</td>\\n    <td>395</td>\\n  </tr>\\n  <tr>\\n    <td>Financial assets at fair value through other comprehensive income</td>\\n    <td>1</td>\\n    <td>1</td>\\n  </tr>\\n  <tr>\\n    <td>Recoveries following write-off</td>\\n    <td>(52)</td>\\n    <td>(61)</td>\\n  </tr>\\n  <tr>\\n    <td>Loan commitments and financial guarantees</td>\\n    <td>5</td>\\n    <td>4</td>\\n  </tr>\\n  <tr>\\n    <th>Impairment charges on financial assets</th>\\n    <th>279</th>\\n    <th>339</th>\\n  </tr>\\n</table>', 'grounding': [{'box': {'l': 0.036602836879432624, 't': 0.395, 'r': 0.4878031914893617, 'b': 0.59375}, 'page': 1}], 'chunk_type': 'table', 'chunk_id': 'b1a200e7-73b4-4d8c-a6d7-8eff59b10227'}, {'text': '## Loans and Advances to Customers\\n\\nA breakdown of the loan portfolio is presented in the following table.\\n\\n### Loans and Advances to Customers\\n\\n*Amounts in millions of euros*\\n\\n<table>\\n  <tr>\\n    <th></th>\\n    <th>June 30, 2024</th>\\n    <th>December 31, 2023</th>\\n  </tr>\\n  <tr>\\n    <td>Gross carrying amount loans and advances to customers</td>\\n    <td>467,704</td>\\n    <td>453,550</td>\\n  </tr>\\n  <tr>\\n    <td>Hedge accounting adjustment</td>\\n    <td>(11,175)</td>\\n    <td>(11,379)</td>\\n  </tr>\\n  <tr>\\n    <td>Impairment allowances on loans and advances to customers</td>\\n    <td>(2,897)</td>\\n    <td>(2,909)</td>\\n  </tr>\\n  <tr>\\n    <td><strong>Total loans and advances to customers</strong></td>\\n    <td><strong>453,632</strong></td>\\n    <td><strong>439,262</strong></td>\\n  </tr>\\n</table>', 'grounding': [{'box': {'l': 0.036602836879432624, 't': 0.63, 'r': 0.4878031914893617, 'b': 0.855}, 'page': 1}], 'chunk_type': 'table', 'chunk_id': '9282a513-8c28-46d4-bb36-876e22f01a76'}, {'text': '### Loans and Advances to Customers per Stage\\n\\n<table>\\n  <tr>\\n    <th> </th>\\n    <th>Stage 1</th>\\n    <th>Stage 2</th>\\n    <th>Stage 3</th>\\n    <th>Total</th>\\n  </tr>\\n  <tr>\\n    <td><strong>June 30, 2024</strong></td>\\n    <td></td>\\n    <td></td>\\n    <td></td>\\n    <td></td>\\n  </tr>\\n  <tr>\\n    <td>Gross carrying amount loans and advances to customers</td>\\n    <td>415,413</td>\\n    <td>42,795</td>\\n    <td>9,496</td>\\n    <td>467,704</td>\\n  </tr>\\n  <tr>\\n    <td>Impairment allowances on loans and advances to customers</td>\\n    <td>420</td>\\n    <td>603</td>\\n    <td>1,874</td>\\n    <td>2,897</td>\\n  </tr>\\n  <tr>\\n    <td><strong>December 31, 2023</strong></td>\\n    <td></td>\\n    <td></td>\\n    <td></td>\\n    <td></td>\\n  </tr>\\n  <tr>\\n    <td>Gross carrying amount loans and advances to customers</td>\\n    <td>396,879</td>\\n    <td>47,674</td>\\n    <td>8,997</td>\\n    <td>453,550</td>\\n  </tr>\\n  <tr>\\n    <td>Impairment allowances on loans and advances to customers</td>\\n    <td>393</td>\\n    <td>706</td>\\n    <td>1,810</td>\\n    <td>2,909</td>\\n  </tr>\\n</table>', 'grounding': [{'box': {'l': 0.5103280141843972, 't': 0.11750000000000001, 'r': 0.9601205673758865, 'b': 0.28625}, 'page': 1}], 'chunk_type': 'table', 'chunk_id': '3bb202ce-3ad9-4e56-827b-2a8ffcd27a86'}, {'text': '## Impairment Allowances on Financial Assets\\n\\nThe following tables depict the reconciliation from the opening balance to the closing balance of the impairment allowances of financial assets and credit related contingent liabilities.\\n\\n### Impairment Allowances on Financial Assets and Credit Related Contingent Liabilities\\n\\n*Amounts in millions of euros*\\n\\n<table>\\n  <tr>\\n    <th></th>\\n    <th>Stage 1</th>\\n    <th>Stage 2</th>\\n    <th>Stage 3</th>\\n    <th>Total</th>\\n  </tr>\\n  <tr>\\n    <td>Balance on January 1, 2024</td>\\n    <td>421</td>\\n    <td>733</td>\\n    <td>1,935</td>\\n    <td>3,089</td>\\n  </tr>\\n  <tr>\\n    <td>Increases due to origination and acquisition</td>\\n    <td>129</td>\\n    <td>9</td>\\n    <td>44</td>\\n    <td>182</td>\\n  </tr>\\n  <tr>\\n    <td>Decreases due to derecognition</td>\\n    <td>(83)</td>\\n    <td>(36)</td>\\n    <td>(178)</td>\\n    <td>(297)</td>\\n  </tr>\\n  <tr>\\n    <td>Changes due to change in credit risk</td>\\n    <td>3</td>\\n    <td>(68)</td>\\n    <td>486</td>\\n    <td>421</td>\\n  </tr>\\n  <tr>\\n    <td>Write-off of defaulted loans during the year</td>\\n    <td>(6)</td>\\n    <td>(2)</td>\\n    <td>(302)</td>\\n    <td>(310)</td>\\n  </tr>\\n  <tr>\\n    <td>Other changes</td>\\n    <td>6</td>\\n    <td>(5)</td>\\n    <td>(1)</td>\\n    <td>0</td>\\n  </tr>\\n  <tr>\\n    <td><strong>Balance on June 30, 2024</strong></td>\\n    <td><strong>470</strong></td>\\n    <td><strong>631</strong></td>\\n    <td><strong>1,984</strong></td>\\n    <td><strong>3,085</strong></td>\\n  </tr>\\n</table>', 'grounding': [{'box': {'l': 0.5075124113475177, 't': 0.32375, 'r': 0.9608244680851065, 'b': 0.41124999999999995}, 'page': 1}, {'box': {'l': 0.5103280141843972, 't': 0.4475, 'r': 0.9594166666666666, 'b': 0.6587500000000001}, 'page': 1}], 'chunk_type': 'table', 'chunk_id': 'c6f188e4-355f-4d8e-8140-e4d47e07d733'}, {'text': '## Page Number\\n\\n57', 'grounding': [{'box': {'l': 0.953081560283688, 't': 0.9425, 'r': 0.9615283687943261, 'b': 0.95375}, 'page': 1}], 'chunk_type': 'page_number', 'chunk_id': '379744ee-d386-411a-9515-e24f8f706cd6'}, {'text': '## Page Footer\\n\\nInterim Report 2024 - Interim Financial Statements 2024', 'grounding': [{'box': {'l': 0.036602836879432624, 't': 0.9425, 'r': 0.21257801418439717, 'b': 0.955}, 'page': 1}], 'chunk_type': 'page_footer', 'chunk_id': 'e85ef3f2-a0c6-412a-9be7-856e24e49e52'}]}}\n"
     ]
    }
   ],
   "source": [
    "api_key = os.getenv(\"LANDINGAI_API_KEY\")\n",
    "input_pdf = \"../data/raw/Interim-Report-2024.pdf\"\n",
    "\n",
    "url = \"https://api.va.landing.ai/v1/tools/agentic-document-analysis\"\n",
    "files = {\"pdf\": open(f\"{input_pdf}\", \"rb\")}\n",
    "headers = {\n",
    "    \"Authorization\": f\"Basic {api_key}\",\n",
    "}\n",
    "response = requests.post(url, files=files, headers=headers)\n",
    "\n",
    "print(response.json())"
   ]
  },
  {
   "cell_type": "code",
   "execution_count": 25,
   "id": "b61a6f7b",
   "metadata": {},
   "outputs": [
    {
     "name": "stdout",
     "output_type": "stream",
     "text": [
      "{'data': {'markdown': '## Page Header\\n\\n- **Introduction**\\n- **About This Report**\\n- **Foreword**\\n- **Rabobank at a Glance**\\n- **About Us**\\n- **Value Creation**\\n- **Better World** (highlighted in orange)\\n- **Better Bank**\\n- **Appendix**\\n- **Disclaimer** <!-- page_header, from page 0 (l=0.037,t=0.025,r=0.728,b=0.039), with ID 817e48b1-616f-423a-b8b8-7a0e1f39f0b2 -->\\n\\n## Financed Emissions and Avoided Emissions Overview\\n\\n### Financed Emissions in Mt CO2e\\n\\n- **2022 Financed Emissions**: 48.8 Mt CO2e\\n- **2021 Financed Emissions**: 51.5 Mt CO2e\\n\\n### Avoided Emissions via Renewable Energy Portfolio\\n\\n- **2022 Avoided Emissions**: 5.3 Mt CO2e\\n- **2021 Avoided Emissions**: 4.8 Mt CO2e\\n\\n### Emissions Breakdown by Sector\\n\\n#### Loans to Private Individuals\\n\\n- **Residential Real Estate**:\\n  - 2022: 1.9 Mt CO2e\\n  - 2021: 2.0 Mt CO2e\\n\\n#### Dutch Business Clients\\n\\n- **Food & Agriculture**:\\n  - 2022: 9.3 Mt CO2e\\n  - 2021: 10.0 Mt CO2e\\n- **Trade, Industry & Services**:\\n  - 2022: 2.3 Mt CO2e\\n  - 2021: 2.9 Mt CO2e\\n- **Commercial Real Estate**:\\n  - 2022: 0.3 Mt CO2e\\n  - 2021: 0.3 Mt CO2e\\n\\n#### Wholesale & Rural\\n\\n- **Wholesale Clients**:\\n  - 2022: 12.3 Mt CO2e\\n  - 2021: 12.9 Mt CO2e\\n- **Rural Clients**:\\n  - 2022: 19.2 Mt CO2e\\n  - 2021: 19.6 Mt CO2e\\n\\n#### Leasing International\\n\\n- **DLL Tractors Assets**:\\n  - 2022: 1.0 Mt CO2e\\n  - 2021: 1.0 Mt CO2e\\n- **DLL Transport Assets**:\\n  - 2022: 0.4 Mt CO2e\\n  - 2021: 0.4 Mt CO2e\\n\\n#### Other Assets\\n\\n- **Sovereign Bonds**:\\n  - 2022: 1.4 Mt CO2e\\n  - 2021: 2.2 Mt CO2e\\n- **Rabo Investments**:\\n  - 2022: 0.2 Mt CO2e\\n  - 2021: 0.1 Mt CO2e\\n\\n### Visual Elements\\n\\n- The figure includes a bar chart comparing financed emissions for 2021 and 2022.\\n- A wind turbine illustration is present, symbolizing renewable energy.\\n- The data is color-coded for different sectors and years for clarity. <!-- figure, from page 0 (l=0.036,t=0.135,r=0.477,b=0.924), with ID 21b3b3b8-22ba-4327-9c5f-7b0b81ef9611 -->\\n\\n## PCAF\\'s Data Quality Scores\\n\\nPCAF\\'s Data Quality Scores (score 1-5) are used to qualify the level of precision of the estimates we disclose per PCAF asset class. Data quality scores are specific to each asset class. Data with PCAF scores 1/2, (verified and unverified respectively) company-level reported emissions data, represent the highest data quality and results in the most accurate emissions estimates. This is followed by physical activity-based emissions (PCAF score 3), and PCAF scores 4/5, given for an economic activity-based emissions approach. We strive to include the best data quality score based on data availability and feasibility. Details on the average data quality score per portfolio can be found in [Appendix 3](#) of the Annual Report. <!-- text, from page 0 (l=0.508,t=0.113,r=0.958,b=0.246), with ID 062b57b2-88ee-4ff1-bc2c-dffb36ffac66 -->\\n\\n## More Customers Reporting Emissions\\n\\nThanks to increased availability of data and improved methodologies, this year we are able to report financed emissions for 89% of the relevant (71% of our total assets) on-balance sheet assets in our portfolio, covering all of the most carbon-intensive sector x region combinations of our financing activities. We see that customer-reported data is growing significantly with almost 60% of our wholesale lending now calculated using reported emissions. We also see important improvements in self-reported GHG emissions in our Rural portfolio (see next sections for more details). <!-- text, from page 0 (l=0.508,t=0.279,r=0.962,b=0.411), with ID 8454adeb-52bd-45f1-9954-ba2b8cb063b0 -->\\n\\n## A Decrease in Financed Emissions\\n\\nOur financed emissions in 2022 have decreased by 5% compared to 2021, dropping from 51.5 MtCO2e to 48.8 MtCO2e. This reduction in absolute emissions comes despite a 2% increase in the size of our loan portfolio. Our financed emissions decreased in both our Dutch and international financing activities. The decreases in our residential real estate and the Dutch business customer portfolios appear consistent with the general trends we see in these sectors of the Dutch economy. And we are confident that our Road to Paris approach is helping more and more customers transition to a climate smart future. However, as we are still largely reliant on modelled emissions calculations, we cannot draw specific conclusions on the role our own climate mitigation activities have played in achieving these results. A range of other factors, including high energy prices, government policies and incentives and changes to customer financials also impact the results. <!-- text, from page 0 (l=0.508,t=0.444,r=0.961,b=0.645), with ID 15d98eb9-deac-4e4b-98ff-832a0078b27f -->\\n\\n## Avoided Emissions Increase\\n\\nOur avoided emissions have increased by 10% - from 4.8 Mt CO2 to 5.3 Mt CO2. This increase is linked to a 25% increase in our loans to the renewable power generation sector. Rabobank plans to more than triple its investments in this sector by 2030 (compared to our base year 2020). <!-- text, from page 0 (l=0.508,t=0.679,r=0.962,b=0.764), with ID b924e51a-ba39-4855-ab76-d1ab659c254b -->\\n\\n## Emission Reduction Targets\\n\\nThe biggest potential for positive impact lies in helping our customers transition to low-emitting business models. We have millions of customers around the world and we want all of them to successfully transition to the low-carbon future. However, we realize that the need to act and our ability to help differs per customer segment. Therefore, we have focused our <!-- text, from page 0 (l=0.508,t=0.796,r=0.963,b=0.881), with ID 98ebc1ae-c1b2-4e8b-a92e-1d46fffc2bce -->\\n\\nFinanced emissions data reported this year refer to 2022 results unless otherwise indicated. This is due to delays in the publication of national emissions data required for top-down calculations, which we still use for the majority of our financed emissions calculations. <!-- text, from page 0 (l=0.509,t=0.911,r=0.959,b=0.946), with ID f3233d55-7ed1-4dcb-8e32-551afe268957 -->\\n\\n## Our Impact in 2023 - Better World\\n\\nThis text appears to be part of a page footer, indicating a focus on the impact made in the year 2023 towards creating a better world. <!-- page_footer, from page 0 (l=0.037,t=0.943,r=0.143,b=0.956), with ID 53876723-2dd9-4fbc-adf7-245024068c1f -->\\n\\n## Description of the Figure\\n\\nThe image is a simple representation of a mathematical symbol, specifically an \"equals sign\" (`=`). It consists of two parallel horizontal lines, centered within a blue square background. The lines are white, contrasting with the blue background, and are of equal length and thickness. The overall design is minimalistic, focusing solely on the symbol without any additional text, labels, or annotations. This symbol is commonly used in mathematics to denote equality between two expressions. <!-- figure, from page 0 (l=0.934,t=0.000,r=0.961,b=0.051), with ID 5d880d90-f93f-4d1d-a6a0-14d000667729 -->\\n\\n## Page Number\\n\\n22 <!-- page_number, from page 0 (l=0.953,t=0.943,r=0.962,b=0.954), with ID 68addd14-bd9a-4b4d-8072-fa53c6f862ad -->\\n\\n# Appendix 2: Additional Information Financed Emissions <!-- title, from page 1 (l=0.035,t=0.095,r=0.577,b=0.137), with ID 44d995da-266c-4d94-94ec-80b7b5d39f39 -->\\n\\n## Financed Emissions\\n\\n<table>\\n  <tr>\\n    <th>Sector</th>\\n    <th>Region</th>\\n    <th>Business Line</th>\\n    <th>Outstanding FY22 (EUR bn.)</th>\\n    <th>% In-scope portfolio FY22</th>\\n    <th>Outstanding FY21 (EUR bn.)</th>\\n    <th>Outstanding FY20 (EUR bn.)</th>\\n    <th>Absolute Emissions FY22 Scope 1 and 2 (MtCO2e)</th>\\n    <th>Absolute Emissions FY21 Scope 1 and 2 (MtCO2e)</th>\\n    <th>Performance Measure</th>\\n    <th>Performance FY22</th>\\n    <th>Performance FY21</th>\\n    <th>Baseline Year</th>\\n    <th>Road to Paris Rabobank target 2030 Update 5/12/2023</th>\\n    <th>Reference Scenario</th>\\n  </tr>\\n  <tr>\\n    <td>Food Transition</td>\\n    <td>Netherlands</td>\\n    <td>Retail NL</td>\\n    <td>1.3</td>\\n    <td>3%</td>\\n    <td>1.3</td>\\n    <td>1.3</td>\\n    <td>3.3</td>\\n    <td>3.6</td>\\n    <td>Absolute</td>\\n    <td>3.3</td>\\n    <td>3.6</td>\\n    <td>4.1</td>\\n    <td>Y2020</td>\\n    <td>Dutch Climate Agreement</td>\\n  </tr>\\n  <tr>\\n    <td></td>\\n    <td>Netherlands</td>\\n    <td>Retail NL</td>\\n    <td>1.0</td>\\n    <td>0%</td>\\n    <td>1.0</td>\\n    <td>1.0</td>\\n    <td>0.7</td>\\n    <td>0.7</td>\\n    <td>Absolute</td>\\n    <td>0.7</td>\\n    <td>0.7</td>\\n    <td>0.8</td>\\n    <td>Y2020</td>\\n    <td>>0.3</td>\\n  </tr>\\n  <tr>\\n    <td></td>\\n    <td>Netherlands</td>\\n    <td>Retail NL</td>\\n    <td>2.9</td>\\n    <td>1%</td>\\n    <td>3.0</td>\\n    <td>3.0</td>\\n    <td>4.3</td>\\n    <td>4.6</td>\\n    <td>Absolute</td>\\n    <td>4.3</td>\\n    <td>4.6</td>\\n    <td>5.1</td>\\n    <td>Y2020</td>\\n    <td>2%</td>\\n  </tr>\\n  <tr>\\n    <td></td>\\n    <td>Netherlands</td>\\n    <td>Retail NL</td>\\n    <td>1.3</td>\\n    <td>1%</td>\\n    <td>1.3</td>\\n    <td>1.3</td>\\n    <td>1.0</td>\\n    <td>1.0</td>\\n    <td>tCO2e/t</td>\\n    <td>17.3</td>\\n    <td>17.3</td>\\n    <td>17.3</td>\\n    <td>Y2020</td>\\n    <td>-10%</td>\\n  </tr>\\n  <tr>\\n    <td></td>\\n    <td>United States</td>\\n    <td>Rural</td>\\n    <td>4.6</td>\\n    <td>3%</td>\\n    <td>4.6</td>\\n    <td>4.6</td>\\n    <td>5.4</td>\\n    <td>5.1</td>\\n    <td>tCO2e/t</td>\\n    <td>17.3</td>\\n    <td>17.3</td>\\n    <td>17.3</td>\\n    <td>Y2020</td>\\n    <td>-17%</td>\\n  </tr>\\n  <tr>\\n    <td></td>\\n    <td>Brazil</td>\\n    <td>Rural</td>\\n    <td>7.3</td>\\n    <td>2%</td>\\n    <td>7.3</td>\\n    <td>7.3</td>\\n    <td>0.8</td>\\n    <td>0.8</td>\\n    <td>tCO2e/t</td>\\n    <td>0.8</td>\\n    <td>0.8</td>\\n    <td>0.8</td>\\n    <td>Y2020</td>\\n    <td>-49%</td>\\n  </tr>\\n  <tr>\\n    <td></td>\\n    <td>DLL</td>\\n    <td></td>\\n    <td>2.1</td>\\n    <td>1%</td>\\n    <td>2.1</td>\\n    <td>2.1</td>\\n    <td>n.a</td>\\n    <td>n.a</td>\\n    <td>n.a</td>\\n    <td>n.a</td>\\n    <td>n.a</td>\\n    <td>n.a</td>\\n    <td>Y2020</td>\\n    <td>Own methodology</td>\\n  </tr>\\n  <tr>\\n    <td>Energy Transition</td>\\n    <td>Netherlands</td>\\n    <td>Mortgages</td>\\n    <td>192.2</td>\\n    <td>48%</td>\\n    <td>190.5</td>\\n    <td>189.0</td>\\n    <td>1.9</td>\\n    <td>2.0</td>\\n    <td>kg CO2/m2</td>\\n    <td>25.0</td>\\n    <td>26.1</td>\\n    <td>26.2</td>\\n    <td>Y2020</td>\\n    <td>-57%</td>\\n  </tr>\\n  <tr>\\n    <td></td>\\n    <td>International</td>\\n    <td>NL + Wholesale</td>\\n    <td>19.1</td>\\n    <td>5%</td>\\n    <td>21.4</td>\\n    <td>19.4</td>\\n    <td>0.9</td>\\n    <td>1.0</td>\\n    <td>kg CO2/m2</td>\\n    <td>43.2</td>\\n    <td>45.1</td>\\n    <td>45.1</td>\\n    <td>Y2020</td>\\n    <td>-55%</td>\\n  </tr>\\n  <tr>\\n    <td></td>\\n    <td>NL + International</td>\\n    <td>Retail NL</td>\\n    <td>3.0</td>\\n    <td>1%</td>\\n    <td>3.0</td>\\n    <td>3.0</td>\\n    <td>0.4</td>\\n    <td>0.4</td>\\n    <td>MtCO2/billion tkm</td>\\n    <td>0.21</td>\\n    <td>0.21</td>\\n    <td>0.21</td>\\n    <td>Y2020</td>\\n    <td>-48%</td>\\n  </tr>\\n  <tr>\\n    <td></td>\\n    <td>International</td>\\n    <td>Traded Oil & Gas</td>\\n    <td>7.0</td>\\n    <td>2%</td>\\n    <td>7.0</td>\\n    <td>7.0</td>\\n    <td>n/a</td>\\n    <td>n/a</td>\\n    <td>Mboe/day</td>\\n    <td>n/a</td>\\n    <td>n/a</td>\\n    <td>n/a</td>\\n    <td>Y2020</td>\\n    <td>-48%</td>\\n  </tr>\\n  <tr>\\n    <td></td>\\n    <td>International</td>\\n    <td>Wholesale</td>\\n    <td>2.0</td>\\n    <td>1%</td>\\n    <td>2.0</td>\\n    <td>2.0</td>\\n    <td>0.0</td>\\n    <td>0.0</td>\\n    <td>kg CO2/kWh</td>\\n    <td>0.0</td>\\n    <td>0.0</td>\\n    <td>0.0</td>\\n    <td>Y2020</td>\\n    <td>0%</td>\\n  </tr>\\n  <tr>\\n    <td></td>\\n    <td>International</td>\\n    <td>Project Finance</td>\\n    <td>0.0</td>\\n    <td>0%</td>\\n    <td>0.0</td>\\n    <td>0.0</td>\\n    <td>0.0</td>\\n    <td>0.0</td>\\n    <td>kg CO2/kWh</td>\\n    <td>0.0</td>\\n    <td>0.0</td>\\n    <td>0.0</td>\\n    <td>Y2020</td>\\n    <td>0%</td>\\n  </tr>\\n  <tr>\\n    <td colspan=\"3\">Portfolio Road to Paris</td>\\n    <td>259.8</td>\\n    <td>65%</td>\\n    <td>259.3</td>\\n    <td>250.8</td>\\n    <td>48.8</td>\\n    <td>26.2</td>\\n    <td colspan=\"6\"></td>\\n  </tr>\\n  <tr>\\n    <td colspan=\"3\">Portfolio Impact Report 2022</td>\\n    <td>397</td>\\n    <td colspan=\"10\"></td>\\n  </tr>\\n  <tr>\\n    <td colspan=\"3\">Total Portfolio</td>\\n    <td>449</td>\\n    <td colspan=\"10\"></td>\\n  </tr>\\n</table> <!-- table, from page 1 (l=0.038,t=0.224,r=0.960,b=0.745), with ID 23459224-bf5f-4f78-b828-7006a8d12ef5 -->\\n\\n## Notes\\n\\n1. Note that the pathway and portfolio intensity numbers are aligned in emissions boundaries, but the values in the SBT FLAG pathways are derived in a methodologically different way (the FLAG sector-region default value comes from a top-down model, our portfolio intensity value comes from a bottom-up calculator, with carbon footprints calculated based on primary data collected from our customers). This makes direct comparison difficult.\\n\\n2. The performance measure is equal to the baseline reference year due to availability of data.\\n\\n3. The 2020 financed emissions were not measured.\\n\\n4. Financed (physical) volumes of oil and gas converted to million barrels of oil equivalent/day. This is our first assessment of financed (physical) fossil volumes. We are working with other banks to develop a methodology for traded fossil fuels, which may differ from the current methodology. <!-- text, from page 1 (l=0.037,t=0.771,r=0.962,b=0.809); page 1 (l=0.037,t=0.819,r=0.318,b=0.833); page 1 (l=0.036,t=0.842,r=0.193,b=0.855); page 1 (l=0.036,t=0.865,r=0.907,b=0.879), with ID 1d215732-a585-4999-a538-0330695f4feb -->\\n\\n## Our Impact in 2023 - Appendix <!-- page_footer, from page 1 (l=0.037,t=0.943,r=0.134,b=0.956), with ID 9ea6e089-5829-4856-8646-251423d1d756 -->\\n\\n## Page Number\\n\\n62 <!-- page_number, from page 1 (l=0.953,t=0.943,r=0.962,b=0.954), with ID a88c9c04-5b3a-4734-b9fe-187c92b2a807 -->', 'chunks': [{'text': '## Page Header\\n\\n- **Introduction**\\n- **About This Report**\\n- **Foreword**\\n- **Rabobank at a Glance**\\n- **About Us**\\n- **Value Creation**\\n- **Better World** (highlighted in orange)\\n- **Better Bank**\\n- **Appendix**\\n- **Disclaimer**', 'grounding': [{'box': {'l': 0.036602836879432624, 't': 0.025, 'r': 0.7278333333333332, 'b': 0.03875}, 'page': 0}], 'chunk_type': 'page_header', 'chunk_id': '817e48b1-616f-423a-b8b8-7a0e1f39f0b2'}, {'text': '## Financed Emissions and Avoided Emissions Overview\\n\\n### Financed Emissions in Mt CO2e\\n\\n- **2022 Financed Emissions**: 48.8 Mt CO2e\\n- **2021 Financed Emissions**: 51.5 Mt CO2e\\n\\n### Avoided Emissions via Renewable Energy Portfolio\\n\\n- **2022 Avoided Emissions**: 5.3 Mt CO2e\\n- **2021 Avoided Emissions**: 4.8 Mt CO2e\\n\\n### Emissions Breakdown by Sector\\n\\n#### Loans to Private Individuals\\n\\n- **Residential Real Estate**:\\n  - 2022: 1.9 Mt CO2e\\n  - 2021: 2.0 Mt CO2e\\n\\n#### Dutch Business Clients\\n\\n- **Food & Agriculture**:\\n  - 2022: 9.3 Mt CO2e\\n  - 2021: 10.0 Mt CO2e\\n- **Trade, Industry & Services**:\\n  - 2022: 2.3 Mt CO2e\\n  - 2021: 2.9 Mt CO2e\\n- **Commercial Real Estate**:\\n  - 2022: 0.3 Mt CO2e\\n  - 2021: 0.3 Mt CO2e\\n\\n#### Wholesale & Rural\\n\\n- **Wholesale Clients**:\\n  - 2022: 12.3 Mt CO2e\\n  - 2021: 12.9 Mt CO2e\\n- **Rural Clients**:\\n  - 2022: 19.2 Mt CO2e\\n  - 2021: 19.6 Mt CO2e\\n\\n#### Leasing International\\n\\n- **DLL Tractors Assets**:\\n  - 2022: 1.0 Mt CO2e\\n  - 2021: 1.0 Mt CO2e\\n- **DLL Transport Assets**:\\n  - 2022: 0.4 Mt CO2e\\n  - 2021: 0.4 Mt CO2e\\n\\n#### Other Assets\\n\\n- **Sovereign Bonds**:\\n  - 2022: 1.4 Mt CO2e\\n  - 2021: 2.2 Mt CO2e\\n- **Rabo Investments**:\\n  - 2022: 0.2 Mt CO2e\\n  - 2021: 0.1 Mt CO2e\\n\\n### Visual Elements\\n\\n- The figure includes a bar chart comparing financed emissions for 2021 and 2022.\\n- A wind turbine illustration is present, symbolizing renewable energy.\\n- The data is color-coded for different sectors and years for clarity.', 'grounding': [{'box': {'l': 0.03589893617021277, 't': 0.135, 'r': 0.4772446808510638, 'b': 0.92375}, 'page': 0}], 'chunk_type': 'figure', 'chunk_id': '21b3b3b8-22ba-4327-9c5f-7b0b81ef9611'}, {'text': \"## PCAF's Data Quality Scores\\n\\nPCAF's Data Quality Scores (score 1-5) are used to qualify the level of precision of the estimates we disclose per PCAF asset class. Data quality scores are specific to each asset class. Data with PCAF scores 1/2, (verified and unverified respectively) company-level reported emissions data, represent the highest data quality and results in the most accurate emissions estimates. This is followed by physical activity-based emissions (PCAF score 3), and PCAF scores 4/5, given for an economic activity-based emissions approach. We strive to include the best data quality score based on data availability and feasibility. Details on the average data quality score per portfolio can be found in [Appendix 3](#) of the Annual Report.\", 'grounding': [{'box': {'l': 0.5075124113475177, 't': 0.1125, 'r': 0.9580088652482269, 'b': 0.24625}, 'page': 0}], 'chunk_type': 'text', 'chunk_id': '062b57b2-88ee-4ff1-bc2c-dffb36ffac66'}, {'text': '## More Customers Reporting Emissions\\n\\nThanks to increased availability of data and improved methodologies, this year we are able to report financed emissions for 89% of the relevant (71% of our total assets) on-balance sheet assets in our portfolio, covering all of the most carbon-intensive sector x region combinations of our financing activities. We see that customer-reported data is growing significantly with almost 60% of our wholesale lending now calculated using reported emissions. We also see important improvements in self-reported GHG emissions in our Rural portfolio (see next sections for more details).', 'grounding': [{'box': {'l': 0.5075124113475177, 't': 0.27875, 'r': 0.9615283687943261, 'b': 0.41124999999999995}, 'page': 0}], 'chunk_type': 'text', 'chunk_id': '8454adeb-52bd-45f1-9954-ba2b8cb063b0'}, {'text': '## A Decrease in Financed Emissions\\n\\nOur financed emissions in 2022 have decreased by 5% compared to 2021, dropping from 51.5 MtCO2e to 48.8 MtCO2e. This reduction in absolute emissions comes despite a 2% increase in the size of our loan portfolio. Our financed emissions decreased in both our Dutch and international financing activities. The decreases in our residential real estate and the Dutch business customer portfolios appear consistent with the general trends we see in these sectors of the Dutch economy. And we are confident that our Road to Paris approach is helping more and more customers transition to a climate smart future. However, as we are still largely reliant on modelled emissions calculations, we cannot draw specific conclusions on the role our own climate mitigation activities have played in achieving these results. A range of other factors, including high energy prices, government policies and incentives and changes to customer financials also impact the results.', 'grounding': [{'box': {'l': 0.5075124113475177, 't': 0.44375, 'r': 0.9608244680851065, 'b': 0.645}, 'page': 0}], 'chunk_type': 'text', 'chunk_id': '15d98eb9-deac-4e4b-98ff-832a0078b27f'}, {'text': '## Avoided Emissions Increase\\n\\nOur avoided emissions have increased by 10% - from 4.8 Mt CO2 to 5.3 Mt CO2. This increase is linked to a 25% increase in our loans to the renewable power generation sector. Rabobank plans to more than triple its investments in this sector by 2030 (compared to our base year 2020).', 'grounding': [{'box': {'l': 0.5075124113475177, 't': 0.67875, 'r': 0.962232269503546, 'b': 0.76375}, 'page': 0}], 'chunk_type': 'text', 'chunk_id': 'b924e51a-ba39-4855-ab76-d1ab659c254b'}, {'text': '## Emission Reduction Targets\\n\\nThe biggest potential for positive impact lies in helping our customers transition to low-emitting business models. We have millions of customers around the world and we want all of them to successfully transition to the low-carbon future. However, we realize that the need to act and our ability to help differs per customer segment. Therefore, we have focused our', 'grounding': [{'box': {'l': 0.5075124113475177, 't': 0.79625, 'r': 0.962936170212766, 'b': 0.88125}, 'page': 0}], 'chunk_type': 'text', 'chunk_id': '98ebc1ae-c1b2-4e8b-a92e-1d46fffc2bce'}, {'text': 'Financed emissions data reported this year refer to 2022 results unless otherwise indicated. This is due to delays in the publication of national emissions data required for top-down calculations, which we still use for the majority of our financed emissions calculations.', 'grounding': [{'box': {'l': 0.5089202127659574, 't': 0.91125, 'r': 0.9594166666666666, 'b': 0.94625}, 'page': 0}], 'chunk_type': 'text', 'chunk_id': 'f3233d55-7ed1-4dcb-8e32-551afe268957'}, {'text': '## Our Impact in 2023 - Better World\\n\\nThis text appears to be part of a page footer, indicating a focus on the impact made in the year 2023 towards creating a better world.', 'grounding': [{'box': {'l': 0.036602836879432624, 't': 0.9425, 'r': 0.1428918439716312, 'b': 0.95625}, 'page': 0}], 'chunk_type': 'page_footer', 'chunk_id': '53876723-2dd9-4fbc-adf7-245024068c1f'}, {'text': '## Description of the Figure\\n\\nThe image is a simple representation of a mathematical symbol, specifically an \"equals sign\" (`=`). It consists of two parallel horizontal lines, centered within a blue square background. The lines are white, contrasting with the blue background, and are of equal length and thickness. The overall design is minimalistic, focusing solely on the symbol without any additional text, labels, or annotations. This symbol is commonly used in mathematics to denote equality between two expressions.', 'grounding': [{'box': {'l': 0.9340762411347517, 't': 0.0, 'r': 0.9608244680851065, 'b': 0.051250000000000004}, 'page': 0}], 'chunk_type': 'figure', 'chunk_id': '5d880d90-f93f-4d1d-a6a0-14d000667729'}, {'text': '## Page Number\\n\\n22', 'grounding': [{'box': {'l': 0.953081560283688, 't': 0.9425, 'r': 0.9615283687943261, 'b': 0.95375}, 'page': 0}], 'chunk_type': 'page_number', 'chunk_id': '68addd14-bd9a-4b4d-8072-fa53c6f862ad'}, {'text': '# Appendix 2: Additional Information Financed Emissions', 'grounding': [{'box': {'l': 0.03519503546099291, 't': 0.09499999999999999, 'r': 0.5771985815602837, 'b': 0.13749999999999998}, 'page': 1}], 'chunk_type': 'title', 'chunk_id': '44d995da-266c-4d94-94ec-80b7b5d39f39'}, {'text': '## Financed Emissions\\n\\n<table>\\n  <tr>\\n    <th>Sector</th>\\n    <th>Region</th>\\n    <th>Business Line</th>\\n    <th>Outstanding FY22 (EUR bn.)</th>\\n    <th>% In-scope portfolio FY22</th>\\n    <th>Outstanding FY21 (EUR bn.)</th>\\n    <th>Outstanding FY20 (EUR bn.)</th>\\n    <th>Absolute Emissions FY22 Scope 1 and 2 (MtCO2e)</th>\\n    <th>Absolute Emissions FY21 Scope 1 and 2 (MtCO2e)</th>\\n    <th>Performance Measure</th>\\n    <th>Performance FY22</th>\\n    <th>Performance FY21</th>\\n    <th>Baseline Year</th>\\n    <th>Road to Paris Rabobank target 2030 Update 5/12/2023</th>\\n    <th>Reference Scenario</th>\\n  </tr>\\n  <tr>\\n    <td>Food Transition</td>\\n    <td>Netherlands</td>\\n    <td>Retail NL</td>\\n    <td>1.3</td>\\n    <td>3%</td>\\n    <td>1.3</td>\\n    <td>1.3</td>\\n    <td>3.3</td>\\n    <td>3.6</td>\\n    <td>Absolute</td>\\n    <td>3.3</td>\\n    <td>3.6</td>\\n    <td>4.1</td>\\n    <td>Y2020</td>\\n    <td>Dutch Climate Agreement</td>\\n  </tr>\\n  <tr>\\n    <td></td>\\n    <td>Netherlands</td>\\n    <td>Retail NL</td>\\n    <td>1.0</td>\\n    <td>0%</td>\\n    <td>1.0</td>\\n    <td>1.0</td>\\n    <td>0.7</td>\\n    <td>0.7</td>\\n    <td>Absolute</td>\\n    <td>0.7</td>\\n    <td>0.7</td>\\n    <td>0.8</td>\\n    <td>Y2020</td>\\n    <td>>0.3</td>\\n  </tr>\\n  <tr>\\n    <td></td>\\n    <td>Netherlands</td>\\n    <td>Retail NL</td>\\n    <td>2.9</td>\\n    <td>1%</td>\\n    <td>3.0</td>\\n    <td>3.0</td>\\n    <td>4.3</td>\\n    <td>4.6</td>\\n    <td>Absolute</td>\\n    <td>4.3</td>\\n    <td>4.6</td>\\n    <td>5.1</td>\\n    <td>Y2020</td>\\n    <td>2%</td>\\n  </tr>\\n  <tr>\\n    <td></td>\\n    <td>Netherlands</td>\\n    <td>Retail NL</td>\\n    <td>1.3</td>\\n    <td>1%</td>\\n    <td>1.3</td>\\n    <td>1.3</td>\\n    <td>1.0</td>\\n    <td>1.0</td>\\n    <td>tCO2e/t</td>\\n    <td>17.3</td>\\n    <td>17.3</td>\\n    <td>17.3</td>\\n    <td>Y2020</td>\\n    <td>-10%</td>\\n  </tr>\\n  <tr>\\n    <td></td>\\n    <td>United States</td>\\n    <td>Rural</td>\\n    <td>4.6</td>\\n    <td>3%</td>\\n    <td>4.6</td>\\n    <td>4.6</td>\\n    <td>5.4</td>\\n    <td>5.1</td>\\n    <td>tCO2e/t</td>\\n    <td>17.3</td>\\n    <td>17.3</td>\\n    <td>17.3</td>\\n    <td>Y2020</td>\\n    <td>-17%</td>\\n  </tr>\\n  <tr>\\n    <td></td>\\n    <td>Brazil</td>\\n    <td>Rural</td>\\n    <td>7.3</td>\\n    <td>2%</td>\\n    <td>7.3</td>\\n    <td>7.3</td>\\n    <td>0.8</td>\\n    <td>0.8</td>\\n    <td>tCO2e/t</td>\\n    <td>0.8</td>\\n    <td>0.8</td>\\n    <td>0.8</td>\\n    <td>Y2020</td>\\n    <td>-49%</td>\\n  </tr>\\n  <tr>\\n    <td></td>\\n    <td>DLL</td>\\n    <td></td>\\n    <td>2.1</td>\\n    <td>1%</td>\\n    <td>2.1</td>\\n    <td>2.1</td>\\n    <td>n.a</td>\\n    <td>n.a</td>\\n    <td>n.a</td>\\n    <td>n.a</td>\\n    <td>n.a</td>\\n    <td>n.a</td>\\n    <td>Y2020</td>\\n    <td>Own methodology</td>\\n  </tr>\\n  <tr>\\n    <td>Energy Transition</td>\\n    <td>Netherlands</td>\\n    <td>Mortgages</td>\\n    <td>192.2</td>\\n    <td>48%</td>\\n    <td>190.5</td>\\n    <td>189.0</td>\\n    <td>1.9</td>\\n    <td>2.0</td>\\n    <td>kg CO2/m2</td>\\n    <td>25.0</td>\\n    <td>26.1</td>\\n    <td>26.2</td>\\n    <td>Y2020</td>\\n    <td>-57%</td>\\n  </tr>\\n  <tr>\\n    <td></td>\\n    <td>International</td>\\n    <td>NL + Wholesale</td>\\n    <td>19.1</td>\\n    <td>5%</td>\\n    <td>21.4</td>\\n    <td>19.4</td>\\n    <td>0.9</td>\\n    <td>1.0</td>\\n    <td>kg CO2/m2</td>\\n    <td>43.2</td>\\n    <td>45.1</td>\\n    <td>45.1</td>\\n    <td>Y2020</td>\\n    <td>-55%</td>\\n  </tr>\\n  <tr>\\n    <td></td>\\n    <td>NL + International</td>\\n    <td>Retail NL</td>\\n    <td>3.0</td>\\n    <td>1%</td>\\n    <td>3.0</td>\\n    <td>3.0</td>\\n    <td>0.4</td>\\n    <td>0.4</td>\\n    <td>MtCO2/billion tkm</td>\\n    <td>0.21</td>\\n    <td>0.21</td>\\n    <td>0.21</td>\\n    <td>Y2020</td>\\n    <td>-48%</td>\\n  </tr>\\n  <tr>\\n    <td></td>\\n    <td>International</td>\\n    <td>Traded Oil & Gas</td>\\n    <td>7.0</td>\\n    <td>2%</td>\\n    <td>7.0</td>\\n    <td>7.0</td>\\n    <td>n/a</td>\\n    <td>n/a</td>\\n    <td>Mboe/day</td>\\n    <td>n/a</td>\\n    <td>n/a</td>\\n    <td>n/a</td>\\n    <td>Y2020</td>\\n    <td>-48%</td>\\n  </tr>\\n  <tr>\\n    <td></td>\\n    <td>International</td>\\n    <td>Wholesale</td>\\n    <td>2.0</td>\\n    <td>1%</td>\\n    <td>2.0</td>\\n    <td>2.0</td>\\n    <td>0.0</td>\\n    <td>0.0</td>\\n    <td>kg CO2/kWh</td>\\n    <td>0.0</td>\\n    <td>0.0</td>\\n    <td>0.0</td>\\n    <td>Y2020</td>\\n    <td>0%</td>\\n  </tr>\\n  <tr>\\n    <td></td>\\n    <td>International</td>\\n    <td>Project Finance</td>\\n    <td>0.0</td>\\n    <td>0%</td>\\n    <td>0.0</td>\\n    <td>0.0</td>\\n    <td>0.0</td>\\n    <td>0.0</td>\\n    <td>kg CO2/kWh</td>\\n    <td>0.0</td>\\n    <td>0.0</td>\\n    <td>0.0</td>\\n    <td>Y2020</td>\\n    <td>0%</td>\\n  </tr>\\n  <tr>\\n    <td colspan=\"3\">Portfolio Road to Paris</td>\\n    <td>259.8</td>\\n    <td>65%</td>\\n    <td>259.3</td>\\n    <td>250.8</td>\\n    <td>48.8</td>\\n    <td>26.2</td>\\n    <td colspan=\"6\"></td>\\n  </tr>\\n  <tr>\\n    <td colspan=\"3\">Portfolio Impact Report 2022</td>\\n    <td>397</td>\\n    <td colspan=\"10\"></td>\\n  </tr>\\n  <tr>\\n    <td colspan=\"3\">Total Portfolio</td>\\n    <td>449</td>\\n    <td colspan=\"10\"></td>\\n  </tr>\\n</table>', 'grounding': [{'box': {'l': 0.03801063829787234, 't': 0.22375, 'r': 0.9601205673758865, 'b': 0.745}, 'page': 1}], 'chunk_type': 'table', 'chunk_id': '23459224-bf5f-4f78-b828-7006a8d12ef5'}, {'text': '## Notes\\n\\n1. Note that the pathway and portfolio intensity numbers are aligned in emissions boundaries, but the values in the SBT FLAG pathways are derived in a methodologically different way (the FLAG sector-region default value comes from a top-down model, our portfolio intensity value comes from a bottom-up calculator, with carbon footprints calculated based on primary data collected from our customers). This makes direct comparison difficult.\\n\\n2. The performance measure is equal to the baseline reference year due to availability of data.\\n\\n3. The 2020 financed emissions were not measured.\\n\\n4. Financed (physical) volumes of oil and gas converted to million barrels of oil equivalent/day. This is our first assessment of financed (physical) fossil volumes. We are working with other banks to develop a methodology for traded fossil fuels, which may differ from the current methodology.', 'grounding': [{'box': {'l': 0.036602836879432624, 't': 0.7712499999999999, 'r': 0.9615283687943261, 'b': 0.8087500000000001}, 'page': 1}, {'box': {'l': 0.036602836879432624, 't': 0.81875, 'r': 0.3181631205673759, 'b': 0.8325}, 'page': 1}, {'box': {'l': 0.03589893617021277, 't': 0.8424999999999999, 'r': 0.19286879432624113, 'b': 0.855}, 'page': 1}, {'box': {'l': 0.03589893617021277, 't': 0.8649999999999999, 'r': 0.9066241134751772, 'b': 0.8787499999999999}, 'page': 1}], 'chunk_type': 'text', 'chunk_id': '1d215732-a585-4999-a538-0330695f4feb'}, {'text': '## Our Impact in 2023 - Appendix', 'grounding': [{'box': {'l': 0.036602836879432624, 't': 0.9425, 'r': 0.13374113475177304, 'b': 0.95625}, 'page': 1}], 'chunk_type': 'page_footer', 'chunk_id': '9ea6e089-5829-4856-8646-251423d1d756'}, {'text': '## Page Number\\n\\n62', 'grounding': [{'box': {'l': 0.953081560283688, 't': 0.9425, 'r': 0.9615283687943261, 'b': 0.95375}, 'page': 1}], 'chunk_type': 'page_number', 'chunk_id': 'a88c9c04-5b3a-4734-b9fe-187c92b2a807'}]}}\n"
     ]
    }
   ],
   "source": [
    "api_key = os.getenv(\"LANDINGAI_API_KEY\")\n",
    "input_pdf = \"../data/raw/Our-Impact-in-2023.pdf\"\n",
    "\n",
    "url = \"https://api.va.landing.ai/v1/tools/agentic-document-analysis\"\n",
    "files = {\"pdf\": open(f\"{input_pdf}\", \"rb\")}\n",
    "headers = {\n",
    "    \"Authorization\": f\"Basic {api_key}\",\n",
    "}\n",
    "response = requests.post(url, files=files, headers=headers)\n",
    "\n",
    "print(response.json())"
   ]
  },
  {
   "cell_type": "code",
   "execution_count": 26,
   "id": "c8386d09",
   "metadata": {},
   "outputs": [],
   "source": [
    "# extract the md content from the response\n",
    "markdown_content = response.json()[\"data\"][\"markdown\"]\n",
    "output_md = \"../data/processed/landingai_result/Our-Impact-in-2023.md\"\n",
    "os.makedirs(os.path.dirname(output_md), exist_ok=True)\n",
    "\n",
    "# save the md output\n",
    "with open(output_md, \"w\") as f:\n",
    "    f.write(markdown_content)"
   ]
  },
  {
   "cell_type": "markdown",
   "id": "964a9dd0",
   "metadata": {},
   "source": [
    "Docling"
   ]
  },
  {
   "cell_type": "code",
   "execution_count": 12,
   "id": "b0499bdc",
   "metadata": {},
   "outputs": [
    {
     "name": "stdout",
     "output_type": "stream",
     "text": [
      "Converting ../data/raw/Interim-Report-2024.pdf with Docling\n"
     ]
    },
    {
     "name": "stderr",
     "output_type": "stream",
     "text": [
      "WARNING:easyocr.easyocr:Downloading detection model, please wait. This may take several minutes depending upon your network connection.\n",
      "WARNING:easyocr.easyocr:Downloading recognition model, please wait. This may take several minutes depending upon your network connection.\n"
     ]
    },
    {
     "name": "stdout",
     "output_type": "stream",
     "text": [
      "Docling output saved to ../data/processed/docling_result/Interim-Report-2024.md\n"
     ]
    }
   ],
   "source": [
    "from docling.document_converter import DocumentConverter\n",
    "\n",
    "# input and output paths\n",
    "input_pdf = \"../data/raw/Interim-Report-2024.pdf\"\n",
    "output_md = \"../data/processed/docling_result/Interim-Report-2024.md\"\n",
    "\n",
    "# Create output directory if it doesn't exist\n",
    "os.makedirs(os.path.dirname(output_md), exist_ok=True)\n",
    "\n",
    "# convert the PDF to md\n",
    "print(f\"Converting {input_pdf} with Docling\")\n",
    "converter = DocumentConverter()\n",
    "result = converter.convert(input_pdf)\n",
    "\n",
    "# save  md output\n",
    "with open(output_md, \"w\") as f:\n",
    "    f.write(result.document.export_to_markdown())\n",
    "\n",
    "print(f\"Docling output saved to {output_md}\")"
   ]
  },
  {
   "cell_type": "code",
   "execution_count": 28,
   "id": "4a8c0b59",
   "metadata": {},
   "outputs": [
    {
     "name": "stdout",
     "output_type": "stream",
     "text": [
      "Converting ../data/raw/Our-Impact-in-2023.pdf with Docling\n",
      "Docling output saved to ../data/processed/docling_result/Our-Impact-in-2023.md\n"
     ]
    }
   ],
   "source": [
    "from docling.document_converter import DocumentConverter\n",
    "\n",
    "# input and output paths\n",
    "input_pdf = \"../data/raw/Our-Impact-in-2023.pdf\"\n",
    "output_md = \"../data/processed/docling_result/Our-Impact-in-2023.md\"\n",
    "\n",
    "# create output directory if it doesn't exist\n",
    "os.makedirs(os.path.dirname(output_md), exist_ok=True)\n",
    "\n",
    "# convert the PDF to md\n",
    "print(f\"Converting {input_pdf} with Docling\")\n",
    "converter = DocumentConverter()\n",
    "result = converter.convert(input_pdf)\n",
    "\n",
    "# save md output\n",
    "with open(output_md, \"w\") as f:\n",
    "    f.write(result.document.export_to_markdown())\n",
    "\n",
    "print(f\"Docling output saved to {output_md}\")"
   ]
  },
  {
   "cell_type": "markdown",
   "id": "c00d3fba",
   "metadata": {},
   "source": [
    "MISTRAL OCR"
   ]
  },
  {
   "cell_type": "code",
   "execution_count": null,
   "id": "b2c84bce",
   "metadata": {},
   "outputs": [
    {
     "name": "stdout",
     "output_type": "stream",
     "text": [
      "Mistral output saved to ../data/processed/mistral_result/Interim-Report-2024.md\n"
     ]
    }
   ],
   "source": [
    "api_key = os.getenv(\"MISTRAL_API_KEY\")\n",
    "client = Mistral(api_key=api_key)\n",
    "\n",
    "\n",
    "def replace_images_in_markdown(markdown_str: str, images_dict: dict) -> str:\n",
    "    for img_name, base64_str in images_dict.items():\n",
    "        markdown_str = markdown_str.replace(\n",
    "            f\"![{img_name}]({img_name})\", f\"![{img_name}]({base64_str})\"\n",
    "        )\n",
    "    return markdown_str\n",
    "\n",
    "\n",
    "def get_combined_markdown(ocr_response: OCRResponse) -> str:\n",
    "    markdowns: list[str] = []\n",
    "    for page in ocr_response.pages:\n",
    "        image_data = {}\n",
    "        for img in page.images:\n",
    "            image_data[img.id] = img.image_base64\n",
    "        markdowns.append(replace_images_in_markdown(page.markdown, image_data))\n",
    "\n",
    "    return \"\\n\\n\".join(markdowns)\n",
    "\n",
    "\n",
    "# input and output paths\n",
    "input_pdf = \"../data/raw/Interim-Report-2024.pdf\"\n",
    "output_md = \"../data/processed/mistral_result/Interim-Report-2024.md\"\n",
    "\n",
    "# create output directory if it doesn't exist\n",
    "os.makedirs(os.path.dirname(output_md), exist_ok=True)\n",
    "with open(input_pdf, \"rb\") as f:\n",
    "    uploaded_file = client.files.upload(\n",
    "        file={\n",
    "            \"file_name\": Path(input_pdf).stem,\n",
    "            \"content\": f.read(),\n",
    "        },\n",
    "        purpose=\"ocr\",\n",
    "    )\n",
    "\n",
    "# get signed URL\n",
    "signed_url = client.files.get_signed_url(file_id=uploaded_file.id, expiry=1)\n",
    "\n",
    "# process with OCR\n",
    "pdf_response = client.ocr.process(\n",
    "    document=DocumentURLChunk(document_url=signed_url.url),\n",
    "    model=\"mistral-ocr-latest\",\n",
    "    include_image_base64=True,\n",
    ")\n",
    "\n",
    "# generate markdown\n",
    "markdown = get_combined_markdown(pdf_response)\n",
    "\n",
    "# save the markdown output\n",
    "with open(output_md, \"w\") as f:\n",
    "    f.write(markdown)\n",
    "\n",
    "print(f\"Mistral output saved to {output_md}\")"
   ]
  },
  {
   "cell_type": "code",
   "execution_count": 24,
   "id": "2ecc70a1",
   "metadata": {},
   "outputs": [
    {
     "name": "stdout",
     "output_type": "stream",
     "text": [
      "Mistral output saved to ../data/processed/mistral_result/Our-Impact-in-2023.pdf.md\n"
     ]
    }
   ],
   "source": [
    "import os\n",
    "from pathlib import Path\n",
    "\n",
    "from dotenv import load_dotenv\n",
    "from mistralai import DocumentURLChunk, Mistral\n",
    "from mistralai.models import OCRResponse\n",
    "\n",
    "load_dotenv()\n",
    "\n",
    "api_key = os.getenv(\"MISTRAL_API_KEY\")\n",
    "client = Mistral(api_key=api_key)\n",
    "\n",
    "\n",
    "def replace_images_in_markdown(markdown_str: str, images_dict: dict) -> str:\n",
    "    for img_name, base64_str in images_dict.items():\n",
    "        markdown_str = markdown_str.replace(\n",
    "            f\"![{img_name}]({img_name})\", f\"![{img_name}]({base64_str})\"\n",
    "        )\n",
    "    return markdown_str\n",
    "\n",
    "\n",
    "def get_combined_markdown(ocr_response: OCRResponse) -> str:\n",
    "    markdowns: list[str] = []\n",
    "    for page in ocr_response.pages:\n",
    "        image_data = {}\n",
    "        for img in page.images:\n",
    "            image_data[img.id] = img.image_base64\n",
    "        markdowns.append(replace_images_in_markdown(page.markdown, image_data))\n",
    "\n",
    "    return \"\\n\\n\".join(markdowns)\n",
    "\n",
    "\n",
    "# Set the input and output paths\n",
    "input_pdf = \"../data/raw/Our-Impact-in-2023.pdf\"\n",
    "output_md = \"../data/processed/mistral_result/Our-Impact-in-2023.pdf.md\"\n",
    "\n",
    "# Create output directory if it doesn't exist\n",
    "os.makedirs(os.path.dirname(output_md), exist_ok=True)\n",
    "\n",
    "# Upload file to Mistral\n",
    "with open(input_pdf, \"rb\") as f:\n",
    "    uploaded_file = client.files.upload(\n",
    "        file={\n",
    "            \"file_name\": Path(input_pdf).stem,\n",
    "            \"content\": f.read(),\n",
    "        },\n",
    "        purpose=\"ocr\",\n",
    "    )\n",
    "\n",
    "# Get signed URL\n",
    "signed_url = client.files.get_signed_url(file_id=uploaded_file.id, expiry=1)\n",
    "\n",
    "# Process with OCR\n",
    "pdf_response = client.ocr.process(\n",
    "    document=DocumentURLChunk(document_url=signed_url.url),\n",
    "    model=\"mistral-ocr-latest\",\n",
    "    include_image_base64=True,\n",
    ")\n",
    "\n",
    "# Generate markdown\n",
    "markdown = get_combined_markdown(pdf_response)\n",
    "\n",
    "# Save the markdown output\n",
    "with open(output_md, \"w\") as f:\n",
    "    f.write(markdown)\n",
    "\n",
    "print(f\"Mistral output saved to {output_md}\")"
   ]
  }
 ],
 "metadata": {
  "jupytext": {
   "cell_metadata_filter": "-all",
   "main_language": "python",
   "notebook_metadata_filter": "-all"
  },
  "kernelspec": {
   "display_name": "table-parsing",
   "language": "python",
   "name": "python3"
  },
  "language_info": {
   "codemirror_mode": {
    "name": "ipython",
    "version": 3
   },
   "file_extension": ".py",
   "mimetype": "text/x-python",
   "name": "python",
   "nbconvert_exporter": "python",
   "pygments_lexer": "ipython3",
   "version": "3.11.0"
  }
 },
 "nbformat": 4,
 "nbformat_minor": 5
}
